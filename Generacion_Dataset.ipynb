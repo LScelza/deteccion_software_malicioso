{
  "cells": [
    {
      "cell_type": "code",
      "execution_count": 20,
      "metadata": {
        "id": "fFzLhpCDnjh-"
      },
      "outputs": [],
      "source": [
        "import pandas as pd\n",
        "import os\n",
        "from tqdm import tqdm\n",
        "from random import randint\n",
        "import warnings\n",
        "warnings.filterwarnings('ignore')\n",
        "import matplotlib.pyplot as plt\n"
      ]
    },
    {
      "cell_type": "code",
      "execution_count": 21,
      "metadata": {
        "id": "NP-vsHGToy9O"
      },
      "outputs": [],
      "source": [
        "# Función del grafico de la cantidad de etiquetas del dataset\n",
        "def grafico(diccionario:dict) -> None:\n",
        "    datos_ordenados = sorted(diccionario.items(), key=lambda item: item[1], reverse=True)\n",
        "    etiquetas, alturas = zip(*datos_ordenados)\n",
        "    plt.bar(etiquetas, alturas, color='skyblue')\n",
        "    plt.xlabel('Etiquetas')\n",
        "    plt.ylabel('Cantidad')\n",
        "    plt.title('Gráfico de Barras')\n",
        "    plt.xticks(rotation=90)\n",
        "    plt.show()"
      ]
    },
    {
      "cell_type": "code",
      "execution_count": 22,
      "metadata": {
        "id": "cBTVfhY0o3v9"
      },
      "outputs": [],
      "source": [
        "# Con el dataframe se crea un diccionario se itera en las etiquetas, se agrega la cantidad y porcentaje \n",
        "# de cada etiqueta en el diccionario y al final se muestran los valores\n",
        "def ver_categorias(data:pd.DataFrame) -> None:\n",
        "  diccionario = {}\n",
        "  for categoria in data['label'].unique():\n",
        "    cantidad = data[\"label\"][data[\"label\"]==categoria].count()\n",
        "    porcentaje = round(cantidad/len(data)*100,2)\n",
        "    diccionario[categoria] = cantidad\n",
        "    print(f'\\n\\nCategoría: {categoria}     Cantidad: {cantidad}    Porcentaje: {porcentaje}%')\n",
        "  print('\\n')\n",
        "  print(diccionario)\n",
        "  print('\\n\\n')\n",
        "  grafico(diccionario)\n",
        "  print('\\n\\n\\n\\n')"
      ]
    },
    {
      "cell_type": "code",
      "execution_count": 23,
      "metadata": {
        "id": "hLvou6-ro617"
      },
      "outputs": [],
      "source": [
        "# porcentaje de cada categoria para mostrar en el grafico\n",
        "def porcentaje_categorias(data:pd.DataFrame) -> dict:\n",
        "  porcentaje_categorias = {}\n",
        "  for categoria in data['label'].unique():\n",
        "    cantidad = data[\"label\"][data[\"label\"]==categoria].count()\n",
        "    porcentaje = round(cantidad/len(data)*100,2)\n",
        "    porcentaje_categorias[categoria] = porcentaje\n",
        "  return porcentaje_categorias"
      ]
    },
    {
      "cell_type": "code",
      "execution_count": 24,
      "metadata": {
        "id": "RkTPoN2ro-C4"
      },
      "outputs": [
        {
          "data": {
            "text/plain": [
              "50"
            ]
          },
          "execution_count": 24,
          "metadata": {},
          "output_type": "execute_result"
        }
      ],
      "source": [
        "# se crea una lista con todos los datasets para concatenarlos en uno solo\n",
        "DATASET_DIRECTORY = 'datasets/dataset_originales/'\n",
        "df_sets = [k for k in os.listdir(DATASET_DIRECTORY) if k.endswith('.csv')]\n",
        "len(df_sets)"
      ]
    },
    {
      "cell_type": "code",
      "execution_count": 25,
      "metadata": {
        "id": "uLvrsE7ZpBQa"
      },
      "outputs": [],
      "source": [
        "# De cada dataset se calcula la etiqueta que tiene menos porcentaje de valores\n",
        "def cantidad_minima(data:pd.DataFrame) -> int:\n",
        "  lista = []\n",
        "  for etiqueta in data['label'].unique():\n",
        "    lista.append(data['label'][data['label']==etiqueta].count())\n",
        "  return min(lista)\n"
      ]
    },
    {
      "cell_type": "code",
      "execution_count": 26,
      "metadata": {
        "id": "Yvh59M8xpEiy"
      },
      "outputs": [],
      "source": [
        "df = pd.DataFrame()"
      ]
    },
    {
      "cell_type": "code",
      "execution_count": 27,
      "metadata": {
        "id": "XJsRQdItpHx_"
      },
      "outputs": [],
      "source": [
        "# Función para concatenar todos los datasets\n",
        "def dataset_binario(archivo:str, data:pd.DataFrame) -> pd.DataFrame:\n",
        "  df_original = pd.read_csv(DATASET_DIRECTORY + archivo)# se carga un dataset\n",
        "  etiquetas = list(df_original['label'].unique())\n",
        "  etiquetas.remove('BenignTraffic')\n",
        "  cantidad = cantidad_minima(df_original)\n",
        "  cantidad_benigno = len(df_original[df_original['label']=='BenignTraffic'])//900 # se llego a 900 despues de hacer pruebas para ver como quedaban balanceados los datos\n",
        "  for etiqueta in etiquetas:\n",
        "    data = pd.concat([data, df_original[df_original['label']== etiqueta].sample(cantidad)])\n",
        "    data = pd.concat([data, df_original[df_original['label']=='BenignTraffic'].sample(cantidad_benigno)])\n",
        "  return data"
      ]
    },
    {
      "cell_type": "code",
      "execution_count": 28,
      "metadata": {
        "colab": {
          "base_uri": "https://localhost:8080/"
        },
        "id": "EdcUl4RtpK5O",
        "outputId": "a6f64344-ed93-43ec-e5e3-925caa1e6d75"
      },
      "outputs": [
        {
          "name": "stderr",
          "output_type": "stream",
          "text": [
            "100%|██████████| 50/50 [04:32<00:00,  5.45s/it]\n"
          ]
        },
        {
          "data": {
            "text/plain": [
              "(29964, 47)"
            ]
          },
          "execution_count": 28,
          "metadata": {},
          "output_type": "execute_result"
        }
      ],
      "source": [
        "# se iteran toda la lista de archivos para concatenar todos los archivos\n",
        "for archivo in tqdm(df_sets):\n",
        "  df = dataset_binario(archivo, df)\n",
        "df.shape"
      ]
    },
    {
      "cell_type": "code",
      "execution_count": 29,
      "metadata": {
        "colab": {
          "base_uri": "https://localhost:8080/",
          "height": 1000
        },
        "id": "OnlYHcWIpNwy",
        "outputId": "a9003f27-3bc9-484b-8213-32f6257a474d"
      },
      "outputs": [
        {
          "name": "stdout",
          "output_type": "stream",
          "text": [
            "\n",
            "\n",
            "Categoría: Mirai-greeth_flood     Cantidad: 470    Porcentaje: 1.57%\n",
            "\n",
            "\n",
            "Categoría: BenignTraffic     Cantidad: 14454    Porcentaje: 48.24%\n",
            "\n",
            "\n",
            "Categoría: DDoS-ICMP_Flood     Cantidad: 470    Porcentaje: 1.57%\n",
            "\n",
            "\n",
            "Categoría: DDoS-UDP_Flood     Cantidad: 470    Porcentaje: 1.57%\n",
            "\n",
            "\n",
            "Categoría: DoS-SYN_Flood     Cantidad: 470    Porcentaje: 1.57%\n",
            "\n",
            "\n",
            "Categoría: DoS-UDP_Flood     Cantidad: 470    Porcentaje: 1.57%\n",
            "\n",
            "\n",
            "Categoría: DDoS-RSTFINFlood     Cantidad: 470    Porcentaje: 1.57%\n",
            "\n",
            "\n",
            "Categoría: DDoS-TCP_Flood     Cantidad: 470    Porcentaje: 1.57%\n",
            "\n",
            "\n",
            "Categoría: Recon-OSScan     Cantidad: 470    Porcentaje: 1.57%\n",
            "\n",
            "\n",
            "Categoría: DDoS-SYN_Flood     Cantidad: 470    Porcentaje: 1.57%\n",
            "\n",
            "\n",
            "Categoría: Mirai-greip_flood     Cantidad: 470    Porcentaje: 1.57%\n",
            "\n",
            "\n",
            "Categoría: DDoS-PSHACK_Flood     Cantidad: 470    Porcentaje: 1.57%\n",
            "\n",
            "\n",
            "Categoría: DDoS-SynonymousIP_Flood     Cantidad: 470    Porcentaje: 1.57%\n",
            "\n",
            "\n",
            "Categoría: Mirai-udpplain     Cantidad: 470    Porcentaje: 1.57%\n",
            "\n",
            "\n",
            "Categoría: DoS-TCP_Flood     Cantidad: 470    Porcentaje: 1.57%\n",
            "\n",
            "\n",
            "Categoría: MITM-ArpSpoofing     Cantidad: 470    Porcentaje: 1.57%\n",
            "\n",
            "\n",
            "Categoría: DNS_Spoofing     Cantidad: 470    Porcentaje: 1.57%\n",
            "\n",
            "\n",
            "Categoría: Recon-PortScan     Cantidad: 470    Porcentaje: 1.57%\n",
            "\n",
            "\n",
            "Categoría: DDoS-ICMP_Fragmentation     Cantidad: 470    Porcentaje: 1.57%\n",
            "\n",
            "\n",
            "Categoría: DDoS-ACK_Fragmentation     Cantidad: 470    Porcentaje: 1.57%\n",
            "\n",
            "\n",
            "Categoría: DDoS-UDP_Fragmentation     Cantidad: 470    Porcentaje: 1.57%\n",
            "\n",
            "\n",
            "Categoría: Recon-HostDiscovery     Cantidad: 470    Porcentaje: 1.57%\n",
            "\n",
            "\n",
            "Categoría: DDoS-SlowLoris     Cantidad: 470    Porcentaje: 1.57%\n",
            "\n",
            "\n",
            "Categoría: DoS-HTTP_Flood     Cantidad: 470    Porcentaje: 1.57%\n",
            "\n",
            "\n",
            "Categoría: VulnerabilityScan     Cantidad: 470    Porcentaje: 1.57%\n",
            "\n",
            "\n",
            "Categoría: DDoS-HTTP_Flood     Cantidad: 470    Porcentaje: 1.57%\n",
            "\n",
            "\n",
            "Categoría: XSS     Cantidad: 470    Porcentaje: 1.57%\n",
            "\n",
            "\n",
            "Categoría: DictionaryBruteForce     Cantidad: 470    Porcentaje: 1.57%\n",
            "\n",
            "\n",
            "Categoría: Backdoor_Malware     Cantidad: 470    Porcentaje: 1.57%\n",
            "\n",
            "\n",
            "Categoría: CommandInjection     Cantidad: 470    Porcentaje: 1.57%\n",
            "\n",
            "\n",
            "Categoría: SqlInjection     Cantidad: 470    Porcentaje: 1.57%\n",
            "\n",
            "\n",
            "Categoría: BrowserHijacking     Cantidad: 470    Porcentaje: 1.57%\n",
            "\n",
            "\n",
            "Categoría: Uploading_Attack     Cantidad: 470    Porcentaje: 1.57%\n",
            "\n",
            "\n",
            "Categoría: Recon-PingSweep     Cantidad: 470    Porcentaje: 1.57%\n",
            "\n",
            "\n",
            "{'Mirai-greeth_flood': 470, 'BenignTraffic': 14454, 'DDoS-ICMP_Flood': 470, 'DDoS-UDP_Flood': 470, 'DoS-SYN_Flood': 470, 'DoS-UDP_Flood': 470, 'DDoS-RSTFINFlood': 470, 'DDoS-TCP_Flood': 470, 'Recon-OSScan': 470, 'DDoS-SYN_Flood': 470, 'Mirai-greip_flood': 470, 'DDoS-PSHACK_Flood': 470, 'DDoS-SynonymousIP_Flood': 470, 'Mirai-udpplain': 470, 'DoS-TCP_Flood': 470, 'MITM-ArpSpoofing': 470, 'DNS_Spoofing': 470, 'Recon-PortScan': 470, 'DDoS-ICMP_Fragmentation': 470, 'DDoS-ACK_Fragmentation': 470, 'DDoS-UDP_Fragmentation': 470, 'Recon-HostDiscovery': 470, 'DDoS-SlowLoris': 470, 'DoS-HTTP_Flood': 470, 'VulnerabilityScan': 470, 'DDoS-HTTP_Flood': 470, 'XSS': 470, 'DictionaryBruteForce': 470, 'Backdoor_Malware': 470, 'CommandInjection': 470, 'SqlInjection': 470, 'BrowserHijacking': 470, 'Uploading_Attack': 470, 'Recon-PingSweep': 470}\n",
            "\n",
            "\n",
            "\n"
          ]
        },
        {
          "data": {
            "image/png": "[encoded data removed]",
            "text/plain": [
              "<Figure size 640x480 with 1 Axes>"
            ]
          },
          "metadata": {},
          "output_type": "display_data"
        },
        {
          "name": "stdout",
          "output_type": "stream",
          "text": [
            "\n",
            "\n",
            "\n",
            "\n",
            "\n"
          ]
        }
      ],
      "source": [
        "ver_categorias(df)"
      ]
    },
    {
      "cell_type": "code",
      "execution_count": 31,
      "metadata": {
        "id": "Wf0s7ivxDyNS"
      },
      "outputs": [],
      "source": [
        "# Se asigna el valor de 'malware' a las categorias que no son benigno\n",
        "df['label'][df['label']!='BenignTraffic'] = 'malware'"
      ]
    },
    {
      "cell_type": "code",
      "execution_count": 36,
      "metadata": {
        "colab": {
          "base_uri": "https://localhost:8080/"
        },
        "id": "yz4OTkxRXuNR",
        "outputId": "b84c5ac9-3281-4c31-a6e0-6e06799f95c0"
      },
      "outputs": [
        {
          "data": {
            "text/plain": [
              "array(['malware', 'BenignTraffic'], dtype=object)"
            ]
          },
          "execution_count": 36,
          "metadata": {},
          "output_type": "execute_result"
        }
      ],
      "source": [
        "df['label'].unique()"
      ]
    },
    {
      "cell_type": "code",
      "execution_count": 33,
      "metadata": {
        "colab": {
          "base_uri": "https://localhost:8080/",
          "height": 429
        },
        "id": "LloxZJC2Ec2H",
        "outputId": "f91fbb70-dac1-4ffb-8144-f643768f8285"
      },
      "outputs": [
        {
          "data": {
            "text/html": [
              "<div>\n",
              "<style scoped>\n",
              "    .dataframe tbody tr th:only-of-type {\n",
              "        vertical-align: middle;\n",
              "    }\n",
              "\n",
              "    .dataframe tbody tr th {\n",
              "        vertical-align: top;\n",
              "    }\n",
              "\n",
              "    .dataframe thead th {\n",
              "        text-align: right;\n",
              "    }\n",
              "</style>\n",
              "<table border=\"1\" class=\"dataframe\">\n",
              "  <thead>\n",
              "    <tr style=\"text-align: right;\">\n",
              "      <th></th>\n",
              "      <th>flow_duration</th>\n",
              "      <th>Header_Length</th>\n",
              "      <th>Protocol Type</th>\n",
              "      <th>Duration</th>\n",
              "      <th>Rate</th>\n",
              "      <th>Srate</th>\n",
              "      <th>Drate</th>\n",
              "      <th>fin_flag_number</th>\n",
              "      <th>syn_flag_number</th>\n",
              "      <th>rst_flag_number</th>\n",
              "      <th>...</th>\n",
              "      <th>Std</th>\n",
              "      <th>Tot size</th>\n",
              "      <th>IAT</th>\n",
              "      <th>Number</th>\n",
              "      <th>Magnitue</th>\n",
              "      <th>Radius</th>\n",
              "      <th>Covariance</th>\n",
              "      <th>Variance</th>\n",
              "      <th>Weight</th>\n",
              "      <th>label</th>\n",
              "    </tr>\n",
              "  </thead>\n",
              "  <tbody>\n",
              "    <tr>\n",
              "      <th>67061</th>\n",
              "      <td>19.192480</td>\n",
              "      <td>1708958.50</td>\n",
              "      <td>7.10</td>\n",
              "      <td>215.20</td>\n",
              "      <td>82.082122</td>\n",
              "      <td>82.082122</td>\n",
              "      <td>0.0</td>\n",
              "      <td>0.0</td>\n",
              "      <td>0.0</td>\n",
              "      <td>0.0</td>\n",
              "      <td>...</td>\n",
              "      <td>817.216527</td>\n",
              "      <td>67.30</td>\n",
              "      <td>1.665176e+08</td>\n",
              "      <td>13.5</td>\n",
              "      <td>30.472391</td>\n",
              "      <td>1157.980110</td>\n",
              "      <td>6.737134e+05</td>\n",
              "      <td>1.00</td>\n",
              "      <td>244.60</td>\n",
              "      <td>BenignTraffic</td>\n",
              "    </tr>\n",
              "    <tr>\n",
              "      <th>133720</th>\n",
              "      <td>59.236197</td>\n",
              "      <td>1933231.40</td>\n",
              "      <td>7.10</td>\n",
              "      <td>99.40</td>\n",
              "      <td>51.549592</td>\n",
              "      <td>51.549592</td>\n",
              "      <td>0.0</td>\n",
              "      <td>0.0</td>\n",
              "      <td>0.0</td>\n",
              "      <td>0.0</td>\n",
              "      <td>...</td>\n",
              "      <td>1196.955466</td>\n",
              "      <td>1406.20</td>\n",
              "      <td>1.665251e+08</td>\n",
              "      <td>13.5</td>\n",
              "      <td>38.293753</td>\n",
              "      <td>1695.880058</td>\n",
              "      <td>1.478149e+06</td>\n",
              "      <td>1.00</td>\n",
              "      <td>244.60</td>\n",
              "      <td>BenignTraffic</td>\n",
              "    </tr>\n",
              "    <tr>\n",
              "      <th>45700</th>\n",
              "      <td>4.392549</td>\n",
              "      <td>750277.00</td>\n",
              "      <td>6.00</td>\n",
              "      <td>232.00</td>\n",
              "      <td>147.180682</td>\n",
              "      <td>147.180682</td>\n",
              "      <td>0.0</td>\n",
              "      <td>0.0</td>\n",
              "      <td>0.0</td>\n",
              "      <td>0.0</td>\n",
              "      <td>...</td>\n",
              "      <td>3.975963</td>\n",
              "      <td>66.00</td>\n",
              "      <td>1.665184e+08</td>\n",
              "      <td>13.5</td>\n",
              "      <td>11.395227</td>\n",
              "      <td>5.634970</td>\n",
              "      <td>1.599328e+01</td>\n",
              "      <td>1.00</td>\n",
              "      <td>244.60</td>\n",
              "      <td>BenignTraffic</td>\n",
              "    </tr>\n",
              "    <tr>\n",
              "      <th>53141</th>\n",
              "      <td>182.399167</td>\n",
              "      <td>47029.50</td>\n",
              "      <td>8.20</td>\n",
              "      <td>99.50</td>\n",
              "      <td>3.786263</td>\n",
              "      <td>3.786263</td>\n",
              "      <td>0.0</td>\n",
              "      <td>0.0</td>\n",
              "      <td>0.0</td>\n",
              "      <td>0.0</td>\n",
              "      <td>...</td>\n",
              "      <td>42.925689</td>\n",
              "      <td>107.60</td>\n",
              "      <td>4.960489e-02</td>\n",
              "      <td>5.5</td>\n",
              "      <td>15.054899</td>\n",
              "      <td>60.706091</td>\n",
              "      <td>2.088233e+03</td>\n",
              "      <td>0.90</td>\n",
              "      <td>38.50</td>\n",
              "      <td>malware</td>\n",
              "    </tr>\n",
              "    <tr>\n",
              "      <th>30069</th>\n",
              "      <td>2645.364467</td>\n",
              "      <td>5324.40</td>\n",
              "      <td>5.90</td>\n",
              "      <td>67.70</td>\n",
              "      <td>0.227069</td>\n",
              "      <td>0.227069</td>\n",
              "      <td>0.0</td>\n",
              "      <td>0.0</td>\n",
              "      <td>0.0</td>\n",
              "      <td>0.0</td>\n",
              "      <td>...</td>\n",
              "      <td>53.357741</td>\n",
              "      <td>115.80</td>\n",
              "      <td>1.664391e+08</td>\n",
              "      <td>13.5</td>\n",
              "      <td>14.041897</td>\n",
              "      <td>75.653588</td>\n",
              "      <td>2.872244e+03</td>\n",
              "      <td>1.00</td>\n",
              "      <td>244.60</td>\n",
              "      <td>malware</td>\n",
              "    </tr>\n",
              "    <tr>\n",
              "      <th>220924</th>\n",
              "      <td>0.320425</td>\n",
              "      <td>3387.40</td>\n",
              "      <td>6.00</td>\n",
              "      <td>179.60</td>\n",
              "      <td>31.066251</td>\n",
              "      <td>31.066251</td>\n",
              "      <td>0.0</td>\n",
              "      <td>0.0</td>\n",
              "      <td>0.0</td>\n",
              "      <td>0.0</td>\n",
              "      <td>...</td>\n",
              "      <td>840.906372</td>\n",
              "      <td>650.00</td>\n",
              "      <td>6.642485e-03</td>\n",
              "      <td>5.5</td>\n",
              "      <td>31.450126</td>\n",
              "      <td>1189.221195</td>\n",
              "      <td>1.015877e+06</td>\n",
              "      <td>0.70</td>\n",
              "      <td>38.50</td>\n",
              "      <td>BenignTraffic</td>\n",
              "    </tr>\n",
              "    <tr>\n",
              "      <th>155906</th>\n",
              "      <td>24.532806</td>\n",
              "      <td>1095304.80</td>\n",
              "      <td>7.10</td>\n",
              "      <td>234.40</td>\n",
              "      <td>73.197499</td>\n",
              "      <td>73.197499</td>\n",
              "      <td>0.0</td>\n",
              "      <td>0.0</td>\n",
              "      <td>0.0</td>\n",
              "      <td>0.0</td>\n",
              "      <td>...</td>\n",
              "      <td>774.085271</td>\n",
              "      <td>77.70</td>\n",
              "      <td>1.665193e+08</td>\n",
              "      <td>13.5</td>\n",
              "      <td>30.598690</td>\n",
              "      <td>1096.781989</td>\n",
              "      <td>6.041224e+05</td>\n",
              "      <td>1.00</td>\n",
              "      <td>244.60</td>\n",
              "      <td>BenignTraffic</td>\n",
              "    </tr>\n",
              "    <tr>\n",
              "      <th>354966</th>\n",
              "      <td>350.952769</td>\n",
              "      <td>35758.20</td>\n",
              "      <td>14.80</td>\n",
              "      <td>70.40</td>\n",
              "      <td>1.821904</td>\n",
              "      <td>1.821904</td>\n",
              "      <td>0.0</td>\n",
              "      <td>0.0</td>\n",
              "      <td>0.0</td>\n",
              "      <td>0.0</td>\n",
              "      <td>...</td>\n",
              "      <td>53.939124</td>\n",
              "      <td>56.00</td>\n",
              "      <td>1.665174e+08</td>\n",
              "      <td>13.5</td>\n",
              "      <td>12.814948</td>\n",
              "      <td>76.438916</td>\n",
              "      <td>2.933321e+03</td>\n",
              "      <td>1.00</td>\n",
              "      <td>244.60</td>\n",
              "      <td>BenignTraffic</td>\n",
              "    </tr>\n",
              "    <tr>\n",
              "      <th>77066</th>\n",
              "      <td>134.360241</td>\n",
              "      <td>2090.60</td>\n",
              "      <td>6.50</td>\n",
              "      <td>101.40</td>\n",
              "      <td>2998.210622</td>\n",
              "      <td>2998.210622</td>\n",
              "      <td>0.0</td>\n",
              "      <td>0.0</td>\n",
              "      <td>0.0</td>\n",
              "      <td>0.0</td>\n",
              "      <td>...</td>\n",
              "      <td>59.981316</td>\n",
              "      <td>87.90</td>\n",
              "      <td>1.189959e-02</td>\n",
              "      <td>5.5</td>\n",
              "      <td>14.747920</td>\n",
              "      <td>84.826391</td>\n",
              "      <td>4.161062e+03</td>\n",
              "      <td>0.90</td>\n",
              "      <td>38.50</td>\n",
              "      <td>malware</td>\n",
              "    </tr>\n",
              "    <tr>\n",
              "      <th>116543</th>\n",
              "      <td>69.570534</td>\n",
              "      <td>5658.74</td>\n",
              "      <td>7.21</td>\n",
              "      <td>90.75</td>\n",
              "      <td>5.436640</td>\n",
              "      <td>5.436640</td>\n",
              "      <td>0.0</td>\n",
              "      <td>0.0</td>\n",
              "      <td>0.0</td>\n",
              "      <td>0.0</td>\n",
              "      <td>...</td>\n",
              "      <td>316.452473</td>\n",
              "      <td>171.22</td>\n",
              "      <td>8.300290e+07</td>\n",
              "      <td>9.5</td>\n",
              "      <td>19.222086</td>\n",
              "      <td>447.824226</td>\n",
              "      <td>3.782780e+05</td>\n",
              "      <td>0.95</td>\n",
              "      <td>141.55</td>\n",
              "      <td>malware</td>\n",
              "    </tr>\n",
              "  </tbody>\n",
              "</table>\n",
              "<p>10 rows × 47 columns</p>\n",
              "</div>"
            ],
            "text/plain": [
              "        flow_duration  Header_Length  Protocol Type  Duration         Rate  \\\n",
              "67061       19.192480     1708958.50           7.10    215.20    82.082122   \n",
              "133720      59.236197     1933231.40           7.10     99.40    51.549592   \n",
              "45700        4.392549      750277.00           6.00    232.00   147.180682   \n",
              "53141      182.399167       47029.50           8.20     99.50     3.786263   \n",
              "30069     2645.364467        5324.40           5.90     67.70     0.227069   \n",
              "220924       0.320425        3387.40           6.00    179.60    31.066251   \n",
              "155906      24.532806     1095304.80           7.10    234.40    73.197499   \n",
              "354966     350.952769       35758.20          14.80     70.40     1.821904   \n",
              "77066      134.360241        2090.60           6.50    101.40  2998.210622   \n",
              "116543      69.570534        5658.74           7.21     90.75     5.436640   \n",
              "\n",
              "              Srate  Drate  fin_flag_number  syn_flag_number  rst_flag_number  \\\n",
              "67061     82.082122    0.0              0.0              0.0              0.0   \n",
              "133720    51.549592    0.0              0.0              0.0              0.0   \n",
              "45700    147.180682    0.0              0.0              0.0              0.0   \n",
              "53141      3.786263    0.0              0.0              0.0              0.0   \n",
              "30069      0.227069    0.0              0.0              0.0              0.0   \n",
              "220924    31.066251    0.0              0.0              0.0              0.0   \n",
              "155906    73.197499    0.0              0.0              0.0              0.0   \n",
              "354966     1.821904    0.0              0.0              0.0              0.0   \n",
              "77066   2998.210622    0.0              0.0              0.0              0.0   \n",
              "116543     5.436640    0.0              0.0              0.0              0.0   \n",
              "\n",
              "        ...          Std  Tot size           IAT  Number   Magnitue  \\\n",
              "67061   ...   817.216527     67.30  1.665176e+08    13.5  30.472391   \n",
              "133720  ...  1196.955466   1406.20  1.665251e+08    13.5  38.293753   \n",
              "45700   ...     3.975963     66.00  1.665184e+08    13.5  11.395227   \n",
              "53141   ...    42.925689    107.60  4.960489e-02     5.5  15.054899   \n",
              "30069   ...    53.357741    115.80  1.664391e+08    13.5  14.041897   \n",
              "220924  ...   840.906372    650.00  6.642485e-03     5.5  31.450126   \n",
              "155906  ...   774.085271     77.70  1.665193e+08    13.5  30.598690   \n",
              "354966  ...    53.939124     56.00  1.665174e+08    13.5  12.814948   \n",
              "77066   ...    59.981316     87.90  1.189959e-02     5.5  14.747920   \n",
              "116543  ...   316.452473    171.22  8.300290e+07     9.5  19.222086   \n",
              "\n",
              "             Radius    Covariance  Variance  Weight          label  \n",
              "67061   1157.980110  6.737134e+05      1.00  244.60  BenignTraffic  \n",
              "133720  1695.880058  1.478149e+06      1.00  244.60  BenignTraffic  \n",
              "45700      5.634970  1.599328e+01      1.00  244.60  BenignTraffic  \n",
              "53141     60.706091  2.088233e+03      0.90   38.50        malware  \n",
              "30069     75.653588  2.872244e+03      1.00  244.60        malware  \n",
              "220924  1189.221195  1.015877e+06      0.70   38.50  BenignTraffic  \n",
              "155906  1096.781989  6.041224e+05      1.00  244.60  BenignTraffic  \n",
              "354966    76.438916  2.933321e+03      1.00  244.60  BenignTraffic  \n",
              "77066     84.826391  4.161062e+03      0.90   38.50        malware  \n",
              "116543   447.824226  3.782780e+05      0.95  141.55        malware  \n",
              "\n",
              "[10 rows x 47 columns]"
            ]
          },
          "execution_count": 33,
          "metadata": {},
          "output_type": "execute_result"
        }
      ],
      "source": [
        "df.sample(10)"
      ]
    },
    {
      "cell_type": "code",
      "execution_count": 34,
      "metadata": {
        "colab": {
          "base_uri": "https://localhost:8080/",
          "height": 843
        },
        "id": "bTEPR1_VE0TD",
        "outputId": "ccf76d9f-d268-4b38-bfa2-3caccda2dc5c"
      },
      "outputs": [
        {
          "name": "stdout",
          "output_type": "stream",
          "text": [
            "\n",
            "\n",
            "Categoría: malware     Cantidad: 15510    Porcentaje: 51.76%\n",
            "\n",
            "\n",
            "Categoría: BenignTraffic     Cantidad: 14454    Porcentaje: 48.24%\n",
            "\n",
            "\n",
            "{'malware': 15510, 'BenignTraffic': 14454}\n",
            "\n",
            "\n",
            "\n"
          ]
        },
        {
          "data": {
            "image/png": "[encoded data removed]",
            "text/plain": [
              "<Figure size 640x480 with 1 Axes>"
            ]
          },
          "metadata": {},
          "output_type": "display_data"
        },
        {
          "name": "stdout",
          "output_type": "stream",
          "text": [
            "\n",
            "\n",
            "\n",
            "\n",
            "\n"
          ]
        }
      ],
      "source": [
        "# se visualiza el porcentaje de cada categoria de la etiqueta objetivo\n",
        "ver_categorias(df)"
      ]
    },
    {
      "cell_type": "code",
      "execution_count": 37,
      "metadata": {
        "id": "o5adyJYEmBF3"
      },
      "outputs": [],
      "source": [
        "df.to_parquet('datasets/datasets_entrenamieto/Dataset_binario.parquet', index=False)"
      ]
    }
  ],
  "metadata": {
    "colab": {
      "provenance": []
    },
    "kernelspec": {
      "display_name": "Python 3",
      "name": "python3"
    },
    "language_info": {
      "codemirror_mode": {
        "name": "ipython",
        "version": 3
      },
      "file_extension": ".py",
      "mimetype": "text/x-python",
      "name": "python",
      "nbconvert_exporter": "python",
      "pygments_lexer": "ipython3",
      "version": "3.12.1"
    }
  },
  "nbformat": 4,
  "nbformat_minor": 0
}

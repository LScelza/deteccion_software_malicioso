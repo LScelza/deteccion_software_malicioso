{
  "cells": [
    {
      "cell_type": "code",
      "execution_count": 6,
      "metadata": {
        "id": "2RGovjxk1t33"
      },
      "outputs": [],
      "source": [
        "import numpy as np\n",
        "import pandas as pd\n",
        "import tensorflow as tf\n",
        "from keras.models import Sequential\n",
        "from keras.layers import Conv1D, MaxPooling1D, Dense, Dropout, Flatten, BatchNormalization\n",
        "from sklearn.model_selection import train_test_split\n",
        "from sklearn.preprocessing import LabelEncoder\n",
        "from keras.utils import to_categorical\n",
        "from keras.optimizers import Nadam\n",
        "from sklearn.preprocessing import StandardScaler\n",
        "import warnings\n",
        "warnings.filterwarnings('ignore')\n",
        "import matplotlib.pyplot as plt\n",
        "import seaborn as sns\n",
        "from keras.callbacks import EarlyStopping, ModelCheckpoint\n",
        "from keras.metrics import Precision, Recall\n",
        "from keras.callbacks import ReduceLROnPlateau\n",
        "from keras.regularizers import l2\n",
        "from imblearn.over_sampling import SMOTE\n",
        "import pickle\n",
        "\n",
        "\n"
      ]
    },
    {
      "cell_type": "code",
      "execution_count": 9,
      "metadata": {
        "id": "lw_j7UEp2E6L"
      },
      "outputs": [],
      "source": [
        "df = pd.read_parquet('datasets/datasets_entrenamieto/Dataset_binario.parquet')\n"
      ]
    },
    {
      "cell_type": "code",
      "execution_count": 10,
      "metadata": {
        "colab": {
          "base_uri": "https://localhost:8080/",
          "height": 273
        },
        "id": "Xr-j2TNfiv5Q",
        "outputId": "6878a8f5-5232-41f2-d169-26d1535965a1"
      },
      "outputs": [
        {
          "data": {
            "text/html": [
              "<div>\n",
              "<style scoped>\n",
              "    .dataframe tbody tr th:only-of-type {\n",
              "        vertical-align: middle;\n",
              "    }\n",
              "\n",
              "    .dataframe tbody tr th {\n",
              "        vertical-align: top;\n",
              "    }\n",
              "\n",
              "    .dataframe thead th {\n",
              "        text-align: right;\n",
              "    }\n",
              "</style>\n",
              "<table border=\"1\" class=\"dataframe\">\n",
              "  <thead>\n",
              "    <tr style=\"text-align: right;\">\n",
              "      <th></th>\n",
              "      <th>flow_duration</th>\n",
              "      <th>Header_Length</th>\n",
              "      <th>Protocol Type</th>\n",
              "      <th>Duration</th>\n",
              "      <th>Rate</th>\n",
              "      <th>Srate</th>\n",
              "      <th>Drate</th>\n",
              "      <th>fin_flag_number</th>\n",
              "      <th>syn_flag_number</th>\n",
              "      <th>rst_flag_number</th>\n",
              "      <th>...</th>\n",
              "      <th>Std</th>\n",
              "      <th>Tot size</th>\n",
              "      <th>IAT</th>\n",
              "      <th>Number</th>\n",
              "      <th>Magnitue</th>\n",
              "      <th>Radius</th>\n",
              "      <th>Covariance</th>\n",
              "      <th>Variance</th>\n",
              "      <th>Weight</th>\n",
              "      <th>label</th>\n",
              "    </tr>\n",
              "  </thead>\n",
              "  <tbody>\n",
              "    <tr>\n",
              "      <th>0</th>\n",
              "      <td>0.000000</td>\n",
              "      <td>0.0</td>\n",
              "      <td>47.00</td>\n",
              "      <td>64.00</td>\n",
              "      <td>0.000000</td>\n",
              "      <td>0.000000</td>\n",
              "      <td>0.0</td>\n",
              "      <td>0.0</td>\n",
              "      <td>0.0</td>\n",
              "      <td>0.0</td>\n",
              "      <td>...</td>\n",
              "      <td>0.000000</td>\n",
              "      <td>592.00</td>\n",
              "      <td>8.370269e+07</td>\n",
              "      <td>9.5</td>\n",
              "      <td>34.409301</td>\n",
              "      <td>0.000000</td>\n",
              "      <td>0.000000e+00</td>\n",
              "      <td>0.00</td>\n",
              "      <td>141.55</td>\n",
              "      <td>malware</td>\n",
              "    </tr>\n",
              "    <tr>\n",
              "      <th>1</th>\n",
              "      <td>0.000000</td>\n",
              "      <td>0.0</td>\n",
              "      <td>46.53</td>\n",
              "      <td>63.36</td>\n",
              "      <td>74.822127</td>\n",
              "      <td>74.822127</td>\n",
              "      <td>0.0</td>\n",
              "      <td>0.0</td>\n",
              "      <td>0.0</td>\n",
              "      <td>0.0</td>\n",
              "      <td>...</td>\n",
              "      <td>13.220075</td>\n",
              "      <td>586.68</td>\n",
              "      <td>8.369858e+07</td>\n",
              "      <td>9.5</td>\n",
              "      <td>34.303820</td>\n",
              "      <td>18.736276</td>\n",
              "      <td>1.768157e+03</td>\n",
              "      <td>0.10</td>\n",
              "      <td>141.55</td>\n",
              "      <td>malware</td>\n",
              "    </tr>\n",
              "    <tr>\n",
              "      <th>2</th>\n",
              "      <td>0.000000</td>\n",
              "      <td>0.0</td>\n",
              "      <td>46.06</td>\n",
              "      <td>62.72</td>\n",
              "      <td>6.174918</td>\n",
              "      <td>6.174918</td>\n",
              "      <td>0.0</td>\n",
              "      <td>0.0</td>\n",
              "      <td>0.0</td>\n",
              "      <td>0.0</td>\n",
              "      <td>...</td>\n",
              "      <td>21.798039</td>\n",
              "      <td>581.36</td>\n",
              "      <td>8.370279e+07</td>\n",
              "      <td>9.5</td>\n",
              "      <td>34.144666</td>\n",
              "      <td>30.878937</td>\n",
              "      <td>4.004532e+03</td>\n",
              "      <td>0.12</td>\n",
              "      <td>141.55</td>\n",
              "      <td>malware</td>\n",
              "    </tr>\n",
              "    <tr>\n",
              "      <th>3</th>\n",
              "      <td>87.932481</td>\n",
              "      <td>4595771.2</td>\n",
              "      <td>7.10</td>\n",
              "      <td>69.50</td>\n",
              "      <td>51.141304</td>\n",
              "      <td>51.141304</td>\n",
              "      <td>0.0</td>\n",
              "      <td>0.0</td>\n",
              "      <td>0.0</td>\n",
              "      <td>0.0</td>\n",
              "      <td>...</td>\n",
              "      <td>2184.438627</td>\n",
              "      <td>2574.10</td>\n",
              "      <td>4.974818e-03</td>\n",
              "      <td>5.5</td>\n",
              "      <td>54.141118</td>\n",
              "      <td>3089.262732</td>\n",
              "      <td>8.072414e+06</td>\n",
              "      <td>0.90</td>\n",
              "      <td>38.50</td>\n",
              "      <td>BenignTraffic</td>\n",
              "    </tr>\n",
              "    <tr>\n",
              "      <th>4</th>\n",
              "      <td>54.524670</td>\n",
              "      <td>4196863.0</td>\n",
              "      <td>6.00</td>\n",
              "      <td>64.00</td>\n",
              "      <td>70.124219</td>\n",
              "      <td>70.124219</td>\n",
              "      <td>0.0</td>\n",
              "      <td>0.0</td>\n",
              "      <td>0.0</td>\n",
              "      <td>0.0</td>\n",
              "      <td>...</td>\n",
              "      <td>613.629308</td>\n",
              "      <td>1514.00</td>\n",
              "      <td>1.665187e+08</td>\n",
              "      <td>13.5</td>\n",
              "      <td>34.500917</td>\n",
              "      <td>867.718452</td>\n",
              "      <td>3.837284e+05</td>\n",
              "      <td>1.00</td>\n",
              "      <td>244.60</td>\n",
              "      <td>BenignTraffic</td>\n",
              "    </tr>\n",
              "  </tbody>\n",
              "</table>\n",
              "<p>5 rows × 47 columns</p>\n",
              "</div>"
            ],
            "text/plain": [
              "   flow_duration  Header_Length  Protocol Type  Duration       Rate  \\\n",
              "0       0.000000            0.0          47.00     64.00   0.000000   \n",
              "1       0.000000            0.0          46.53     63.36  74.822127   \n",
              "2       0.000000            0.0          46.06     62.72   6.174918   \n",
              "3      87.932481      4595771.2           7.10     69.50  51.141304   \n",
              "4      54.524670      4196863.0           6.00     64.00  70.124219   \n",
              "\n",
              "       Srate  Drate  fin_flag_number  syn_flag_number  rst_flag_number  ...  \\\n",
              "0   0.000000    0.0              0.0              0.0              0.0  ...   \n",
              "1  74.822127    0.0              0.0              0.0              0.0  ...   \n",
              "2   6.174918    0.0              0.0              0.0              0.0  ...   \n",
              "3  51.141304    0.0              0.0              0.0              0.0  ...   \n",
              "4  70.124219    0.0              0.0              0.0              0.0  ...   \n",
              "\n",
              "           Std  Tot size           IAT  Number   Magnitue       Radius  \\\n",
              "0     0.000000    592.00  8.370269e+07     9.5  34.409301     0.000000   \n",
              "1    13.220075    586.68  8.369858e+07     9.5  34.303820    18.736276   \n",
              "2    21.798039    581.36  8.370279e+07     9.5  34.144666    30.878937   \n",
              "3  2184.438627   2574.10  4.974818e-03     5.5  54.141118  3089.262732   \n",
              "4   613.629308   1514.00  1.665187e+08    13.5  34.500917   867.718452   \n",
              "\n",
              "     Covariance  Variance  Weight          label  \n",
              "0  0.000000e+00      0.00  141.55        malware  \n",
              "1  1.768157e+03      0.10  141.55        malware  \n",
              "2  4.004532e+03      0.12  141.55        malware  \n",
              "3  8.072414e+06      0.90   38.50  BenignTraffic  \n",
              "4  3.837284e+05      1.00  244.60  BenignTraffic  \n",
              "\n",
              "[5 rows x 47 columns]"
            ]
          },
          "execution_count": 10,
          "metadata": {},
          "output_type": "execute_result"
        }
      ],
      "source": [
        "df.head()"
      ]
    },
    {
      "cell_type": "code",
      "execution_count": 11,
      "metadata": {
        "colab": {
          "base_uri": "https://localhost:8080/"
        },
        "id": "ZMuFwI_C2RRw",
        "outputId": "8dba2c21-6150-4c2e-9a3e-06a6b48ea062"
      },
      "outputs": [
        {
          "data": {
            "text/plain": [
              "(29964, 47)"
            ]
          },
          "execution_count": 11,
          "metadata": {},
          "output_type": "execute_result"
        }
      ],
      "source": [
        "df.shape"
      ]
    },
    {
      "cell_type": "code",
      "execution_count": 12,
      "metadata": {
        "colab": {
          "base_uri": "https://localhost:8080/"
        },
        "id": "EIX4ft3OW-Nj",
        "outputId": "4155f190-1163-42dd-db8e-f180004f6a73"
      },
      "outputs": [
        {
          "data": {
            "text/plain": [
              "array(['malware', 'BenignTraffic'], dtype=object)"
            ]
          },
          "execution_count": 12,
          "metadata": {},
          "output_type": "execute_result"
        }
      ],
      "source": [
        "df['label'].unique()"
      ]
    },
    {
      "cell_type": "markdown",
      "metadata": {
        "id": "X2CA0Bf8kVko"
      },
      "source": [
        "## Asignación de variables numéricas a las etiquetas"
      ]
    },
    {
      "cell_type": "code",
      "execution_count": 46,
      "metadata": {
        "id": "PykVdrvDZOfA"
      },
      "outputs": [],
      "source": [
        "df['label'][df['label']=='malware'] = 1"
      ]
    },
    {
      "cell_type": "code",
      "execution_count": 47,
      "metadata": {
        "id": "AtJ_BKCOZUg6"
      },
      "outputs": [],
      "source": [
        "df['label'][df['label']=='BenignTraffic'] = 0"
      ]
    },
    {
      "cell_type": "code",
      "execution_count": 48,
      "metadata": {
        "id": "5C0exdDOXHVT"
      },
      "outputs": [],
      "source": [
        "df['label'] = df['label'].astype(int)"
      ]
    },
    {
      "cell_type": "markdown",
      "metadata": {
        "id": "X4_TzQYekYoe"
      },
      "source": [
        "## Aumento de datos con smote\n",
        "\n",
        "Luego de realizar varias pruebas y observar sobreajuste en el modelo, decidí recurrir a técnicas de data augmentation como smote."
      ]
    },
    {
      "cell_type": "code",
      "execution_count": 13,
      "metadata": {
        "id": "Mn-PTtioWHBC"
      },
      "outputs": [],
      "source": [
        "X = df.drop('label', axis=1)\n",
        "y = df['label']"
      ]
    },
    {
      "cell_type": "code",
      "execution_count": 14,
      "metadata": {
        "id": "TBC0HGcsWNMJ"
      },
      "outputs": [],
      "source": [
        "smote = SMOTE()\n"
      ]
    },
    {
      "cell_type": "code",
      "execution_count": 15,
      "metadata": {
        "id": "mKeMBrCDWh_8"
      },
      "outputs": [],
      "source": [
        "X_sm, y_sm = smote.fit_resample(X, y)"
      ]
    },
    {
      "cell_type": "markdown",
      "metadata": {
        "id": "4uoZBq_ekrdF"
      },
      "source": [
        "Creo un dataframe nuevo con los datos sintéticos."
      ]
    },
    {
      "cell_type": "code",
      "execution_count": 16,
      "metadata": {
        "id": "3bVyejxKXTi2"
      },
      "outputs": [],
      "source": [
        "df_aumentado = pd.concat([pd.DataFrame(X_sm, columns=X.columns), pd.Series(y_sm, name='label')], axis=1)"
      ]
    },
    {
      "cell_type": "markdown",
      "metadata": {
        "id": "bgu-GDmEk9vA"
      },
      "source": [
        "Verifico."
      ]
    },
    {
      "cell_type": "code",
      "execution_count": 17,
      "metadata": {
        "colab": {
          "base_uri": "https://localhost:8080/"
        },
        "id": "rj8Ky_22XYlG",
        "outputId": "8d0f5863-3a68-4989-d968-d8626557d71c"
      },
      "outputs": [
        {
          "data": {
            "text/plain": [
              "(31020, 47)"
            ]
          },
          "execution_count": 17,
          "metadata": {},
          "output_type": "execute_result"
        }
      ],
      "source": [
        "df_aumentado.shape"
      ]
    },
    {
      "cell_type": "code",
      "execution_count": 18,
      "metadata": {
        "colab": {
          "base_uri": "https://localhost:8080/"
        },
        "id": "PNcPLKx7Xge_",
        "outputId": "cb6411ca-8496-4578-a91d-cf912cea933f"
      },
      "outputs": [
        {
          "data": {
            "text/plain": [
              "array(['malware', 'BenignTraffic'], dtype=object)"
            ]
          },
          "execution_count": 18,
          "metadata": {},
          "output_type": "execute_result"
        }
      ],
      "source": [
        "df_aumentado['label'].unique()"
      ]
    },
    {
      "cell_type": "markdown",
      "metadata": {
        "id": "7nUaI4--lDP_"
      },
      "source": [
        "Concateno los datos creados con smote con el df original."
      ]
    },
    {
      "cell_type": "code",
      "execution_count": 19,
      "metadata": {
        "id": "5KSMuGvyX_EW"
      },
      "outputs": [],
      "source": [
        "df = pd.concat([df, df_aumentado])"
      ]
    },
    {
      "cell_type": "code",
      "execution_count": 56,
      "metadata": {
        "colab": {
          "base_uri": "https://localhost:8080/"
        },
        "id": "S9CG7FU4YGnj",
        "outputId": "db171b56-2298-4062-86cd-21736b9e80a8"
      },
      "outputs": [
        {
          "data": {
            "text/plain": [
              "(153780, 47)"
            ]
          },
          "execution_count": 56,
          "metadata": {},
          "output_type": "execute_result"
        }
      ],
      "source": [
        "df.shape"
      ]
    },
    {
      "cell_type": "markdown",
      "metadata": {
        "id": "w7lUxIIYlJGp"
      },
      "source": [
        "## Asignación de X e y (arrays)"
      ]
    },
    {
      "cell_type": "code",
      "execution_count": 20,
      "metadata": {
        "id": "pROwozZx2WOz"
      },
      "outputs": [],
      "source": [
        "X = df.iloc[:, :-1].values\n",
        "y = df.iloc[:, -1].values"
      ]
    },
    {
      "cell_type": "code",
      "execution_count": 21,
      "metadata": {
        "colab": {
          "base_uri": "https://localhost:8080/",
          "height": 461
        },
        "id": "Kl5GcWC-kAge",
        "outputId": "b05dcc89-e234-430d-9756-f45342afac2f"
      },
      "outputs": [
        {
          "data": {
            "text/html": [
              "<div>\n",
              "<style scoped>\n",
              "    .dataframe tbody tr th:only-of-type {\n",
              "        vertical-align: middle;\n",
              "    }\n",
              "\n",
              "    .dataframe tbody tr th {\n",
              "        vertical-align: top;\n",
              "    }\n",
              "\n",
              "    .dataframe thead th {\n",
              "        text-align: right;\n",
              "    }\n",
              "</style>\n",
              "<table border=\"1\" class=\"dataframe\">\n",
              "  <thead>\n",
              "    <tr style=\"text-align: right;\">\n",
              "      <th></th>\n",
              "      <th>flow_duration</th>\n",
              "      <th>Header_Length</th>\n",
              "      <th>Protocol Type</th>\n",
              "      <th>Duration</th>\n",
              "      <th>Rate</th>\n",
              "      <th>Srate</th>\n",
              "      <th>Drate</th>\n",
              "      <th>fin_flag_number</th>\n",
              "      <th>syn_flag_number</th>\n",
              "      <th>rst_flag_number</th>\n",
              "      <th>...</th>\n",
              "      <th>AVG</th>\n",
              "      <th>Std</th>\n",
              "      <th>Tot size</th>\n",
              "      <th>IAT</th>\n",
              "      <th>Number</th>\n",
              "      <th>Magnitue</th>\n",
              "      <th>Radius</th>\n",
              "      <th>Covariance</th>\n",
              "      <th>Variance</th>\n",
              "      <th>Weight</th>\n",
              "    </tr>\n",
              "  </thead>\n",
              "  <tbody>\n",
              "    <tr>\n",
              "      <th>0</th>\n",
              "      <td>0.000000</td>\n",
              "      <td>0.000000e+00</td>\n",
              "      <td>47.000000</td>\n",
              "      <td>64.000000</td>\n",
              "      <td>0.000000</td>\n",
              "      <td>0.000000</td>\n",
              "      <td>0.0</td>\n",
              "      <td>0.0</td>\n",
              "      <td>0.0</td>\n",
              "      <td>0.0</td>\n",
              "      <td>...</td>\n",
              "      <td>592.000000</td>\n",
              "      <td>0.000000</td>\n",
              "      <td>592.000000</td>\n",
              "      <td>8.370269e+07</td>\n",
              "      <td>9.5</td>\n",
              "      <td>34.409301</td>\n",
              "      <td>0.000000</td>\n",
              "      <td>0.000000e+00</td>\n",
              "      <td>0.000000</td>\n",
              "      <td>141.55</td>\n",
              "    </tr>\n",
              "    <tr>\n",
              "      <th>1</th>\n",
              "      <td>0.000000</td>\n",
              "      <td>0.000000e+00</td>\n",
              "      <td>46.530000</td>\n",
              "      <td>63.360000</td>\n",
              "      <td>74.822127</td>\n",
              "      <td>74.822127</td>\n",
              "      <td>0.0</td>\n",
              "      <td>0.0</td>\n",
              "      <td>0.0</td>\n",
              "      <td>0.0</td>\n",
              "      <td>...</td>\n",
              "      <td>588.442136</td>\n",
              "      <td>13.220075</td>\n",
              "      <td>586.680000</td>\n",
              "      <td>8.369858e+07</td>\n",
              "      <td>9.5</td>\n",
              "      <td>34.303820</td>\n",
              "      <td>18.736276</td>\n",
              "      <td>1.768157e+03</td>\n",
              "      <td>0.100000</td>\n",
              "      <td>141.55</td>\n",
              "    </tr>\n",
              "    <tr>\n",
              "      <th>2</th>\n",
              "      <td>0.000000</td>\n",
              "      <td>0.000000e+00</td>\n",
              "      <td>46.060000</td>\n",
              "      <td>62.720000</td>\n",
              "      <td>6.174918</td>\n",
              "      <td>6.174918</td>\n",
              "      <td>0.0</td>\n",
              "      <td>0.0</td>\n",
              "      <td>0.0</td>\n",
              "      <td>0.0</td>\n",
              "      <td>...</td>\n",
              "      <td>583.229161</td>\n",
              "      <td>21.798039</td>\n",
              "      <td>581.360000</td>\n",
              "      <td>8.370279e+07</td>\n",
              "      <td>9.5</td>\n",
              "      <td>34.144666</td>\n",
              "      <td>30.878937</td>\n",
              "      <td>4.004532e+03</td>\n",
              "      <td>0.120000</td>\n",
              "      <td>141.55</td>\n",
              "    </tr>\n",
              "    <tr>\n",
              "      <th>3</th>\n",
              "      <td>87.932481</td>\n",
              "      <td>4.595771e+06</td>\n",
              "      <td>7.100000</td>\n",
              "      <td>69.500000</td>\n",
              "      <td>51.141304</td>\n",
              "      <td>51.141304</td>\n",
              "      <td>0.0</td>\n",
              "      <td>0.0</td>\n",
              "      <td>0.0</td>\n",
              "      <td>0.0</td>\n",
              "      <td>...</td>\n",
              "      <td>1696.472381</td>\n",
              "      <td>2184.438627</td>\n",
              "      <td>2574.100000</td>\n",
              "      <td>4.974818e-03</td>\n",
              "      <td>5.5</td>\n",
              "      <td>54.141118</td>\n",
              "      <td>3089.262732</td>\n",
              "      <td>8.072414e+06</td>\n",
              "      <td>0.900000</td>\n",
              "      <td>38.50</td>\n",
              "    </tr>\n",
              "    <tr>\n",
              "      <th>4</th>\n",
              "      <td>54.524670</td>\n",
              "      <td>4.196863e+06</td>\n",
              "      <td>6.000000</td>\n",
              "      <td>64.000000</td>\n",
              "      <td>70.124219</td>\n",
              "      <td>70.124219</td>\n",
              "      <td>0.0</td>\n",
              "      <td>0.0</td>\n",
              "      <td>0.0</td>\n",
              "      <td>0.0</td>\n",
              "      <td>...</td>\n",
              "      <td>612.161763</td>\n",
              "      <td>613.629308</td>\n",
              "      <td>1514.000000</td>\n",
              "      <td>1.665187e+08</td>\n",
              "      <td>13.5</td>\n",
              "      <td>34.500917</td>\n",
              "      <td>867.718452</td>\n",
              "      <td>3.837284e+05</td>\n",
              "      <td>1.000000</td>\n",
              "      <td>244.60</td>\n",
              "    </tr>\n",
              "    <tr>\n",
              "      <th>...</th>\n",
              "      <td>...</td>\n",
              "      <td>...</td>\n",
              "      <td>...</td>\n",
              "      <td>...</td>\n",
              "      <td>...</td>\n",
              "      <td>...</td>\n",
              "      <td>...</td>\n",
              "      <td>...</td>\n",
              "      <td>...</td>\n",
              "      <td>...</td>\n",
              "      <td>...</td>\n",
              "      <td>...</td>\n",
              "      <td>...</td>\n",
              "      <td>...</td>\n",
              "      <td>...</td>\n",
              "      <td>...</td>\n",
              "      <td>...</td>\n",
              "      <td>...</td>\n",
              "      <td>...</td>\n",
              "      <td>...</td>\n",
              "      <td>...</td>\n",
              "    </tr>\n",
              "    <tr>\n",
              "      <th>31015</th>\n",
              "      <td>175.171982</td>\n",
              "      <td>1.248392e+04</td>\n",
              "      <td>10.119098</td>\n",
              "      <td>101.149072</td>\n",
              "      <td>4.407936</td>\n",
              "      <td>4.407936</td>\n",
              "      <td>0.0</td>\n",
              "      <td>0.0</td>\n",
              "      <td>0.0</td>\n",
              "      <td>0.0</td>\n",
              "      <td>...</td>\n",
              "      <td>183.758371</td>\n",
              "      <td>127.108770</td>\n",
              "      <td>161.580901</td>\n",
              "      <td>1.665169e+08</td>\n",
              "      <td>13.5</td>\n",
              "      <td>19.143098</td>\n",
              "      <td>179.341088</td>\n",
              "      <td>1.617478e+04</td>\n",
              "      <td>1.000000</td>\n",
              "      <td>244.60</td>\n",
              "    </tr>\n",
              "    <tr>\n",
              "      <th>31016</th>\n",
              "      <td>45.977128</td>\n",
              "      <td>4.057342e+04</td>\n",
              "      <td>8.200000</td>\n",
              "      <td>155.548416</td>\n",
              "      <td>111.319426</td>\n",
              "      <td>111.319426</td>\n",
              "      <td>0.0</td>\n",
              "      <td>0.0</td>\n",
              "      <td>0.0</td>\n",
              "      <td>0.0</td>\n",
              "      <td>...</td>\n",
              "      <td>115.939921</td>\n",
              "      <td>60.464077</td>\n",
              "      <td>109.520564</td>\n",
              "      <td>1.752186e-02</td>\n",
              "      <td>5.5</td>\n",
              "      <td>15.165041</td>\n",
              "      <td>85.509118</td>\n",
              "      <td>4.084680e+03</td>\n",
              "      <td>0.900000</td>\n",
              "      <td>38.50</td>\n",
              "    </tr>\n",
              "    <tr>\n",
              "      <th>31017</th>\n",
              "      <td>10.498115</td>\n",
              "      <td>6.318633e+05</td>\n",
              "      <td>7.573461</td>\n",
              "      <td>188.562194</td>\n",
              "      <td>66.259723</td>\n",
              "      <td>66.259723</td>\n",
              "      <td>0.0</td>\n",
              "      <td>0.0</td>\n",
              "      <td>0.0</td>\n",
              "      <td>0.0</td>\n",
              "      <td>...</td>\n",
              "      <td>950.353972</td>\n",
              "      <td>855.260713</td>\n",
              "      <td>382.562227</td>\n",
              "      <td>1.665223e+08</td>\n",
              "      <td>13.5</td>\n",
              "      <td>43.615818</td>\n",
              "      <td>1210.285325</td>\n",
              "      <td>7.338184e+05</td>\n",
              "      <td>1.000000</td>\n",
              "      <td>244.60</td>\n",
              "    </tr>\n",
              "    <tr>\n",
              "      <th>31018</th>\n",
              "      <td>43.246605</td>\n",
              "      <td>2.458525e+06</td>\n",
              "      <td>6.000000</td>\n",
              "      <td>104.872396</td>\n",
              "      <td>57.439003</td>\n",
              "      <td>57.439003</td>\n",
              "      <td>0.0</td>\n",
              "      <td>0.0</td>\n",
              "      <td>0.0</td>\n",
              "      <td>0.0</td>\n",
              "      <td>...</td>\n",
              "      <td>310.684873</td>\n",
              "      <td>412.088809</td>\n",
              "      <td>1081.260439</td>\n",
              "      <td>1.665190e+08</td>\n",
              "      <td>13.5</td>\n",
              "      <td>23.420778</td>\n",
              "      <td>580.339677</td>\n",
              "      <td>2.355211e+05</td>\n",
              "      <td>1.000000</td>\n",
              "      <td>244.60</td>\n",
              "    </tr>\n",
              "    <tr>\n",
              "      <th>31019</th>\n",
              "      <td>31.064137</td>\n",
              "      <td>1.474673e+06</td>\n",
              "      <td>4.990663</td>\n",
              "      <td>82.168074</td>\n",
              "      <td>39.657187</td>\n",
              "      <td>39.657187</td>\n",
              "      <td>0.0</td>\n",
              "      <td>0.0</td>\n",
              "      <td>0.0</td>\n",
              "      <td>0.0</td>\n",
              "      <td>...</td>\n",
              "      <td>391.785753</td>\n",
              "      <td>181.504372</td>\n",
              "      <td>694.966877</td>\n",
              "      <td>2.576469e-02</td>\n",
              "      <td>5.5</td>\n",
              "      <td>22.902217</td>\n",
              "      <td>256.685945</td>\n",
              "      <td>9.915525e+04</td>\n",
              "      <td>0.736446</td>\n",
              "      <td>38.50</td>\n",
              "    </tr>\n",
              "  </tbody>\n",
              "</table>\n",
              "<p>60984 rows × 46 columns</p>\n",
              "</div>"
            ],
            "text/plain": [
              "       flow_duration  Header_Length  Protocol Type    Duration        Rate  \\\n",
              "0           0.000000   0.000000e+00      47.000000   64.000000    0.000000   \n",
              "1           0.000000   0.000000e+00      46.530000   63.360000   74.822127   \n",
              "2           0.000000   0.000000e+00      46.060000   62.720000    6.174918   \n",
              "3          87.932481   4.595771e+06       7.100000   69.500000   51.141304   \n",
              "4          54.524670   4.196863e+06       6.000000   64.000000   70.124219   \n",
              "...              ...            ...            ...         ...         ...   \n",
              "31015     175.171982   1.248392e+04      10.119098  101.149072    4.407936   \n",
              "31016      45.977128   4.057342e+04       8.200000  155.548416  111.319426   \n",
              "31017      10.498115   6.318633e+05       7.573461  188.562194   66.259723   \n",
              "31018      43.246605   2.458525e+06       6.000000  104.872396   57.439003   \n",
              "31019      31.064137   1.474673e+06       4.990663   82.168074   39.657187   \n",
              "\n",
              "            Srate  Drate  fin_flag_number  syn_flag_number  rst_flag_number  \\\n",
              "0        0.000000    0.0              0.0              0.0              0.0   \n",
              "1       74.822127    0.0              0.0              0.0              0.0   \n",
              "2        6.174918    0.0              0.0              0.0              0.0   \n",
              "3       51.141304    0.0              0.0              0.0              0.0   \n",
              "4       70.124219    0.0              0.0              0.0              0.0   \n",
              "...           ...    ...              ...              ...              ...   \n",
              "31015    4.407936    0.0              0.0              0.0              0.0   \n",
              "31016  111.319426    0.0              0.0              0.0              0.0   \n",
              "31017   66.259723    0.0              0.0              0.0              0.0   \n",
              "31018   57.439003    0.0              0.0              0.0              0.0   \n",
              "31019   39.657187    0.0              0.0              0.0              0.0   \n",
              "\n",
              "       ...          AVG          Std     Tot size           IAT  Number  \\\n",
              "0      ...   592.000000     0.000000   592.000000  8.370269e+07     9.5   \n",
              "1      ...   588.442136    13.220075   586.680000  8.369858e+07     9.5   \n",
              "2      ...   583.229161    21.798039   581.360000  8.370279e+07     9.5   \n",
              "3      ...  1696.472381  2184.438627  2574.100000  4.974818e-03     5.5   \n",
              "4      ...   612.161763   613.629308  1514.000000  1.665187e+08    13.5   \n",
              "...    ...          ...          ...          ...           ...     ...   \n",
              "31015  ...   183.758371   127.108770   161.580901  1.665169e+08    13.5   \n",
              "31016  ...   115.939921    60.464077   109.520564  1.752186e-02     5.5   \n",
              "31017  ...   950.353972   855.260713   382.562227  1.665223e+08    13.5   \n",
              "31018  ...   310.684873   412.088809  1081.260439  1.665190e+08    13.5   \n",
              "31019  ...   391.785753   181.504372   694.966877  2.576469e-02     5.5   \n",
              "\n",
              "        Magnitue       Radius    Covariance  Variance  Weight  \n",
              "0      34.409301     0.000000  0.000000e+00  0.000000  141.55  \n",
              "1      34.303820    18.736276  1.768157e+03  0.100000  141.55  \n",
              "2      34.144666    30.878937  4.004532e+03  0.120000  141.55  \n",
              "3      54.141118  3089.262732  8.072414e+06  0.900000   38.50  \n",
              "4      34.500917   867.718452  3.837284e+05  1.000000  244.60  \n",
              "...          ...          ...           ...       ...     ...  \n",
              "31015  19.143098   179.341088  1.617478e+04  1.000000  244.60  \n",
              "31016  15.165041    85.509118  4.084680e+03  0.900000   38.50  \n",
              "31017  43.615818  1210.285325  7.338184e+05  1.000000  244.60  \n",
              "31018  23.420778   580.339677  2.355211e+05  1.000000  244.60  \n",
              "31019  22.902217   256.685945  9.915525e+04  0.736446   38.50  \n",
              "\n",
              "[60984 rows x 46 columns]"
            ]
          },
          "execution_count": 21,
          "metadata": {},
          "output_type": "execute_result"
        }
      ],
      "source": [
        "df.iloc[:, :-1]"
      ]
    },
    {
      "cell_type": "markdown",
      "metadata": {
        "id": "NT8cJv5TlUha"
      },
      "source": [
        "## Separación en conjunto de entrenamiento y de prueba"
      ]
    },
    {
      "cell_type": "code",
      "execution_count": 22,
      "metadata": {
        "id": "GbPRHnFI2qWd"
      },
      "outputs": [],
      "source": [
        "X_train, X_test, y_train, y_test = train_test_split(X, y, test_size=0.15, random_state=83)"
      ]
    },
    {
      "cell_type": "markdown",
      "metadata": {
        "id": "DbICRn26lYvD"
      },
      "source": [
        "## Normalización de datos"
      ]
    },
    {
      "cell_type": "markdown",
      "metadata": {
        "id": "incTHUtnleOM"
      },
      "source": [
        "Se instancia el escalador."
      ]
    },
    {
      "cell_type": "code",
      "execution_count": 60,
      "metadata": {
        "id": "FTYBQF1YI8dX"
      },
      "outputs": [],
      "source": [
        "scaler = StandardScaler()"
      ]
    },
    {
      "cell_type": "markdown",
      "metadata": {
        "id": "cgZ6AJoqlhVl"
      },
      "source": [
        "Se escalan los valores de X_train y X_test."
      ]
    },
    {
      "cell_type": "code",
      "execution_count": 61,
      "metadata": {
        "id": "KZ5xmZaf2skr"
      },
      "outputs": [],
      "source": [
        "X_train_scaled = scaler.fit_transform(X_train)\n",
        "X_test_scaled = scaler.transform(X_test)"
      ]
    },
    {
      "cell_type": "code",
      "execution_count": 62,
      "metadata": {
        "id": "tshEPWRRAJcq"
      },
      "outputs": [],
      "source": [
        "with open('../modelos_entrenados/scaler.pkl', 'wb') as file:\n",
        "    pickle.dump(scaler, file)"
      ]
    },
    {
      "cell_type": "code",
      "execution_count": 63,
      "metadata": {
        "id": "ZfyXof7gcrtq"
      },
      "outputs": [],
      "source": [
        "y_train = y_train.astype(np.float32)\n",
        "y_test = y_test.astype(np.float32)"
      ]
    },
    {
      "cell_type": "markdown",
      "metadata": {
        "id": "Xl5Jks7jlnIn"
      },
      "source": [
        "## Callbacks\n",
        "\n"
      ]
    },
    {
      "cell_type": "markdown",
      "metadata": {
        "id": "dyrXDFaulyuX"
      },
      "source": [
        "### Callback de corte\n",
        "\n",
        "Este callback verifica el valor de accuracy al final de cada ciclo de entrenamiento. Si accuracy supera el 98 % corta el entrenaiento, optimizando recursos."
      ]
    },
    {
      "cell_type": "code",
      "execution_count": 64,
      "metadata": {
        "id": "wtwISO-Z2u3F"
      },
      "outputs": [],
      "source": [
        "class myCallback(tf.keras.callbacks.Callback):\n",
        "  def on_epoch_end(self, epoch, logs={}):\n",
        "    if(logs.get('accuracy') > 0.98):\n",
        "      print(\"\\n¡Accuracy >= 98%!\")\n",
        "      self.model.stop_training = True"
      ]
    },
    {
      "cell_type": "code",
      "execution_count": 65,
      "metadata": {
        "id": "ICBZszwN20W7"
      },
      "outputs": [],
      "source": [
        "callback_end = myCallback()"
      ]
    },
    {
      "cell_type": "markdown",
      "metadata": {
        "id": "kKn4mLTHmEYC"
      },
      "source": [
        "\n",
        "### EarlyStopping:\n",
        "\n",
        "Monitorea val_accuracy y corta el entrenamiento si se estanca en un mínimo local. Solo lo uso para las pruebas previas al modelo final.\n",
        "\n",
        "\n",
        "### ModelCheckpoint:\n",
        "\n",
        "Este callback verifica al final de cada iteración val_accuracy y siempre guarda el mejor modelo en función de esta métrica.\n",
        "\n",
        "\n",
        "### ReduceLROnPlateau:\n",
        "\n",
        "Monitorea val_accuracy en cada epoch y, si queda en un mínimo local, baja el parámetro learning_rate."
      ]
    },
    {
      "cell_type": "code",
      "execution_count": 66,
      "metadata": {
        "id": "0BKlgpP1tf-h"
      },
      "outputs": [],
      "source": [
        "# early_stopping = EarlyStopping(monitor='val_accuracy', patience=100, min_delta=0.003, restore_best_weights=True)\n",
        "model_checkpoint = ModelCheckpoint(filepath='../modelos_entrenados/modelo.h5', monitor='val_accuracy', save_best_only=True)\n",
        "\n",
        "reduce_lr = ReduceLROnPlateau(monitor='val_accuracy', factor=0.2, patience=3, min_lr=1e-6)\n",
        "callbacks = [reduce_lr, model_checkpoint, callback_end]"
      ]
    },
    {
      "cell_type": "markdown",
      "metadata": {
        "id": "Lhg3uNnLnfV9"
      },
      "source": [
        "## Creación del modelo\n",
        "\n",
        "El modelo está compuesto por capas convolucionales para extraer mejor características, capas de agrupamiento, capas de normalización, capas densas y capas de dropout para evitar el sobreajuste. Además, también para evitar el sobreajuste, se utiliza regularización L2."
      ]
    },
    {
      "cell_type": "code",
      "execution_count": 67,
      "metadata": {
        "id": "0NWN_UDl3GIW"
      },
      "outputs": [],
      "source": [
        "model = Sequential([\n",
        "        Conv1D(128, 3, activation='relu', input_shape=(X_train.shape[1], 1), padding='same'),\n",
        "        MaxPooling1D(2),\n",
        "        Conv1D(256, 3, activation='relu',  padding='same'),\n",
        "        BatchNormalization(),\n",
        "        Conv1D(512, 3, activation='relu',  padding='same', kernel_regularizer=l2(0.01)),\n",
        "        BatchNormalization(),\n",
        "        MaxPooling1D(2),\n",
        "        Flatten(),\n",
        "        Dense(1024, activation='relu', kernel_regularizer=l2(0.001)),\n",
        "        BatchNormalization(),\n",
        "        Dense(1024, activation='relu'),\n",
        "        Dense(1024, activation='relu', kernel_regularizer=l2(0.001)),\n",
        "        Dense(512, activation='sigmoid'),\n",
        "        Dense(512, activation='relu'),\n",
        "        Dense(256, activation='relu'),\n",
        "        Dense(256, activation='relu'),\n",
        "        Dropout(0.2),\n",
        "        Dense(1, activation='sigmoid')])\n"
      ]
    },
    {
      "cell_type": "markdown",
      "metadata": {
        "id": "qfwCjxUDoEDp"
      },
      "source": [
        "## Compilación del modelo\n",
        "\n",
        "Se especifican el optimizador, la tasa de aprendizaje, la función de pérdida y las métricas."
      ]
    },
    {
      "cell_type": "code",
      "execution_count": 68,
      "metadata": {
        "id": "OminjJI23Lhy"
      },
      "outputs": [],
      "source": [
        "model.compile(optimizer=Nadam(learning_rate=0.00038), loss= 'binary_crossentropy' , metrics=['accuracy', Precision(), Recall()])"
      ]
    },
    {
      "cell_type": "markdown",
      "metadata": {
        "id": "uhWPfacaoPja"
      },
      "source": [
        "## Entrenamiento del modelo\n",
        "\n",
        "Se especifican la cantidad de iteraciones, el tamaño de cada lote que debe procesar y los callbacks utilizados."
      ]
    },
    {
      "cell_type": "code",
      "execution_count": 69,
      "metadata": {
        "colab": {
          "base_uri": "https://localhost:8080/"
        },
        "id": "BtkJsdAC3P2c",
        "outputId": "4d328cdc-6128-4bc3-c3ce-4a9839e60c8a"
      },
      "outputs": [
        {
          "name": "stdout",
          "output_type": "stream",
          "text": [
            "Epoch 1/75\n",
            "128/128 [==============================] - 11s 40ms/step - loss: 2.7310 - accuracy: 0.8902 - precision_1: 0.9034 - recall_1: 0.8786 - val_loss: 1.2312 - val_accuracy: 0.5137 - val_precision_1: 0.5116 - val_recall_1: 0.9974 - lr: 3.8000e-04\n",
            "Epoch 2/75\n",
            "128/128 [==============================] - 5s 37ms/step - loss: 0.4554 - accuracy: 0.9103 - precision_1: 0.9185 - recall_1: 0.9042 - val_loss: 0.8257 - val_accuracy: 0.5152 - val_precision_1: 0.5124 - val_recall_1: 0.9947 - lr: 3.8000e-04\n",
            "Epoch 3/75\n",
            "128/128 [==============================] - 5s 37ms/step - loss: 0.2655 - accuracy: 0.9128 - precision_1: 0.9226 - recall_1: 0.9048 - val_loss: 0.7455 - val_accuracy: 0.5671 - val_precision_1: 0.5406 - val_recall_1: 0.9985 - lr: 3.8000e-04\n",
            "Epoch 4/75\n",
            "128/128 [==============================] - 5s 36ms/step - loss: 0.2358 - accuracy: 0.9139 - precision_1: 0.9219 - recall_1: 0.9081 - val_loss: 0.3050 - val_accuracy: 0.9073 - val_precision_1: 0.9295 - val_recall_1: 0.8852 - lr: 3.8000e-04\n",
            "Epoch 5/75\n",
            "128/128 [==============================] - 5s 37ms/step - loss: 0.2265 - accuracy: 0.9156 - precision_1: 0.9234 - recall_1: 0.9100 - val_loss: 0.2403 - val_accuracy: 0.9142 - val_precision_1: 0.9360 - val_recall_1: 0.8925 - lr: 3.8000e-04\n",
            "Epoch 6/75\n",
            "128/128 [==============================] - 4s 34ms/step - loss: 0.2205 - accuracy: 0.9175 - precision_1: 0.9244 - recall_1: 0.9129 - val_loss: 0.2443 - val_accuracy: 0.9091 - val_precision_1: 0.9632 - val_recall_1: 0.8543 - lr: 3.8000e-04\n",
            "Epoch 7/75\n",
            "128/128 [==============================] - 5s 36ms/step - loss: 0.2182 - accuracy: 0.9173 - precision_1: 0.9254 - recall_1: 0.9112 - val_loss: 0.2263 - val_accuracy: 0.9153 - val_precision_1: 0.9281 - val_recall_1: 0.9037 - lr: 3.8000e-04\n",
            "Epoch 8/75\n",
            "128/128 [==============================] - 4s 34ms/step - loss: 0.2118 - accuracy: 0.9195 - precision_1: 0.9271 - recall_1: 0.9139 - val_loss: 0.2195 - val_accuracy: 0.9147 - val_precision_1: 0.9404 - val_recall_1: 0.8888 - lr: 3.8000e-04\n",
            "Epoch 9/75\n",
            "128/128 [==============================] - 5s 36ms/step - loss: 0.2096 - accuracy: 0.9198 - precision_1: 0.9299 - recall_1: 0.9114 - val_loss: 0.2231 - val_accuracy: 0.9157 - val_precision_1: 0.9478 - val_recall_1: 0.8831 - lr: 3.8000e-04\n",
            "Epoch 10/75\n",
            "128/128 [==============================] - 4s 34ms/step - loss: 0.2088 - accuracy: 0.9207 - precision_1: 0.9289 - recall_1: 0.9145 - val_loss: 0.2299 - val_accuracy: 0.9123 - val_precision_1: 0.9596 - val_recall_1: 0.8642 - lr: 3.8000e-04\n",
            "Epoch 11/75\n",
            "128/128 [==============================] - 4s 34ms/step - loss: 0.2061 - accuracy: 0.9221 - precision_1: 0.9296 - recall_1: 0.9166 - val_loss: 0.2274 - val_accuracy: 0.9090 - val_precision_1: 0.9634 - val_recall_1: 0.8538 - lr: 3.8000e-04\n",
            "Epoch 12/75\n",
            "128/128 [==============================] - 5s 36ms/step - loss: 0.2030 - accuracy: 0.9225 - precision_1: 0.9314 - recall_1: 0.9154 - val_loss: 0.2128 - val_accuracy: 0.9185 - val_precision_1: 0.9154 - val_recall_1: 0.9255 - lr: 3.8000e-04\n",
            "Epoch 13/75\n",
            "128/128 [==============================] - 4s 34ms/step - loss: 0.2022 - accuracy: 0.9239 - precision_1: 0.9318 - recall_1: 0.9180 - val_loss: 0.2154 - val_accuracy: 0.9173 - val_precision_1: 0.9141 - val_recall_1: 0.9246 - lr: 3.8000e-04\n",
            "Epoch 14/75\n",
            "128/128 [==============================] - 5s 36ms/step - loss: 0.1966 - accuracy: 0.9254 - precision_1: 0.9341 - recall_1: 0.9185 - val_loss: 0.2037 - val_accuracy: 0.9223 - val_precision_1: 0.9293 - val_recall_1: 0.9173 - lr: 3.8000e-04\n",
            "Epoch 15/75\n",
            "128/128 [==============================] - 4s 34ms/step - loss: 0.1945 - accuracy: 0.9264 - precision_1: 0.9348 - recall_1: 0.9198 - val_loss: 0.2061 - val_accuracy: 0.9217 - val_precision_1: 0.9413 - val_recall_1: 0.9025 - lr: 3.8000e-04\n",
            "Epoch 16/75\n",
            "128/128 [==============================] - 5s 36ms/step - loss: 0.1934 - accuracy: 0.9264 - precision_1: 0.9327 - recall_1: 0.9221 - val_loss: 0.2056 - val_accuracy: 0.9224 - val_precision_1: 0.9259 - val_recall_1: 0.9214 - lr: 3.8000e-04\n",
            "Epoch 17/75\n",
            "128/128 [==============================] - 5s 36ms/step - loss: 0.1896 - accuracy: 0.9283 - precision_1: 0.9348 - recall_1: 0.9240 - val_loss: 0.2090 - val_accuracy: 0.9227 - val_precision_1: 0.9325 - val_recall_1: 0.9143 - lr: 3.8000e-04\n",
            "Epoch 18/75\n",
            "128/128 [==============================] - 5s 36ms/step - loss: 0.1901 - accuracy: 0.9285 - precision_1: 0.9378 - recall_1: 0.9209 - val_loss: 0.2028 - val_accuracy: 0.9227 - val_precision_1: 0.9433 - val_recall_1: 0.9026 - lr: 3.8000e-04\n",
            "Epoch 19/75\n",
            "128/128 [==============================] - 4s 34ms/step - loss: 0.1863 - accuracy: 0.9299 - precision_1: 0.9369 - recall_1: 0.9247 - val_loss: 0.2146 - val_accuracy: 0.9204 - val_precision_1: 0.9379 - val_recall_1: 0.9037 - lr: 3.8000e-04\n",
            "Epoch 20/75\n",
            "128/128 [==============================] - 5s 36ms/step - loss: 0.1847 - accuracy: 0.9303 - precision_1: 0.9379 - recall_1: 0.9246 - val_loss: 0.2114 - val_accuracy: 0.9231 - val_precision_1: 0.9454 - val_recall_1: 0.9010 - lr: 3.8000e-04\n",
            "Epoch 21/75\n",
            "128/128 [==============================] - 5s 36ms/step - loss: 0.1821 - accuracy: 0.9323 - precision_1: 0.9387 - recall_1: 0.9279 - val_loss: 0.1973 - val_accuracy: 0.9260 - val_precision_1: 0.9439 - val_recall_1: 0.9088 - lr: 3.8000e-04\n",
            "Epoch 22/75\n",
            "128/128 [==============================] - 4s 34ms/step - loss: 0.1807 - accuracy: 0.9324 - precision_1: 0.9400 - recall_1: 0.9265 - val_loss: 0.1964 - val_accuracy: 0.9250 - val_precision_1: 0.9530 - val_recall_1: 0.8971 - lr: 3.8000e-04\n",
            "Epoch 23/75\n",
            "128/128 [==============================] - 4s 34ms/step - loss: 0.1787 - accuracy: 0.9339 - precision_1: 0.9421 - recall_1: 0.9275 - val_loss: 0.2034 - val_accuracy: 0.9252 - val_precision_1: 0.9349 - val_recall_1: 0.9169 - lr: 3.8000e-04\n",
            "Epoch 24/75\n",
            "128/128 [==============================] - 5s 36ms/step - loss: 0.1763 - accuracy: 0.9353 - precision_1: 0.9419 - recall_1: 0.9306 - val_loss: 0.1947 - val_accuracy: 0.9274 - val_precision_1: 0.9351 - val_recall_1: 0.9214 - lr: 3.8000e-04\n",
            "Epoch 25/75\n",
            "128/128 [==============================] - 4s 34ms/step - loss: 0.1744 - accuracy: 0.9358 - precision_1: 0.9432 - recall_1: 0.9301 - val_loss: 0.2005 - val_accuracy: 0.9273 - val_precision_1: 0.9332 - val_recall_1: 0.9232 - lr: 3.8000e-04\n",
            "Epoch 26/75\n",
            "128/128 [==============================] - 5s 36ms/step - loss: 0.1729 - accuracy: 0.9364 - precision_1: 0.9443 - recall_1: 0.9302 - val_loss: 0.2020 - val_accuracy: 0.9282 - val_precision_1: 0.9416 - val_recall_1: 0.9158 - lr: 3.8000e-04\n",
            "Epoch 27/75\n",
            "128/128 [==============================] - 4s 34ms/step - loss: 0.1697 - accuracy: 0.9384 - precision_1: 0.9452 - recall_1: 0.9333 - val_loss: 0.2074 - val_accuracy: 0.9248 - val_precision_1: 0.9512 - val_recall_1: 0.8985 - lr: 3.8000e-04\n",
            "Epoch 28/75\n",
            "128/128 [==============================] - 4s 34ms/step - loss: 0.1686 - accuracy: 0.9392 - precision_1: 0.9479 - recall_1: 0.9320 - val_loss: 0.2000 - val_accuracy: 0.9263 - val_precision_1: 0.9555 - val_recall_1: 0.8971 - lr: 3.8000e-04\n",
            "Epoch 29/75\n",
            "128/128 [==============================] - 5s 36ms/step - loss: 0.1649 - accuracy: 0.9402 - precision_1: 0.9463 - recall_1: 0.9358 - val_loss: 0.1967 - val_accuracy: 0.9302 - val_precision_1: 0.9312 - val_recall_1: 0.9318 - lr: 3.8000e-04\n",
            "Epoch 30/75\n",
            "128/128 [==============================] - 5s 36ms/step - loss: 0.1659 - accuracy: 0.9409 - precision_1: 0.9491 - recall_1: 0.9341 - val_loss: 0.1949 - val_accuracy: 0.9317 - val_precision_1: 0.9373 - val_recall_1: 0.9280 - lr: 3.8000e-04\n",
            "Epoch 31/75\n",
            "128/128 [==============================] - 4s 34ms/step - loss: 0.1632 - accuracy: 0.9428 - precision_1: 0.9514 - recall_1: 0.9357 - val_loss: 0.1954 - val_accuracy: 0.9289 - val_precision_1: 0.9329 - val_recall_1: 0.9271 - lr: 3.8000e-04\n",
            "Epoch 32/75\n",
            "128/128 [==============================] - 4s 34ms/step - loss: 0.1590 - accuracy: 0.9449 - precision_1: 0.9522 - recall_1: 0.9392 - val_loss: 0.1963 - val_accuracy: 0.9263 - val_precision_1: 0.9243 - val_recall_1: 0.9317 - lr: 3.8000e-04\n",
            "Epoch 33/75\n",
            "128/128 [==============================] - 4s 34ms/step - loss: 0.1573 - accuracy: 0.9450 - precision_1: 0.9530 - recall_1: 0.9385 - val_loss: 0.2070 - val_accuracy: 0.9275 - val_precision_1: 0.9531 - val_recall_1: 0.9021 - lr: 3.8000e-04\n",
            "Epoch 34/75\n",
            "128/128 [==============================] - 5s 36ms/step - loss: 0.1343 - accuracy: 0.9555 - precision_1: 0.9631 - recall_1: 0.9491 - val_loss: 0.1719 - val_accuracy: 0.9422 - val_precision_1: 0.9585 - val_recall_1: 0.9266 - lr: 7.6000e-05\n",
            "Epoch 35/75\n",
            "128/128 [==============================] - 5s 36ms/step - loss: 0.1200 - accuracy: 0.9616 - precision_1: 0.9683 - recall_1: 0.9559 - val_loss: 0.1664 - val_accuracy: 0.9458 - val_precision_1: 0.9496 - val_recall_1: 0.9437 - lr: 7.6000e-05\n",
            "Epoch 36/75\n",
            "128/128 [==============================] - 5s 36ms/step - loss: 0.1123 - accuracy: 0.9647 - precision_1: 0.9711 - recall_1: 0.9593 - val_loss: 0.1608 - val_accuracy: 0.9486 - val_precision_1: 0.9608 - val_recall_1: 0.9373 - lr: 7.6000e-05\n",
            "Epoch 37/75\n",
            "128/128 [==============================] - 5s 36ms/step - loss: 0.1060 - accuracy: 0.9673 - precision_1: 0.9734 - recall_1: 0.9623 - val_loss: 0.1628 - val_accuracy: 0.9511 - val_precision_1: 0.9587 - val_recall_1: 0.9448 - lr: 7.6000e-05\n",
            "Epoch 38/75\n",
            "128/128 [==============================] - 5s 36ms/step - loss: 0.1002 - accuracy: 0.9696 - precision_1: 0.9750 - recall_1: 0.9652 - val_loss: 0.1562 - val_accuracy: 0.9519 - val_precision_1: 0.9658 - val_recall_1: 0.9388 - lr: 7.6000e-05\n",
            "Epoch 39/75\n",
            "128/128 [==============================] - 5s 36ms/step - loss: 0.0943 - accuracy: 0.9720 - precision_1: 0.9780 - recall_1: 0.9669 - val_loss: 0.1565 - val_accuracy: 0.9538 - val_precision_1: 0.9560 - val_recall_1: 0.9532 - lr: 7.6000e-05\n",
            "Epoch 40/75\n",
            "128/128 [==============================] - 4s 34ms/step - loss: 0.0891 - accuracy: 0.9740 - precision_1: 0.9792 - recall_1: 0.9696 - val_loss: 0.1599 - val_accuracy: 0.9524 - val_precision_1: 0.9452 - val_recall_1: 0.9625 - lr: 7.6000e-05\n",
            "Epoch 41/75\n",
            "128/128 [==============================] - 5s 36ms/step - loss: 0.0862 - accuracy: 0.9758 - precision_1: 0.9801 - recall_1: 0.9722 - val_loss: 0.1481 - val_accuracy: 0.9593 - val_precision_1: 0.9716 - val_recall_1: 0.9478 - lr: 7.6000e-05\n",
            "Epoch 42/75\n",
            "128/128 [==============================] - 5s 36ms/step - loss: 0.0810 - accuracy: 0.9775 - precision_1: 0.9818 - recall_1: 0.9739 - val_loss: 0.1450 - val_accuracy: 0.9596 - val_precision_1: 0.9718 - val_recall_1: 0.9482 - lr: 7.6000e-05\n",
            "Epoch 43/75\n",
            "128/128 [==============================] - 5s 36ms/step - loss: 0.0779 - accuracy: 0.9792 - precision_1: 0.9829 - recall_1: 0.9762 - val_loss: 0.1440 - val_accuracy: 0.9614 - val_precision_1: 0.9681 - val_recall_1: 0.9557 - lr: 7.6000e-05\n",
            "Epoch 44/75\n",
            "127/128 [============================>.] - ETA: 0s - loss: 0.0741 - accuracy: 0.9802 - precision_1: 0.9835 - recall_1: 0.9776\n",
            "¡Accuracy >= 98%!\n",
            "128/128 [==============================] - 5s 36ms/step - loss: 0.0741 - accuracy: 0.9802 - precision_1: 0.9834 - recall_1: 0.9777 - val_loss: 0.1407 - val_accuracy: 0.9630 - val_precision_1: 0.9797 - val_recall_1: 0.9470 - lr: 7.6000e-05\n"
          ]
        }
      ],
      "source": [
        "historial = model.fit(X_train_scaled, y_train, epochs=75, batch_size=1024, validation_data=(X_test_scaled, y_test), callbacks=callbacks)"
      ]
    },
    {
      "cell_type": "markdown",
      "metadata": {
        "id": "jpYra-6womyP"
      },
      "source": [
        "## Función para mostrar las métricas"
      ]
    },
    {
      "cell_type": "code",
      "execution_count": 70,
      "metadata": {
        "id": "St6afW7X3nl8"
      },
      "outputs": [],
      "source": [
        "def grafico_metricas(historial:any, metricas:list) -> None:\n",
        "    for metrica in metricas:\n",
        "        plt.plot(historial.history[metrica])\n",
        "    plt.xlabel(\"Epochs\")\n",
        "    plt.legend(metricas)\n",
        "    plt.show()"
      ]
    },
    {
      "cell_type": "markdown",
      "metadata": {
        "id": "pSCnIWMiorRM"
      },
      "source": [
        "## Gráfico de la función de pérdida"
      ]
    },
    {
      "cell_type": "code",
      "execution_count": 71,
      "metadata": {
        "colab": {
          "base_uri": "https://localhost:8080/",
          "height": 449
        },
        "id": "vI-y8k103r-u",
        "outputId": "ffdc3708-51d9-41a1-804b-2f1d26f75fe6"
      },
      "outputs": [
        {
          "data": {
            "image/png": "[encoded data removed]",
            "text/plain": [
              "<Figure size 640x480 with 1 Axes>"
            ]
          },
          "metadata": {},
          "output_type": "display_data"
        }
      ],
      "source": [
        "grafico_metricas(historial, ['loss', 'val_loss'])"
      ]
    },
    {
      "cell_type": "markdown",
      "metadata": {
        "id": "fvaLNcaqoxa2"
      },
      "source": [
        "## Gráfico de accuracy y val_accuracy"
      ]
    },
    {
      "cell_type": "code",
      "execution_count": 72,
      "metadata": {
        "colab": {
          "base_uri": "https://localhost:8080/",
          "height": 452
        },
        "id": "1V05c0bu3sg2",
        "outputId": "becaa574-0d88-4336-823e-8ad665429254"
      },
      "outputs": [
        {
          "data": {
            "image/png": "[encoded data removed]",
            "text/plain": [
              "<Figure size 640x480 with 1 Axes>"
            ]
          },
          "metadata": {},
          "output_type": "display_data"
        }
      ],
      "source": [
        "grafico_metricas(historial, ['accuracy', 'val_accuracy'])"
      ]
    },
    {
      "cell_type": "markdown",
      "metadata": {
        "id": "11d8VyGCo3ID"
      },
      "source": [
        "## Gráfico de tasa de aprendizaje"
      ]
    },
    {
      "cell_type": "code",
      "execution_count": 73,
      "metadata": {
        "colab": {
          "base_uri": "https://localhost:8080/",
          "height": 449
        },
        "id": "Hkvlz_drUMKF",
        "outputId": "5135370e-3a14-4424-c2bb-80db693989c3"
      },
      "outputs": [
        {
          "data": {
            "image/png": "[encoded data removed]",
            "text/plain": [
              "<Figure size 640x480 with 1 Axes>"
            ]
          },
          "metadata": {},
          "output_type": "display_data"
        }
      ],
      "source": [
        "grafico_metricas(historial, ['lr'])"
      ]
    },
    {
      "cell_type": "markdown",
      "metadata": {
        "id": "8X2qNNKCpDRN"
      },
      "source": [
        "## Evaluación del modelo"
      ]
    },
    {
      "cell_type": "code",
      "execution_count": 74,
      "metadata": {
        "colab": {
          "base_uri": "https://localhost:8080/"
        },
        "id": "A4cgp5ugs4n7",
        "outputId": "28c0b90b-4e48-40e3-eeab-6c073ae3d2c9"
      },
      "outputs": [
        {
          "name": "stdout",
          "output_type": "stream",
          "text": [
            "4085/4085 [==============================] - 12s 3ms/step - loss: 0.0671 - accuracy: 0.9829 - precision_1: 0.9930 - recall_1: 0.9734\n"
          ]
        }
      ],
      "source": [
        "metricas_train = model.evaluate(X_train_scaled, y_train)"
      ]
    },
    {
      "cell_type": "code",
      "execution_count": 75,
      "metadata": {
        "colab": {
          "base_uri": "https://localhost:8080/"
        },
        "id": "mTQIVCWzs2vE",
        "outputId": "ac628c0b-cd87-4c18-e88a-9386461f94b9"
      },
      "outputs": [
        {
          "name": "stdout",
          "output_type": "stream",
          "text": [
            "721/721 [==============================] - 2s 3ms/step - loss: 0.1407 - accuracy: 0.9629 - precision_1: 0.9797 - recall_1: 0.9469\n"
          ]
        }
      ],
      "source": [
        "metricas_test = model.evaluate(X_test_scaled, y_test)"
      ]
    },
    {
      "cell_type": "code",
      "execution_count": 98,
      "metadata": {
        "id": "Qkv3q2SsBxrr"
      },
      "outputs": [],
      "source": [
        "df_train = pd.DataFrame(metricas_train, index=['loss', 'accuracy', 'precision', 'recall'])\n",
        "df_train.columns = ['Porcentaje']\n",
        "df_train.index.name = 'Métrica'"
      ]
    },
    {
      "cell_type": "code",
      "execution_count": 100,
      "metadata": {
        "id": "rrHziF-lB75b"
      },
      "outputs": [],
      "source": [
        "df_test = pd.DataFrame(metricas_test, index=['loss', 'accuracy', 'precision', 'recall'])\n",
        "df_test.columns = ['Porcentaje']\n",
        "df_test.index.name = 'Métrica'"
      ]
    },
    {
      "cell_type": "code",
      "execution_count": 101,
      "metadata": {
        "colab": {
          "base_uri": "https://localhost:8080/",
          "height": 206
        },
        "id": "g3lZh4EwCJL5",
        "outputId": "a54de493-c0e4-4bd2-fb38-e418b6c60438"
      },
      "outputs": [
        {
          "data": {
            "application/vnd.google.colaboratory.intrinsic+json": {
              "summary": "{\n  \"name\": \"df_train\",\n  \"rows\": 4,\n  \"fields\": [\n    {\n      \"column\": \"M\\u00e9trica\",\n      \"properties\": {\n        \"dtype\": \"string\",\n        \"num_unique_values\": 4,\n        \"samples\": [\n          \"accuracy\",\n          \"recall\",\n          \"loss\"\n        ],\n        \"semantic_type\": \"\",\n        \"description\": \"\"\n      }\n    },\n    {\n      \"column\": \"Porcentaje\",\n      \"properties\": {\n        \"dtype\": \"number\",\n        \"std\": 0.4580868364251332,\n        \"min\": 0.06707477569580078,\n        \"max\": 0.9930060505867004,\n        \"num_unique_values\": 4,\n        \"samples\": [\n          0.9829320907592773,\n          0.9733869433403015,\n          0.06707477569580078\n        ],\n        \"semantic_type\": \"\",\n        \"description\": \"\"\n      }\n    }\n  ]\n}",
              "type": "dataframe",
              "variable_name": "df_train"
            },
            "text/html": [
              "\n",
              "  <div id=\"df-25776d7a-93f9-403c-87d0-bda0fb005787\" class=\"colab-df-container\">\n",
              "    <div>\n",
              "<style scoped>\n",
              "    .dataframe tbody tr th:only-of-type {\n",
              "        vertical-align: middle;\n",
              "    }\n",
              "\n",
              "    .dataframe tbody tr th {\n",
              "        vertical-align: top;\n",
              "    }\n",
              "\n",
              "    .dataframe thead th {\n",
              "        text-align: right;\n",
              "    }\n",
              "</style>\n",
              "<table border=\"1\" class=\"dataframe\">\n",
              "  <thead>\n",
              "    <tr style=\"text-align: right;\">\n",
              "      <th></th>\n",
              "      <th>Porcentaje</th>\n",
              "    </tr>\n",
              "    <tr>\n",
              "      <th>Métrica</th>\n",
              "      <th></th>\n",
              "    </tr>\n",
              "  </thead>\n",
              "  <tbody>\n",
              "    <tr>\n",
              "      <th>loss</th>\n",
              "      <td>0.067075</td>\n",
              "    </tr>\n",
              "    <tr>\n",
              "      <th>accuracy</th>\n",
              "      <td>0.982932</td>\n",
              "    </tr>\n",
              "    <tr>\n",
              "      <th>precision</th>\n",
              "      <td>0.993006</td>\n",
              "    </tr>\n",
              "    <tr>\n",
              "      <th>recall</th>\n",
              "      <td>0.973387</td>\n",
              "    </tr>\n",
              "  </tbody>\n",
              "</table>\n",
              "</div>\n",
              "    <div class=\"colab-df-buttons\">\n",
              "\n",
              "  <div class=\"colab-df-container\">\n",
              "    <button class=\"colab-df-convert\" onclick=\"convertToInteractive('df-25776d7a-93f9-403c-87d0-bda0fb005787')\"\n",
              "            title=\"Convert this dataframe to an interactive table.\"\n",
              "            style=\"display:none;\">\n",
              "\n",
              "  <svg xmlns=\"http://www.w3.org/2000/svg\" height=\"24px\" viewBox=\"0 -960 960 960\">\n",
              "    <path d=\"M120-120v-720h720v720H120Zm60-500h600v-160H180v160Zm220 220h160v-160H400v160Zm0 220h160v-160H400v160ZM180-400h160v-160H180v160Zm440 0h160v-160H620v160ZM180-180h160v-160H180v160Zm440 0h160v-160H620v160Z\"/>\n",
              "  </svg>\n",
              "    </button>\n",
              "\n",
              "  <style>\n",
              "    .colab-df-container {\n",
              "      display:flex;\n",
              "      gap: 12px;\n",
              "    }\n",
              "\n",
              "    .colab-df-convert {\n",
              "      background-color: #E8F0FE;\n",
              "      border: none;\n",
              "      border-radius: 50%;\n",
              "      cursor: pointer;\n",
              "      display: none;\n",
              "      fill: #1967D2;\n",
              "      height: 32px;\n",
              "      padding: 0 0 0 0;\n",
              "      width: 32px;\n",
              "    }\n",
              "\n",
              "    .colab-df-convert:hover {\n",
              "      background-color: #E2EBFA;\n",
              "      box-shadow: 0px 1px 2px rgba(60, 64, 67, 0.3), 0px 1px 3px 1px rgba(60, 64, 67, 0.15);\n",
              "      fill: #174EA6;\n",
              "    }\n",
              "\n",
              "    .colab-df-buttons div {\n",
              "      margin-bottom: 4px;\n",
              "    }\n",
              "\n",
              "    [theme=dark] .colab-df-convert {\n",
              "      background-color: #3B4455;\n",
              "      fill: #D2E3FC;\n",
              "    }\n",
              "\n",
              "    [theme=dark] .colab-df-convert:hover {\n",
              "      background-color: #434B5C;\n",
              "      box-shadow: 0px 1px 3px 1px rgba(0, 0, 0, 0.15);\n",
              "      filter: drop-shadow(0px 1px 2px rgba(0, 0, 0, 0.3));\n",
              "      fill: #FFFFFF;\n",
              "    }\n",
              "  </style>\n",
              "\n",
              "    <script>\n",
              "      const buttonEl =\n",
              "        document.querySelector('#df-25776d7a-93f9-403c-87d0-bda0fb005787 button.colab-df-convert');\n",
              "      buttonEl.style.display =\n",
              "        google.colab.kernel.accessAllowed ? 'block' : 'none';\n",
              "\n",
              "      async function convertToInteractive(key) {\n",
              "        const element = document.querySelector('#df-25776d7a-93f9-403c-87d0-bda0fb005787');\n",
              "        const dataTable =\n",
              "          await google.colab.kernel.invokeFunction('convertToInteractive',\n",
              "                                                    [key], {});\n",
              "        if (!dataTable) return;\n",
              "\n",
              "        const docLinkHtml = 'Like what you see? Visit the ' +\n",
              "          '<a target=\"_blank\" href=https://colab.research.google.com/notebooks/data_table.ipynb>data table notebook</a>'\n",
              "          + ' to learn more about interactive tables.';\n",
              "        element.innerHTML = '';\n",
              "        dataTable['output_type'] = 'display_data';\n",
              "        await google.colab.output.renderOutput(dataTable, element);\n",
              "        const docLink = document.createElement('div');\n",
              "        docLink.innerHTML = docLinkHtml;\n",
              "        element.appendChild(docLink);\n",
              "      }\n",
              "    </script>\n",
              "  </div>\n",
              "\n",
              "\n",
              "<div id=\"df-d41116dc-d441-461d-806e-223b3a784aa2\">\n",
              "  <button class=\"colab-df-quickchart\" onclick=\"quickchart('df-d41116dc-d441-461d-806e-223b3a784aa2')\"\n",
              "            title=\"Suggest charts\"\n",
              "            style=\"display:none;\">\n",
              "\n",
              "<svg xmlns=\"http://www.w3.org/2000/svg\" height=\"24px\"viewBox=\"0 0 24 24\"\n",
              "     width=\"24px\">\n",
              "    <g>\n",
              "        <path d=\"M19 3H5c-1.1 0-2 .9-2 2v14c0 1.1.9 2 2 2h14c1.1 0 2-.9 2-2V5c0-1.1-.9-2-2-2zM9 17H7v-7h2v7zm4 0h-2V7h2v10zm4 0h-2v-4h2v4z\"/>\n",
              "    </g>\n",
              "</svg>\n",
              "  </button>\n",
              "\n",
              "<style>\n",
              "  .colab-df-quickchart {\n",
              "      --bg-color: #E8F0FE;\n",
              "      --fill-color: #1967D2;\n",
              "      --hover-bg-color: #E2EBFA;\n",
              "      --hover-fill-color: #174EA6;\n",
              "      --disabled-fill-color: #AAA;\n",
              "      --disabled-bg-color: #DDD;\n",
              "  }\n",
              "\n",
              "  [theme=dark] .colab-df-quickchart {\n",
              "      --bg-color: #3B4455;\n",
              "      --fill-color: #D2E3FC;\n",
              "      --hover-bg-color: #434B5C;\n",
              "      --hover-fill-color: #FFFFFF;\n",
              "      --disabled-bg-color: #3B4455;\n",
              "      --disabled-fill-color: #666;\n",
              "  }\n",
              "\n",
              "  .colab-df-quickchart {\n",
              "    background-color: var(--bg-color);\n",
              "    border: none;\n",
              "    border-radius: 50%;\n",
              "    cursor: pointer;\n",
              "    display: none;\n",
              "    fill: var(--fill-color);\n",
              "    height: 32px;\n",
              "    padding: 0;\n",
              "    width: 32px;\n",
              "  }\n",
              "\n",
              "  .colab-df-quickchart:hover {\n",
              "    background-color: var(--hover-bg-color);\n",
              "    box-shadow: 0 1px 2px rgba(60, 64, 67, 0.3), 0 1px 3px 1px rgba(60, 64, 67, 0.15);\n",
              "    fill: var(--button-hover-fill-color);\n",
              "  }\n",
              "\n",
              "  .colab-df-quickchart-complete:disabled,\n",
              "  .colab-df-quickchart-complete:disabled:hover {\n",
              "    background-color: var(--disabled-bg-color);\n",
              "    fill: var(--disabled-fill-color);\n",
              "    box-shadow: none;\n",
              "  }\n",
              "\n",
              "  .colab-df-spinner {\n",
              "    border: 2px solid var(--fill-color);\n",
              "    border-color: transparent;\n",
              "    border-bottom-color: var(--fill-color);\n",
              "    animation:\n",
              "      spin 1s steps(1) infinite;\n",
              "  }\n",
              "\n",
              "  @keyframes spin {\n",
              "    0% {\n",
              "      border-color: transparent;\n",
              "      border-bottom-color: var(--fill-color);\n",
              "      border-left-color: var(--fill-color);\n",
              "    }\n",
              "    20% {\n",
              "      border-color: transparent;\n",
              "      border-left-color: var(--fill-color);\n",
              "      border-top-color: var(--fill-color);\n",
              "    }\n",
              "    30% {\n",
              "      border-color: transparent;\n",
              "      border-left-color: var(--fill-color);\n",
              "      border-top-color: var(--fill-color);\n",
              "      border-right-color: var(--fill-color);\n",
              "    }\n",
              "    40% {\n",
              "      border-color: transparent;\n",
              "      border-right-color: var(--fill-color);\n",
              "      border-top-color: var(--fill-color);\n",
              "    }\n",
              "    60% {\n",
              "      border-color: transparent;\n",
              "      border-right-color: var(--fill-color);\n",
              "    }\n",
              "    80% {\n",
              "      border-color: transparent;\n",
              "      border-right-color: var(--fill-color);\n",
              "      border-bottom-color: var(--fill-color);\n",
              "    }\n",
              "    90% {\n",
              "      border-color: transparent;\n",
              "      border-bottom-color: var(--fill-color);\n",
              "    }\n",
              "  }\n",
              "</style>\n",
              "\n",
              "  <script>\n",
              "    async function quickchart(key) {\n",
              "      const quickchartButtonEl =\n",
              "        document.querySelector('#' + key + ' button');\n",
              "      quickchartButtonEl.disabled = true;  // To prevent multiple clicks.\n",
              "      quickchartButtonEl.classList.add('colab-df-spinner');\n",
              "      try {\n",
              "        const charts = await google.colab.kernel.invokeFunction(\n",
              "            'suggestCharts', [key], {});\n",
              "      } catch (error) {\n",
              "        console.error('Error during call to suggestCharts:', error);\n",
              "      }\n",
              "      quickchartButtonEl.classList.remove('colab-df-spinner');\n",
              "      quickchartButtonEl.classList.add('colab-df-quickchart-complete');\n",
              "    }\n",
              "    (() => {\n",
              "      let quickchartButtonEl =\n",
              "        document.querySelector('#df-d41116dc-d441-461d-806e-223b3a784aa2 button');\n",
              "      quickchartButtonEl.style.display =\n",
              "        google.colab.kernel.accessAllowed ? 'block' : 'none';\n",
              "    })();\n",
              "  </script>\n",
              "</div>\n",
              "\n",
              "  <div id=\"id_e1a27533-bd35-4f79-a3ea-53433aed45a5\">\n",
              "    <style>\n",
              "      .colab-df-generate {\n",
              "        background-color: #E8F0FE;\n",
              "        border: none;\n",
              "        border-radius: 50%;\n",
              "        cursor: pointer;\n",
              "        display: none;\n",
              "        fill: #1967D2;\n",
              "        height: 32px;\n",
              "        padding: 0 0 0 0;\n",
              "        width: 32px;\n",
              "      }\n",
              "\n",
              "      .colab-df-generate:hover {\n",
              "        background-color: #E2EBFA;\n",
              "        box-shadow: 0px 1px 2px rgba(60, 64, 67, 0.3), 0px 1px 3px 1px rgba(60, 64, 67, 0.15);\n",
              "        fill: #174EA6;\n",
              "      }\n",
              "\n",
              "      [theme=dark] .colab-df-generate {\n",
              "        background-color: #3B4455;\n",
              "        fill: #D2E3FC;\n",
              "      }\n",
              "\n",
              "      [theme=dark] .colab-df-generate:hover {\n",
              "        background-color: #434B5C;\n",
              "        box-shadow: 0px 1px 3px 1px rgba(0, 0, 0, 0.15);\n",
              "        filter: drop-shadow(0px 1px 2px rgba(0, 0, 0, 0.3));\n",
              "        fill: #FFFFFF;\n",
              "      }\n",
              "    </style>\n",
              "    <button class=\"colab-df-generate\" onclick=\"generateWithVariable('df_train')\"\n",
              "            title=\"Generate code using this dataframe.\"\n",
              "            style=\"display:none;\">\n",
              "\n",
              "  <svg xmlns=\"http://www.w3.org/2000/svg\" height=\"24px\"viewBox=\"0 0 24 24\"\n",
              "       width=\"24px\">\n",
              "    <path d=\"M7,19H8.4L18.45,9,17,7.55,7,17.6ZM5,21V16.75L18.45,3.32a2,2,0,0,1,2.83,0l1.4,1.43a1.91,1.91,0,0,1,.58,1.4,1.91,1.91,0,0,1-.58,1.4L9.25,21ZM18.45,9,17,7.55Zm-12,3A5.31,5.31,0,0,0,4.9,8.1,5.31,5.31,0,0,0,1,6.5,5.31,5.31,0,0,0,4.9,4.9,5.31,5.31,0,0,0,6.5,1,5.31,5.31,0,0,0,8.1,4.9,5.31,5.31,0,0,0,12,6.5,5.46,5.46,0,0,0,6.5,12Z\"/>\n",
              "  </svg>\n",
              "    </button>\n",
              "    <script>\n",
              "      (() => {\n",
              "      const buttonEl =\n",
              "        document.querySelector('#id_e1a27533-bd35-4f79-a3ea-53433aed45a5 button.colab-df-generate');\n",
              "      buttonEl.style.display =\n",
              "        google.colab.kernel.accessAllowed ? 'block' : 'none';\n",
              "\n",
              "      buttonEl.onclick = () => {\n",
              "        google.colab.notebook.generateWithVariable('df_train');\n",
              "      }\n",
              "      })();\n",
              "    </script>\n",
              "  </div>\n",
              "\n",
              "    </div>\n",
              "  </div>\n"
            ],
            "text/plain": [
              "           Porcentaje\n",
              "Métrica              \n",
              "loss         0.067075\n",
              "accuracy     0.982932\n",
              "precision    0.993006\n",
              "recall       0.973387"
            ]
          },
          "execution_count": 101,
          "metadata": {},
          "output_type": "execute_result"
        }
      ],
      "source": [
        "df_train"
      ]
    },
    {
      "cell_type": "code",
      "execution_count": 102,
      "metadata": {
        "colab": {
          "base_uri": "https://localhost:8080/",
          "height": 206
        },
        "id": "ixXONMDcCOsc",
        "outputId": "816af3a8-baf7-46af-de32-4df1e51db16f"
      },
      "outputs": [
        {
          "data": {
            "application/vnd.google.colaboratory.intrinsic+json": {
              "summary": "{\n  \"name\": \"df_test\",\n  \"rows\": 4,\n  \"fields\": [\n    {\n      \"column\": \"M\\u00e9trica\",\n      \"properties\": {\n        \"dtype\": \"string\",\n        \"num_unique_values\": 4,\n        \"samples\": [\n          \"accuracy\",\n          \"recall\",\n          \"loss\"\n        ],\n        \"semantic_type\": \"\",\n        \"description\": \"\"\n      }\n    },\n    {\n      \"column\": \"Porcentaje\",\n      \"properties\": {\n        \"dtype\": \"number\",\n        \"std\": 0.4114620040140947,\n        \"min\": 0.14067162573337555,\n        \"max\": 0.979658305644989,\n        \"num_unique_values\": 4,\n        \"samples\": [\n          0.9629340767860413,\n          0.9468891024589539,\n          0.14067162573337555\n        ],\n        \"semantic_type\": \"\",\n        \"description\": \"\"\n      }\n    }\n  ]\n}",
              "type": "dataframe",
              "variable_name": "df_test"
            },
            "text/html": [
              "\n",
              "  <div id=\"df-6a27dd1e-754e-409a-b1ef-67da4cf357e7\" class=\"colab-df-container\">\n",
              "    <div>\n",
              "<style scoped>\n",
              "    .dataframe tbody tr th:only-of-type {\n",
              "        vertical-align: middle;\n",
              "    }\n",
              "\n",
              "    .dataframe tbody tr th {\n",
              "        vertical-align: top;\n",
              "    }\n",
              "\n",
              "    .dataframe thead th {\n",
              "        text-align: right;\n",
              "    }\n",
              "</style>\n",
              "<table border=\"1\" class=\"dataframe\">\n",
              "  <thead>\n",
              "    <tr style=\"text-align: right;\">\n",
              "      <th></th>\n",
              "      <th>Porcentaje</th>\n",
              "    </tr>\n",
              "    <tr>\n",
              "      <th>Métrica</th>\n",
              "      <th></th>\n",
              "    </tr>\n",
              "  </thead>\n",
              "  <tbody>\n",
              "    <tr>\n",
              "      <th>loss</th>\n",
              "      <td>0.140672</td>\n",
              "    </tr>\n",
              "    <tr>\n",
              "      <th>accuracy</th>\n",
              "      <td>0.962934</td>\n",
              "    </tr>\n",
              "    <tr>\n",
              "      <th>precision</th>\n",
              "      <td>0.979658</td>\n",
              "    </tr>\n",
              "    <tr>\n",
              "      <th>recall</th>\n",
              "      <td>0.946889</td>\n",
              "    </tr>\n",
              "  </tbody>\n",
              "</table>\n",
              "</div>\n",
              "    <div class=\"colab-df-buttons\">\n",
              "\n",
              "  <div class=\"colab-df-container\">\n",
              "    <button class=\"colab-df-convert\" onclick=\"convertToInteractive('df-6a27dd1e-754e-409a-b1ef-67da4cf357e7')\"\n",
              "            title=\"Convert this dataframe to an interactive table.\"\n",
              "            style=\"display:none;\">\n",
              "\n",
              "  <svg xmlns=\"http://www.w3.org/2000/svg\" height=\"24px\" viewBox=\"0 -960 960 960\">\n",
              "    <path d=\"M120-120v-720h720v720H120Zm60-500h600v-160H180v160Zm220 220h160v-160H400v160Zm0 220h160v-160H400v160ZM180-400h160v-160H180v160Zm440 0h160v-160H620v160ZM180-180h160v-160H180v160Zm440 0h160v-160H620v160Z\"/>\n",
              "  </svg>\n",
              "    </button>\n",
              "\n",
              "  <style>\n",
              "    .colab-df-container {\n",
              "      display:flex;\n",
              "      gap: 12px;\n",
              "    }\n",
              "\n",
              "    .colab-df-convert {\n",
              "      background-color: #E8F0FE;\n",
              "      border: none;\n",
              "      border-radius: 50%;\n",
              "      cursor: pointer;\n",
              "      display: none;\n",
              "      fill: #1967D2;\n",
              "      height: 32px;\n",
              "      padding: 0 0 0 0;\n",
              "      width: 32px;\n",
              "    }\n",
              "\n",
              "    .colab-df-convert:hover {\n",
              "      background-color: #E2EBFA;\n",
              "      box-shadow: 0px 1px 2px rgba(60, 64, 67, 0.3), 0px 1px 3px 1px rgba(60, 64, 67, 0.15);\n",
              "      fill: #174EA6;\n",
              "    }\n",
              "\n",
              "    .colab-df-buttons div {\n",
              "      margin-bottom: 4px;\n",
              "    }\n",
              "\n",
              "    [theme=dark] .colab-df-convert {\n",
              "      background-color: #3B4455;\n",
              "      fill: #D2E3FC;\n",
              "    }\n",
              "\n",
              "    [theme=dark] .colab-df-convert:hover {\n",
              "      background-color: #434B5C;\n",
              "      box-shadow: 0px 1px 3px 1px rgba(0, 0, 0, 0.15);\n",
              "      filter: drop-shadow(0px 1px 2px rgba(0, 0, 0, 0.3));\n",
              "      fill: #FFFFFF;\n",
              "    }\n",
              "  </style>\n",
              "\n",
              "    <script>\n",
              "      const buttonEl =\n",
              "        document.querySelector('#df-6a27dd1e-754e-409a-b1ef-67da4cf357e7 button.colab-df-convert');\n",
              "      buttonEl.style.display =\n",
              "        google.colab.kernel.accessAllowed ? 'block' : 'none';\n",
              "\n",
              "      async function convertToInteractive(key) {\n",
              "        const element = document.querySelector('#df-6a27dd1e-754e-409a-b1ef-67da4cf357e7');\n",
              "        const dataTable =\n",
              "          await google.colab.kernel.invokeFunction('convertToInteractive',\n",
              "                                                    [key], {});\n",
              "        if (!dataTable) return;\n",
              "\n",
              "        const docLinkHtml = 'Like what you see? Visit the ' +\n",
              "          '<a target=\"_blank\" href=https://colab.research.google.com/notebooks/data_table.ipynb>data table notebook</a>'\n",
              "          + ' to learn more about interactive tables.';\n",
              "        element.innerHTML = '';\n",
              "        dataTable['output_type'] = 'display_data';\n",
              "        await google.colab.output.renderOutput(dataTable, element);\n",
              "        const docLink = document.createElement('div');\n",
              "        docLink.innerHTML = docLinkHtml;\n",
              "        element.appendChild(docLink);\n",
              "      }\n",
              "    </script>\n",
              "  </div>\n",
              "\n",
              "\n",
              "<div id=\"df-65010968-5a2a-46d1-95cc-ec60308858d3\">\n",
              "  <button class=\"colab-df-quickchart\" onclick=\"quickchart('df-65010968-5a2a-46d1-95cc-ec60308858d3')\"\n",
              "            title=\"Suggest charts\"\n",
              "            style=\"display:none;\">\n",
              "\n",
              "<svg xmlns=\"http://www.w3.org/2000/svg\" height=\"24px\"viewBox=\"0 0 24 24\"\n",
              "     width=\"24px\">\n",
              "    <g>\n",
              "        <path d=\"M19 3H5c-1.1 0-2 .9-2 2v14c0 1.1.9 2 2 2h14c1.1 0 2-.9 2-2V5c0-1.1-.9-2-2-2zM9 17H7v-7h2v7zm4 0h-2V7h2v10zm4 0h-2v-4h2v4z\"/>\n",
              "    </g>\n",
              "</svg>\n",
              "  </button>\n",
              "\n",
              "<style>\n",
              "  .colab-df-quickchart {\n",
              "      --bg-color: #E8F0FE;\n",
              "      --fill-color: #1967D2;\n",
              "      --hover-bg-color: #E2EBFA;\n",
              "      --hover-fill-color: #174EA6;\n",
              "      --disabled-fill-color: #AAA;\n",
              "      --disabled-bg-color: #DDD;\n",
              "  }\n",
              "\n",
              "  [theme=dark] .colab-df-quickchart {\n",
              "      --bg-color: #3B4455;\n",
              "      --fill-color: #D2E3FC;\n",
              "      --hover-bg-color: #434B5C;\n",
              "      --hover-fill-color: #FFFFFF;\n",
              "      --disabled-bg-color: #3B4455;\n",
              "      --disabled-fill-color: #666;\n",
              "  }\n",
              "\n",
              "  .colab-df-quickchart {\n",
              "    background-color: var(--bg-color);\n",
              "    border: none;\n",
              "    border-radius: 50%;\n",
              "    cursor: pointer;\n",
              "    display: none;\n",
              "    fill: var(--fill-color);\n",
              "    height: 32px;\n",
              "    padding: 0;\n",
              "    width: 32px;\n",
              "  }\n",
              "\n",
              "  .colab-df-quickchart:hover {\n",
              "    background-color: var(--hover-bg-color);\n",
              "    box-shadow: 0 1px 2px rgba(60, 64, 67, 0.3), 0 1px 3px 1px rgba(60, 64, 67, 0.15);\n",
              "    fill: var(--button-hover-fill-color);\n",
              "  }\n",
              "\n",
              "  .colab-df-quickchart-complete:disabled,\n",
              "  .colab-df-quickchart-complete:disabled:hover {\n",
              "    background-color: var(--disabled-bg-color);\n",
              "    fill: var(--disabled-fill-color);\n",
              "    box-shadow: none;\n",
              "  }\n",
              "\n",
              "  .colab-df-spinner {\n",
              "    border: 2px solid var(--fill-color);\n",
              "    border-color: transparent;\n",
              "    border-bottom-color: var(--fill-color);\n",
              "    animation:\n",
              "      spin 1s steps(1) infinite;\n",
              "  }\n",
              "\n",
              "  @keyframes spin {\n",
              "    0% {\n",
              "      border-color: transparent;\n",
              "      border-bottom-color: var(--fill-color);\n",
              "      border-left-color: var(--fill-color);\n",
              "    }\n",
              "    20% {\n",
              "      border-color: transparent;\n",
              "      border-left-color: var(--fill-color);\n",
              "      border-top-color: var(--fill-color);\n",
              "    }\n",
              "    30% {\n",
              "      border-color: transparent;\n",
              "      border-left-color: var(--fill-color);\n",
              "      border-top-color: var(--fill-color);\n",
              "      border-right-color: var(--fill-color);\n",
              "    }\n",
              "    40% {\n",
              "      border-color: transparent;\n",
              "      border-right-color: var(--fill-color);\n",
              "      border-top-color: var(--fill-color);\n",
              "    }\n",
              "    60% {\n",
              "      border-color: transparent;\n",
              "      border-right-color: var(--fill-color);\n",
              "    }\n",
              "    80% {\n",
              "      border-color: transparent;\n",
              "      border-right-color: var(--fill-color);\n",
              "      border-bottom-color: var(--fill-color);\n",
              "    }\n",
              "    90% {\n",
              "      border-color: transparent;\n",
              "      border-bottom-color: var(--fill-color);\n",
              "    }\n",
              "  }\n",
              "</style>\n",
              "\n",
              "  <script>\n",
              "    async function quickchart(key) {\n",
              "      const quickchartButtonEl =\n",
              "        document.querySelector('#' + key + ' button');\n",
              "      quickchartButtonEl.disabled = true;  // To prevent multiple clicks.\n",
              "      quickchartButtonEl.classList.add('colab-df-spinner');\n",
              "      try {\n",
              "        const charts = await google.colab.kernel.invokeFunction(\n",
              "            'suggestCharts', [key], {});\n",
              "      } catch (error) {\n",
              "        console.error('Error during call to suggestCharts:', error);\n",
              "      }\n",
              "      quickchartButtonEl.classList.remove('colab-df-spinner');\n",
              "      quickchartButtonEl.classList.add('colab-df-quickchart-complete');\n",
              "    }\n",
              "    (() => {\n",
              "      let quickchartButtonEl =\n",
              "        document.querySelector('#df-65010968-5a2a-46d1-95cc-ec60308858d3 button');\n",
              "      quickchartButtonEl.style.display =\n",
              "        google.colab.kernel.accessAllowed ? 'block' : 'none';\n",
              "    })();\n",
              "  </script>\n",
              "</div>\n",
              "\n",
              "  <div id=\"id_6e16f3d8-2308-4a0b-ae2e-86293a185cdf\">\n",
              "    <style>\n",
              "      .colab-df-generate {\n",
              "        background-color: #E8F0FE;\n",
              "        border: none;\n",
              "        border-radius: 50%;\n",
              "        cursor: pointer;\n",
              "        display: none;\n",
              "        fill: #1967D2;\n",
              "        height: 32px;\n",
              "        padding: 0 0 0 0;\n",
              "        width: 32px;\n",
              "      }\n",
              "\n",
              "      .colab-df-generate:hover {\n",
              "        background-color: #E2EBFA;\n",
              "        box-shadow: 0px 1px 2px rgba(60, 64, 67, 0.3), 0px 1px 3px 1px rgba(60, 64, 67, 0.15);\n",
              "        fill: #174EA6;\n",
              "      }\n",
              "\n",
              "      [theme=dark] .colab-df-generate {\n",
              "        background-color: #3B4455;\n",
              "        fill: #D2E3FC;\n",
              "      }\n",
              "\n",
              "      [theme=dark] .colab-df-generate:hover {\n",
              "        background-color: #434B5C;\n",
              "        box-shadow: 0px 1px 3px 1px rgba(0, 0, 0, 0.15);\n",
              "        filter: drop-shadow(0px 1px 2px rgba(0, 0, 0, 0.3));\n",
              "        fill: #FFFFFF;\n",
              "      }\n",
              "    </style>\n",
              "    <button class=\"colab-df-generate\" onclick=\"generateWithVariable('df_test')\"\n",
              "            title=\"Generate code using this dataframe.\"\n",
              "            style=\"display:none;\">\n",
              "\n",
              "  <svg xmlns=\"http://www.w3.org/2000/svg\" height=\"24px\"viewBox=\"0 0 24 24\"\n",
              "       width=\"24px\">\n",
              "    <path d=\"M7,19H8.4L18.45,9,17,7.55,7,17.6ZM5,21V16.75L18.45,3.32a2,2,0,0,1,2.83,0l1.4,1.43a1.91,1.91,0,0,1,.58,1.4,1.91,1.91,0,0,1-.58,1.4L9.25,21ZM18.45,9,17,7.55Zm-12,3A5.31,5.31,0,0,0,4.9,8.1,5.31,5.31,0,0,0,1,6.5,5.31,5.31,0,0,0,4.9,4.9,5.31,5.31,0,0,0,6.5,1,5.31,5.31,0,0,0,8.1,4.9,5.31,5.31,0,0,0,12,6.5,5.46,5.46,0,0,0,6.5,12Z\"/>\n",
              "  </svg>\n",
              "    </button>\n",
              "    <script>\n",
              "      (() => {\n",
              "      const buttonEl =\n",
              "        document.querySelector('#id_6e16f3d8-2308-4a0b-ae2e-86293a185cdf button.colab-df-generate');\n",
              "      buttonEl.style.display =\n",
              "        google.colab.kernel.accessAllowed ? 'block' : 'none';\n",
              "\n",
              "      buttonEl.onclick = () => {\n",
              "        google.colab.notebook.generateWithVariable('df_test');\n",
              "      }\n",
              "      })();\n",
              "    </script>\n",
              "  </div>\n",
              "\n",
              "    </div>\n",
              "  </div>\n"
            ],
            "text/plain": [
              "           Porcentaje\n",
              "Métrica              \n",
              "loss         0.140672\n",
              "accuracy     0.962934\n",
              "precision    0.979658\n",
              "recall       0.946889"
            ]
          },
          "execution_count": 102,
          "metadata": {},
          "output_type": "execute_result"
        }
      ],
      "source": [
        "df_test"
      ]
    }
  ],
  "metadata": {
    "accelerator": "GPU",
    "colab": {
      "gpuType": "L4",
      "machine_shape": "hm",
      "provenance": []
    },
    "kernelspec": {
      "display_name": "Python 3",
      "name": "python3"
    },
    "language_info": {
      "codemirror_mode": {
        "name": "ipython",
        "version": 3
      },
      "file_extension": ".py",
      "mimetype": "text/x-python",
      "name": "python",
      "nbconvert_exporter": "python",
      "pygments_lexer": "ipython3",
      "version": "3.12.1"
    }
  },
  "nbformat": 4,
  "nbformat_minor": 0
}

{
  "cells": [
    {
      "cell_type": "code",
      "execution_count": 2,
      "metadata": {
        "id": "2RGovjxk1t33"
      },
      "outputs": [],
      "source": [
        "import numpy as np\n",
        "import pandas as pd\n",
        "import tensorflow as tf\n",
        "from keras.models import Sequential\n",
        "from keras.layers import Conv1D, MaxPooling1D, Dense, Dropout, Flatten, BatchNormalization\n",
        "from sklearn.model_selection import train_test_split\n",
        "from sklearn.preprocessing import LabelEncoder\n",
        "from keras.utils import to_categorical\n",
        "from keras.optimizers import Nadam\n",
        "from sklearn.preprocessing import StandardScaler\n",
        "import warnings\n",
        "import pickle\n",
        "warnings.filterwarnings('ignore')\n",
        "import matplotlib.pyplot as plt\n",
        "import seaborn as sns\n",
        "from keras.callbacks import EarlyStopping, ModelCheckpoint\n",
        "from keras.metrics import Precision, Recall\n",
        "from keras.callbacks import ReduceLROnPlateau\n",
        "from keras.regularizers import l2\n",
        "from imblearn.over_sampling import SMOTE\n",
        "\n",
        "\n"
      ]
    },
    {
      "cell_type": "code",
      "execution_count": 167,
      "metadata": {
        "id": "lw_j7UEp2E6L"
      },
      "outputs": [],
      "source": [
        "df = pd.read_parquet('../datasets/datasets_entrenamieto/Dataset_binario.parquet')"
      ]
    },
    {
      "cell_type": "code",
      "execution_count": 200,
      "metadata": {
        "colab": {
          "base_uri": "https://localhost:8080/",
          "height": 273
        },
        "id": "Xr-j2TNfiv5Q",
        "outputId": "168c5e41-6748-478f-b3ac-8a921ec1f150"
      },
      "outputs": [
        {
          "data": {
            "application/vnd.google.colaboratory.intrinsic+json": {
              "type": "dataframe",
              "variable_name": "df"
            },
            "text/html": [
              "\n",
              "  <div id=\"df-bcdd371b-0656-4950-85c7-bd39188a408c\" class=\"colab-df-container\">\n",
              "    <div>\n",
              "<style scoped>\n",
              "    .dataframe tbody tr th:only-of-type {\n",
              "        vertical-align: middle;\n",
              "    }\n",
              "\n",
              "    .dataframe tbody tr th {\n",
              "        vertical-align: top;\n",
              "    }\n",
              "\n",
              "    .dataframe thead th {\n",
              "        text-align: right;\n",
              "    }\n",
              "</style>\n",
              "<table border=\"1\" class=\"dataframe\">\n",
              "  <thead>\n",
              "    <tr style=\"text-align: right;\">\n",
              "      <th></th>\n",
              "      <th>flow_duration</th>\n",
              "      <th>Header_Length</th>\n",
              "      <th>Protocol Type</th>\n",
              "      <th>Duration</th>\n",
              "      <th>Rate</th>\n",
              "      <th>Srate</th>\n",
              "      <th>Drate</th>\n",
              "      <th>fin_flag_number</th>\n",
              "      <th>syn_flag_number</th>\n",
              "      <th>rst_flag_number</th>\n",
              "      <th>...</th>\n",
              "      <th>Std</th>\n",
              "      <th>Tot size</th>\n",
              "      <th>IAT</th>\n",
              "      <th>Number</th>\n",
              "      <th>Magnitue</th>\n",
              "      <th>Radius</th>\n",
              "      <th>Covariance</th>\n",
              "      <th>Variance</th>\n",
              "      <th>Weight</th>\n",
              "      <th>label</th>\n",
              "    </tr>\n",
              "  </thead>\n",
              "  <tbody>\n",
              "    <tr>\n",
              "      <th>0</th>\n",
              "      <td>0.000000</td>\n",
              "      <td>54.00</td>\n",
              "      <td>6.00</td>\n",
              "      <td>64.00</td>\n",
              "      <td>0.755172</td>\n",
              "      <td>0.755172</td>\n",
              "      <td>0.0</td>\n",
              "      <td>0.0</td>\n",
              "      <td>0.0</td>\n",
              "      <td>0.0</td>\n",
              "      <td>...</td>\n",
              "      <td>0.000000</td>\n",
              "      <td>54.00</td>\n",
              "      <td>8.333187e+07</td>\n",
              "      <td>9.5</td>\n",
              "      <td>10.392305</td>\n",
              "      <td>0.000000</td>\n",
              "      <td>0.000000e+00</td>\n",
              "      <td>0.00</td>\n",
              "      <td>141.55</td>\n",
              "      <td>1</td>\n",
              "    </tr>\n",
              "    <tr>\n",
              "      <th>1</th>\n",
              "      <td>0.017902</td>\n",
              "      <td>782.56</td>\n",
              "      <td>6.00</td>\n",
              "      <td>64.59</td>\n",
              "      <td>56.336008</td>\n",
              "      <td>56.336008</td>\n",
              "      <td>0.0</td>\n",
              "      <td>0.0</td>\n",
              "      <td>0.0</td>\n",
              "      <td>0.0</td>\n",
              "      <td>...</td>\n",
              "      <td>0.447587</td>\n",
              "      <td>54.39</td>\n",
              "      <td>8.331408e+07</td>\n",
              "      <td>9.5</td>\n",
              "      <td>10.402787</td>\n",
              "      <td>0.635935</td>\n",
              "      <td>4.048129e+00</td>\n",
              "      <td>0.05</td>\n",
              "      <td>141.55</td>\n",
              "      <td>1</td>\n",
              "    </tr>\n",
              "    <tr>\n",
              "      <th>2</th>\n",
              "      <td>0.052243</td>\n",
              "      <td>89.06</td>\n",
              "      <td>6.11</td>\n",
              "      <td>64.00</td>\n",
              "      <td>19.297399</td>\n",
              "      <td>19.297399</td>\n",
              "      <td>0.0</td>\n",
              "      <td>0.0</td>\n",
              "      <td>0.0</td>\n",
              "      <td>0.0</td>\n",
              "      <td>...</td>\n",
              "      <td>0.026812</td>\n",
              "      <td>53.96</td>\n",
              "      <td>8.331399e+07</td>\n",
              "      <td>9.5</td>\n",
              "      <td>10.391685</td>\n",
              "      <td>0.038221</td>\n",
              "      <td>2.435074e-02</td>\n",
              "      <td>0.03</td>\n",
              "      <td>141.55</td>\n",
              "      <td>1</td>\n",
              "    </tr>\n",
              "    <tr>\n",
              "      <th>3</th>\n",
              "      <td>25.823692</td>\n",
              "      <td>1944859.20</td>\n",
              "      <td>7.10</td>\n",
              "      <td>78.60</td>\n",
              "      <td>63.355780</td>\n",
              "      <td>63.355780</td>\n",
              "      <td>0.0</td>\n",
              "      <td>0.0</td>\n",
              "      <td>0.0</td>\n",
              "      <td>0.0</td>\n",
              "      <td>...</td>\n",
              "      <td>2334.163342</td>\n",
              "      <td>2526.40</td>\n",
              "      <td>1.665199e+08</td>\n",
              "      <td>13.5</td>\n",
              "      <td>49.962709</td>\n",
              "      <td>3307.011496</td>\n",
              "      <td>6.169782e+06</td>\n",
              "      <td>1.00</td>\n",
              "      <td>244.60</td>\n",
              "      <td>0</td>\n",
              "    </tr>\n",
              "    <tr>\n",
              "      <th>4</th>\n",
              "      <td>6.937773</td>\n",
              "      <td>9616.70</td>\n",
              "      <td>14.80</td>\n",
              "      <td>108.10</td>\n",
              "      <td>47.489550</td>\n",
              "      <td>47.489550</td>\n",
              "      <td>0.0</td>\n",
              "      <td>0.0</td>\n",
              "      <td>0.0</td>\n",
              "      <td>0.0</td>\n",
              "      <td>...</td>\n",
              "      <td>53.240355</td>\n",
              "      <td>103.60</td>\n",
              "      <td>1.665239e+08</td>\n",
              "      <td>13.5</td>\n",
              "      <td>14.542048</td>\n",
              "      <td>74.757580</td>\n",
              "      <td>2.799340e+03</td>\n",
              "      <td>1.00</td>\n",
              "      <td>244.60</td>\n",
              "      <td>0</td>\n",
              "    </tr>\n",
              "  </tbody>\n",
              "</table>\n",
              "<p>5 rows × 47 columns</p>\n",
              "</div>\n",
              "    <div class=\"colab-df-buttons\">\n",
              "\n",
              "  <div class=\"colab-df-container\">\n",
              "    <button class=\"colab-df-convert\" onclick=\"convertToInteractive('df-bcdd371b-0656-4950-85c7-bd39188a408c')\"\n",
              "            title=\"Convert this dataframe to an interactive table.\"\n",
              "            style=\"display:none;\">\n",
              "\n",
              "  <svg xmlns=\"http://www.w3.org/2000/svg\" height=\"24px\" viewBox=\"0 -960 960 960\">\n",
              "    <path d=\"M120-120v-720h720v720H120Zm60-500h600v-160H180v160Zm220 220h160v-160H400v160Zm0 220h160v-160H400v160ZM180-400h160v-160H180v160Zm440 0h160v-160H620v160ZM180-180h160v-160H180v160Zm440 0h160v-160H620v160Z\"/>\n",
              "  </svg>\n",
              "    </button>\n",
              "\n",
              "  <style>\n",
              "    .colab-df-container {\n",
              "      display:flex;\n",
              "      gap: 12px;\n",
              "    }\n",
              "\n",
              "    .colab-df-convert {\n",
              "      background-color: #E8F0FE;\n",
              "      border: none;\n",
              "      border-radius: 50%;\n",
              "      cursor: pointer;\n",
              "      display: none;\n",
              "      fill: #1967D2;\n",
              "      height: 32px;\n",
              "      padding: 0 0 0 0;\n",
              "      width: 32px;\n",
              "    }\n",
              "\n",
              "    .colab-df-convert:hover {\n",
              "      background-color: #E2EBFA;\n",
              "      box-shadow: 0px 1px 2px rgba(60, 64, 67, 0.3), 0px 1px 3px 1px rgba(60, 64, 67, 0.15);\n",
              "      fill: #174EA6;\n",
              "    }\n",
              "\n",
              "    .colab-df-buttons div {\n",
              "      margin-bottom: 4px;\n",
              "    }\n",
              "\n",
              "    [theme=dark] .colab-df-convert {\n",
              "      background-color: #3B4455;\n",
              "      fill: #D2E3FC;\n",
              "    }\n",
              "\n",
              "    [theme=dark] .colab-df-convert:hover {\n",
              "      background-color: #434B5C;\n",
              "      box-shadow: 0px 1px 3px 1px rgba(0, 0, 0, 0.15);\n",
              "      filter: drop-shadow(0px 1px 2px rgba(0, 0, 0, 0.3));\n",
              "      fill: #FFFFFF;\n",
              "    }\n",
              "  </style>\n",
              "\n",
              "    <script>\n",
              "      const buttonEl =\n",
              "        document.querySelector('#df-bcdd371b-0656-4950-85c7-bd39188a408c button.colab-df-convert');\n",
              "      buttonEl.style.display =\n",
              "        google.colab.kernel.accessAllowed ? 'block' : 'none';\n",
              "\n",
              "      async function convertToInteractive(key) {\n",
              "        const element = document.querySelector('#df-bcdd371b-0656-4950-85c7-bd39188a408c');\n",
              "        const dataTable =\n",
              "          await google.colab.kernel.invokeFunction('convertToInteractive',\n",
              "                                                    [key], {});\n",
              "        if (!dataTable) return;\n",
              "\n",
              "        const docLinkHtml = 'Like what you see? Visit the ' +\n",
              "          '<a target=\"_blank\" href=https://colab.research.google.com/notebooks/data_table.ipynb>data table notebook</a>'\n",
              "          + ' to learn more about interactive tables.';\n",
              "        element.innerHTML = '';\n",
              "        dataTable['output_type'] = 'display_data';\n",
              "        await google.colab.output.renderOutput(dataTable, element);\n",
              "        const docLink = document.createElement('div');\n",
              "        docLink.innerHTML = docLinkHtml;\n",
              "        element.appendChild(docLink);\n",
              "      }\n",
              "    </script>\n",
              "  </div>\n",
              "\n",
              "\n",
              "<div id=\"df-cc63b9ba-4069-4105-bbea-b4ef3c561824\">\n",
              "  <button class=\"colab-df-quickchart\" onclick=\"quickchart('df-cc63b9ba-4069-4105-bbea-b4ef3c561824')\"\n",
              "            title=\"Suggest charts\"\n",
              "            style=\"display:none;\">\n",
              "\n",
              "<svg xmlns=\"http://www.w3.org/2000/svg\" height=\"24px\"viewBox=\"0 0 24 24\"\n",
              "     width=\"24px\">\n",
              "    <g>\n",
              "        <path d=\"M19 3H5c-1.1 0-2 .9-2 2v14c0 1.1.9 2 2 2h14c1.1 0 2-.9 2-2V5c0-1.1-.9-2-2-2zM9 17H7v-7h2v7zm4 0h-2V7h2v10zm4 0h-2v-4h2v4z\"/>\n",
              "    </g>\n",
              "</svg>\n",
              "  </button>\n",
              "\n",
              "<style>\n",
              "  .colab-df-quickchart {\n",
              "      --bg-color: #E8F0FE;\n",
              "      --fill-color: #1967D2;\n",
              "      --hover-bg-color: #E2EBFA;\n",
              "      --hover-fill-color: #174EA6;\n",
              "      --disabled-fill-color: #AAA;\n",
              "      --disabled-bg-color: #DDD;\n",
              "  }\n",
              "\n",
              "  [theme=dark] .colab-df-quickchart {\n",
              "      --bg-color: #3B4455;\n",
              "      --fill-color: #D2E3FC;\n",
              "      --hover-bg-color: #434B5C;\n",
              "      --hover-fill-color: #FFFFFF;\n",
              "      --disabled-bg-color: #3B4455;\n",
              "      --disabled-fill-color: #666;\n",
              "  }\n",
              "\n",
              "  .colab-df-quickchart {\n",
              "    background-color: var(--bg-color);\n",
              "    border: none;\n",
              "    border-radius: 50%;\n",
              "    cursor: pointer;\n",
              "    display: none;\n",
              "    fill: var(--fill-color);\n",
              "    height: 32px;\n",
              "    padding: 0;\n",
              "    width: 32px;\n",
              "  }\n",
              "\n",
              "  .colab-df-quickchart:hover {\n",
              "    background-color: var(--hover-bg-color);\n",
              "    box-shadow: 0 1px 2px rgba(60, 64, 67, 0.3), 0 1px 3px 1px rgba(60, 64, 67, 0.15);\n",
              "    fill: var(--button-hover-fill-color);\n",
              "  }\n",
              "\n",
              "  .colab-df-quickchart-complete:disabled,\n",
              "  .colab-df-quickchart-complete:disabled:hover {\n",
              "    background-color: var(--disabled-bg-color);\n",
              "    fill: var(--disabled-fill-color);\n",
              "    box-shadow: none;\n",
              "  }\n",
              "\n",
              "  .colab-df-spinner {\n",
              "    border: 2px solid var(--fill-color);\n",
              "    border-color: transparent;\n",
              "    border-bottom-color: var(--fill-color);\n",
              "    animation:\n",
              "      spin 1s steps(1) infinite;\n",
              "  }\n",
              "\n",
              "  @keyframes spin {\n",
              "    0% {\n",
              "      border-color: transparent;\n",
              "      border-bottom-color: var(--fill-color);\n",
              "      border-left-color: var(--fill-color);\n",
              "    }\n",
              "    20% {\n",
              "      border-color: transparent;\n",
              "      border-left-color: var(--fill-color);\n",
              "      border-top-color: var(--fill-color);\n",
              "    }\n",
              "    30% {\n",
              "      border-color: transparent;\n",
              "      border-left-color: var(--fill-color);\n",
              "      border-top-color: var(--fill-color);\n",
              "      border-right-color: var(--fill-color);\n",
              "    }\n",
              "    40% {\n",
              "      border-color: transparent;\n",
              "      border-right-color: var(--fill-color);\n",
              "      border-top-color: var(--fill-color);\n",
              "    }\n",
              "    60% {\n",
              "      border-color: transparent;\n",
              "      border-right-color: var(--fill-color);\n",
              "    }\n",
              "    80% {\n",
              "      border-color: transparent;\n",
              "      border-right-color: var(--fill-color);\n",
              "      border-bottom-color: var(--fill-color);\n",
              "    }\n",
              "    90% {\n",
              "      border-color: transparent;\n",
              "      border-bottom-color: var(--fill-color);\n",
              "    }\n",
              "  }\n",
              "</style>\n",
              "\n",
              "  <script>\n",
              "    async function quickchart(key) {\n",
              "      const quickchartButtonEl =\n",
              "        document.querySelector('#' + key + ' button');\n",
              "      quickchartButtonEl.disabled = true;  // To prevent multiple clicks.\n",
              "      quickchartButtonEl.classList.add('colab-df-spinner');\n",
              "      try {\n",
              "        const charts = await google.colab.kernel.invokeFunction(\n",
              "            'suggestCharts', [key], {});\n",
              "      } catch (error) {\n",
              "        console.error('Error during call to suggestCharts:', error);\n",
              "      }\n",
              "      quickchartButtonEl.classList.remove('colab-df-spinner');\n",
              "      quickchartButtonEl.classList.add('colab-df-quickchart-complete');\n",
              "    }\n",
              "    (() => {\n",
              "      let quickchartButtonEl =\n",
              "        document.querySelector('#df-cc63b9ba-4069-4105-bbea-b4ef3c561824 button');\n",
              "      quickchartButtonEl.style.display =\n",
              "        google.colab.kernel.accessAllowed ? 'block' : 'none';\n",
              "    })();\n",
              "  </script>\n",
              "</div>\n",
              "\n",
              "    </div>\n",
              "  </div>\n"
            ],
            "text/plain": [
              "   flow_duration  Header_Length  Protocol Type  Duration       Rate  \\\n",
              "0       0.000000          54.00           6.00     64.00   0.755172   \n",
              "1       0.017902         782.56           6.00     64.59  56.336008   \n",
              "2       0.052243          89.06           6.11     64.00  19.297399   \n",
              "3      25.823692     1944859.20           7.10     78.60  63.355780   \n",
              "4       6.937773        9616.70          14.80    108.10  47.489550   \n",
              "\n",
              "       Srate  Drate  fin_flag_number  syn_flag_number  rst_flag_number  ...  \\\n",
              "0   0.755172    0.0              0.0              0.0              0.0  ...   \n",
              "1  56.336008    0.0              0.0              0.0              0.0  ...   \n",
              "2  19.297399    0.0              0.0              0.0              0.0  ...   \n",
              "3  63.355780    0.0              0.0              0.0              0.0  ...   \n",
              "4  47.489550    0.0              0.0              0.0              0.0  ...   \n",
              "\n",
              "           Std  Tot size           IAT  Number   Magnitue       Radius  \\\n",
              "0     0.000000     54.00  8.333187e+07     9.5  10.392305     0.000000   \n",
              "1     0.447587     54.39  8.331408e+07     9.5  10.402787     0.635935   \n",
              "2     0.026812     53.96  8.331399e+07     9.5  10.391685     0.038221   \n",
              "3  2334.163342   2526.40  1.665199e+08    13.5  49.962709  3307.011496   \n",
              "4    53.240355    103.60  1.665239e+08    13.5  14.542048    74.757580   \n",
              "\n",
              "     Covariance  Variance  Weight  label  \n",
              "0  0.000000e+00      0.00  141.55      1  \n",
              "1  4.048129e+00      0.05  141.55      1  \n",
              "2  2.435074e-02      0.03  141.55      1  \n",
              "3  6.169782e+06      1.00  244.60      0  \n",
              "4  2.799340e+03      1.00  244.60      0  \n",
              "\n",
              "[5 rows x 47 columns]"
            ]
          },
          "execution_count": 200,
          "metadata": {},
          "output_type": "execute_result"
        }
      ],
      "source": [
        "df.head()"
      ]
    },
    {
      "cell_type": "code",
      "execution_count": 169,
      "metadata": {
        "colab": {
          "base_uri": "https://localhost:8080/"
        },
        "id": "ZMuFwI_C2RRw",
        "outputId": "2571f7d3-c830-4433-8287-f81a997c29d2"
      },
      "outputs": [
        {
          "data": {
            "text/plain": [
              "(75372, 47)"
            ]
          },
          "execution_count": 169,
          "metadata": {},
          "output_type": "execute_result"
        }
      ],
      "source": [
        "df.shape"
      ]
    },
    {
      "cell_type": "code",
      "execution_count": 170,
      "metadata": {
        "colab": {
          "base_uri": "https://localhost:8080/"
        },
        "id": "EIX4ft3OW-Nj",
        "outputId": "739e85ea-7239-4124-96c3-334eb89844cc"
      },
      "outputs": [
        {
          "data": {
            "text/plain": [
              "array(['malware', 'BenignTraffic'], dtype=object)"
            ]
          },
          "execution_count": 170,
          "metadata": {},
          "output_type": "execute_result"
        }
      ],
      "source": [
        "df['label'].unique()"
      ]
    },
    {
      "cell_type": "markdown",
      "metadata": {
        "id": "X2CA0Bf8kVko"
      },
      "source": [
        "## Asignación de variables numéricas a las etiquetas"
      ]
    },
    {
      "cell_type": "code",
      "execution_count": 171,
      "metadata": {
        "id": "PykVdrvDZOfA"
      },
      "outputs": [],
      "source": [
        "df['label'][df['label']=='malware'] = 1"
      ]
    },
    {
      "cell_type": "code",
      "execution_count": 172,
      "metadata": {
        "id": "AtJ_BKCOZUg6"
      },
      "outputs": [],
      "source": [
        "df['label'][df['label']=='BenignTraffic'] = 0"
      ]
    },
    {
      "cell_type": "code",
      "execution_count": 173,
      "metadata": {
        "id": "5C0exdDOXHVT"
      },
      "outputs": [],
      "source": [
        "df['label'] = df['label'].astype(int)"
      ]
    },
    {
      "cell_type": "markdown",
      "metadata": {
        "id": "X4_TzQYekYoe"
      },
      "source": [
        "## Aumento de datos con smote\n",
        "\n",
        "Luego de realizar varias pruebas y observar sobreajuste en el modelo, decidí recurrir a técnicas de data augmentation como smote."
      ]
    },
    {
      "cell_type": "code",
      "execution_count": 174,
      "metadata": {
        "id": "Mn-PTtioWHBC"
      },
      "outputs": [],
      "source": [
        "X = df.drop('label', axis=1)\n",
        "y = df['label']"
      ]
    },
    {
      "cell_type": "code",
      "execution_count": 175,
      "metadata": {
        "id": "TBC0HGcsWNMJ"
      },
      "outputs": [],
      "source": [
        "smote = SMOTE()\n"
      ]
    },
    {
      "cell_type": "code",
      "execution_count": 176,
      "metadata": {
        "id": "mKeMBrCDWh_8"
      },
      "outputs": [],
      "source": [
        "X_sm, y_sm = smote.fit_resample(X, y)"
      ]
    },
    {
      "cell_type": "markdown",
      "metadata": {
        "id": "4uoZBq_ekrdF"
      },
      "source": [
        "Creo un dataframe nuevo con los datos sintéticos."
      ]
    },
    {
      "cell_type": "code",
      "execution_count": 177,
      "metadata": {
        "id": "3bVyejxKXTi2"
      },
      "outputs": [],
      "source": [
        "df_aumentado = pd.concat([pd.DataFrame(X_sm, columns=X.columns), pd.Series(y_sm, name='label')], axis=1)"
      ]
    },
    {
      "cell_type": "markdown",
      "metadata": {
        "id": "bgu-GDmEk9vA"
      },
      "source": [
        "Verifico."
      ]
    },
    {
      "cell_type": "code",
      "execution_count": 178,
      "metadata": {
        "colab": {
          "base_uri": "https://localhost:8080/"
        },
        "id": "rj8Ky_22XYlG",
        "outputId": "60769759-a2b8-4d3d-ebdb-3ef6d9c63491"
      },
      "outputs": [
        {
          "data": {
            "text/plain": [
              "(78408, 47)"
            ]
          },
          "execution_count": 178,
          "metadata": {},
          "output_type": "execute_result"
        }
      ],
      "source": [
        "df_aumentado.shape"
      ]
    },
    {
      "cell_type": "code",
      "execution_count": 179,
      "metadata": {
        "colab": {
          "base_uri": "https://localhost:8080/"
        },
        "id": "PNcPLKx7Xge_",
        "outputId": "5f8326a0-6a6c-4c7e-f8d5-35cd75fd34e5"
      },
      "outputs": [
        {
          "data": {
            "text/plain": [
              "array([1, 0])"
            ]
          },
          "execution_count": 179,
          "metadata": {},
          "output_type": "execute_result"
        }
      ],
      "source": [
        "df_aumentado['label'].unique()"
      ]
    },
    {
      "cell_type": "markdown",
      "metadata": {
        "id": "7nUaI4--lDP_"
      },
      "source": [
        "Concateno los datos creados con smote con el df original."
      ]
    },
    {
      "cell_type": "code",
      "execution_count": 180,
      "metadata": {
        "id": "5KSMuGvyX_EW"
      },
      "outputs": [],
      "source": [
        "df = pd.concat([df, df_aumentado])"
      ]
    },
    {
      "cell_type": "code",
      "execution_count": 181,
      "metadata": {
        "colab": {
          "base_uri": "https://localhost:8080/"
        },
        "id": "S9CG7FU4YGnj",
        "outputId": "a4c55b27-de70-45c9-dcd3-4ed3bacf10ee"
      },
      "outputs": [
        {
          "data": {
            "text/plain": [
              "(153780, 47)"
            ]
          },
          "execution_count": 181,
          "metadata": {},
          "output_type": "execute_result"
        }
      ],
      "source": [
        "df.shape"
      ]
    },
    {
      "cell_type": "markdown",
      "metadata": {
        "id": "w7lUxIIYlJGp"
      },
      "source": [
        "## Asignación de X e y (arrays)"
      ]
    },
    {
      "cell_type": "code",
      "execution_count": 182,
      "metadata": {
        "id": "pROwozZx2WOz"
      },
      "outputs": [],
      "source": [
        "X = df.iloc[:, :-1].values\n",
        "y = df.iloc[:, -1].values"
      ]
    },
    {
      "cell_type": "code",
      "execution_count": 183,
      "metadata": {
        "colab": {
          "base_uri": "https://localhost:8080/",
          "height": 461
        },
        "id": "Kl5GcWC-kAge",
        "outputId": "96fa2dd7-5f62-4fbf-faf6-1449e93b27fe"
      },
      "outputs": [
        {
          "data": {
            "application/vnd.google.colaboratory.intrinsic+json": {
              "type": "dataframe"
            },
            "text/html": [
              "\n",
              "  <div id=\"df-aba8fea7-6db3-40bd-b5a1-734f798f0889\" class=\"colab-df-container\">\n",
              "    <div>\n",
              "<style scoped>\n",
              "    .dataframe tbody tr th:only-of-type {\n",
              "        vertical-align: middle;\n",
              "    }\n",
              "\n",
              "    .dataframe tbody tr th {\n",
              "        vertical-align: top;\n",
              "    }\n",
              "\n",
              "    .dataframe thead th {\n",
              "        text-align: right;\n",
              "    }\n",
              "</style>\n",
              "<table border=\"1\" class=\"dataframe\">\n",
              "  <thead>\n",
              "    <tr style=\"text-align: right;\">\n",
              "      <th></th>\n",
              "      <th>flow_duration</th>\n",
              "      <th>Header_Length</th>\n",
              "      <th>Protocol Type</th>\n",
              "      <th>Duration</th>\n",
              "      <th>Rate</th>\n",
              "      <th>Srate</th>\n",
              "      <th>Drate</th>\n",
              "      <th>fin_flag_number</th>\n",
              "      <th>syn_flag_number</th>\n",
              "      <th>rst_flag_number</th>\n",
              "      <th>...</th>\n",
              "      <th>AVG</th>\n",
              "      <th>Std</th>\n",
              "      <th>Tot size</th>\n",
              "      <th>IAT</th>\n",
              "      <th>Number</th>\n",
              "      <th>Magnitue</th>\n",
              "      <th>Radius</th>\n",
              "      <th>Covariance</th>\n",
              "      <th>Variance</th>\n",
              "      <th>Weight</th>\n",
              "    </tr>\n",
              "  </thead>\n",
              "  <tbody>\n",
              "    <tr>\n",
              "      <th>0</th>\n",
              "      <td>0.000000</td>\n",
              "      <td>5.400000e+01</td>\n",
              "      <td>6.000000</td>\n",
              "      <td>64.000000</td>\n",
              "      <td>0.755172</td>\n",
              "      <td>0.755172</td>\n",
              "      <td>0.0</td>\n",
              "      <td>0.0</td>\n",
              "      <td>0.0</td>\n",
              "      <td>0.0</td>\n",
              "      <td>...</td>\n",
              "      <td>54.000000</td>\n",
              "      <td>0.000000</td>\n",
              "      <td>54.000000</td>\n",
              "      <td>8.333187e+07</td>\n",
              "      <td>9.5</td>\n",
              "      <td>10.392305</td>\n",
              "      <td>0.000000</td>\n",
              "      <td>0.000000e+00</td>\n",
              "      <td>0.000000</td>\n",
              "      <td>141.55</td>\n",
              "    </tr>\n",
              "    <tr>\n",
              "      <th>1</th>\n",
              "      <td>0.017902</td>\n",
              "      <td>7.825600e+02</td>\n",
              "      <td>6.000000</td>\n",
              "      <td>64.590000</td>\n",
              "      <td>56.336008</td>\n",
              "      <td>56.336008</td>\n",
              "      <td>0.0</td>\n",
              "      <td>0.0</td>\n",
              "      <td>0.0</td>\n",
              "      <td>0.0</td>\n",
              "      <td>...</td>\n",
              "      <td>54.109009</td>\n",
              "      <td>0.447587</td>\n",
              "      <td>54.390000</td>\n",
              "      <td>8.331408e+07</td>\n",
              "      <td>9.5</td>\n",
              "      <td>10.402787</td>\n",
              "      <td>0.635935</td>\n",
              "      <td>4.048129e+00</td>\n",
              "      <td>0.050000</td>\n",
              "      <td>141.55</td>\n",
              "    </tr>\n",
              "    <tr>\n",
              "      <th>2</th>\n",
              "      <td>0.052243</td>\n",
              "      <td>8.906000e+01</td>\n",
              "      <td>6.110000</td>\n",
              "      <td>64.000000</td>\n",
              "      <td>19.297399</td>\n",
              "      <td>19.297399</td>\n",
              "      <td>0.0</td>\n",
              "      <td>0.0</td>\n",
              "      <td>0.0</td>\n",
              "      <td>0.0</td>\n",
              "      <td>...</td>\n",
              "      <td>53.993673</td>\n",
              "      <td>0.026812</td>\n",
              "      <td>53.960000</td>\n",
              "      <td>8.331399e+07</td>\n",
              "      <td>9.5</td>\n",
              "      <td>10.391685</td>\n",
              "      <td>0.038221</td>\n",
              "      <td>2.435074e-02</td>\n",
              "      <td>0.030000</td>\n",
              "      <td>141.55</td>\n",
              "    </tr>\n",
              "    <tr>\n",
              "      <th>3</th>\n",
              "      <td>25.823692</td>\n",
              "      <td>1.944859e+06</td>\n",
              "      <td>7.100000</td>\n",
              "      <td>78.600000</td>\n",
              "      <td>63.355780</td>\n",
              "      <td>63.355780</td>\n",
              "      <td>0.0</td>\n",
              "      <td>0.0</td>\n",
              "      <td>0.0</td>\n",
              "      <td>0.0</td>\n",
              "      <td>...</td>\n",
              "      <td>1288.936668</td>\n",
              "      <td>2334.163342</td>\n",
              "      <td>2526.400000</td>\n",
              "      <td>1.665199e+08</td>\n",
              "      <td>13.5</td>\n",
              "      <td>49.962709</td>\n",
              "      <td>3307.011496</td>\n",
              "      <td>6.169782e+06</td>\n",
              "      <td>1.000000</td>\n",
              "      <td>244.60</td>\n",
              "    </tr>\n",
              "    <tr>\n",
              "      <th>4</th>\n",
              "      <td>6.937773</td>\n",
              "      <td>9.616700e+03</td>\n",
              "      <td>14.800000</td>\n",
              "      <td>108.100000</td>\n",
              "      <td>47.489550</td>\n",
              "      <td>47.489550</td>\n",
              "      <td>0.0</td>\n",
              "      <td>0.0</td>\n",
              "      <td>0.0</td>\n",
              "      <td>0.0</td>\n",
              "      <td>...</td>\n",
              "      <td>106.352256</td>\n",
              "      <td>53.240355</td>\n",
              "      <td>103.600000</td>\n",
              "      <td>1.665239e+08</td>\n",
              "      <td>13.5</td>\n",
              "      <td>14.542048</td>\n",
              "      <td>74.757580</td>\n",
              "      <td>2.799340e+03</td>\n",
              "      <td>1.000000</td>\n",
              "      <td>244.60</td>\n",
              "    </tr>\n",
              "    <tr>\n",
              "      <th>...</th>\n",
              "      <td>...</td>\n",
              "      <td>...</td>\n",
              "      <td>...</td>\n",
              "      <td>...</td>\n",
              "      <td>...</td>\n",
              "      <td>...</td>\n",
              "      <td>...</td>\n",
              "      <td>...</td>\n",
              "      <td>...</td>\n",
              "      <td>...</td>\n",
              "      <td>...</td>\n",
              "      <td>...</td>\n",
              "      <td>...</td>\n",
              "      <td>...</td>\n",
              "      <td>...</td>\n",
              "      <td>...</td>\n",
              "      <td>...</td>\n",
              "      <td>...</td>\n",
              "      <td>...</td>\n",
              "      <td>...</td>\n",
              "      <td>...</td>\n",
              "    </tr>\n",
              "    <tr>\n",
              "      <th>78403</th>\n",
              "      <td>31.860618</td>\n",
              "      <td>9.675582e+02</td>\n",
              "      <td>11.630763</td>\n",
              "      <td>78.876440</td>\n",
              "      <td>36.766655</td>\n",
              "      <td>36.766655</td>\n",
              "      <td>0.0</td>\n",
              "      <td>0.0</td>\n",
              "      <td>0.0</td>\n",
              "      <td>0.0</td>\n",
              "      <td>...</td>\n",
              "      <td>122.745903</td>\n",
              "      <td>67.244746</td>\n",
              "      <td>80.530959</td>\n",
              "      <td>1.665205e+08</td>\n",
              "      <td>13.5</td>\n",
              "      <td>15.665170</td>\n",
              "      <td>95.195840</td>\n",
              "      <td>4.551595e+03</td>\n",
              "      <td>1.000000</td>\n",
              "      <td>244.60</td>\n",
              "    </tr>\n",
              "    <tr>\n",
              "      <th>78404</th>\n",
              "      <td>14.770410</td>\n",
              "      <td>5.476206e+05</td>\n",
              "      <td>6.390008</td>\n",
              "      <td>114.898551</td>\n",
              "      <td>79.693904</td>\n",
              "      <td>79.693904</td>\n",
              "      <td>0.0</td>\n",
              "      <td>0.0</td>\n",
              "      <td>0.0</td>\n",
              "      <td>0.0</td>\n",
              "      <td>...</td>\n",
              "      <td>1061.971751</td>\n",
              "      <td>1094.249809</td>\n",
              "      <td>1507.478756</td>\n",
              "      <td>5.269726e-03</td>\n",
              "      <td>5.5</td>\n",
              "      <td>41.738500</td>\n",
              "      <td>1547.502921</td>\n",
              "      <td>1.638459e+06</td>\n",
              "      <td>0.770911</td>\n",
              "      <td>38.50</td>\n",
              "    </tr>\n",
              "    <tr>\n",
              "      <th>78405</th>\n",
              "      <td>38.117159</td>\n",
              "      <td>8.984971e+03</td>\n",
              "      <td>8.168788</td>\n",
              "      <td>81.843327</td>\n",
              "      <td>3.121561</td>\n",
              "      <td>3.121561</td>\n",
              "      <td>0.0</td>\n",
              "      <td>0.0</td>\n",
              "      <td>0.0</td>\n",
              "      <td>0.0</td>\n",
              "      <td>...</td>\n",
              "      <td>173.775434</td>\n",
              "      <td>151.035861</td>\n",
              "      <td>173.155928</td>\n",
              "      <td>1.665248e+08</td>\n",
              "      <td>13.5</td>\n",
              "      <td>18.607678</td>\n",
              "      <td>214.065296</td>\n",
              "      <td>2.448807e+04</td>\n",
              "      <td>1.000000</td>\n",
              "      <td>244.60</td>\n",
              "    </tr>\n",
              "    <tr>\n",
              "      <th>78406</th>\n",
              "      <td>47.979774</td>\n",
              "      <td>5.006432e+03</td>\n",
              "      <td>7.351769</td>\n",
              "      <td>168.346316</td>\n",
              "      <td>1.056386</td>\n",
              "      <td>1.056386</td>\n",
              "      <td>0.0</td>\n",
              "      <td>0.0</td>\n",
              "      <td>0.0</td>\n",
              "      <td>0.0</td>\n",
              "      <td>...</td>\n",
              "      <td>105.039363</td>\n",
              "      <td>56.217766</td>\n",
              "      <td>107.035573</td>\n",
              "      <td>1.665171e+08</td>\n",
              "      <td>13.5</td>\n",
              "      <td>14.485061</td>\n",
              "      <td>79.681479</td>\n",
              "      <td>3.204168e+03</td>\n",
              "      <td>1.000000</td>\n",
              "      <td>244.60</td>\n",
              "    </tr>\n",
              "    <tr>\n",
              "      <th>78407</th>\n",
              "      <td>28.136850</td>\n",
              "      <td>2.073216e+06</td>\n",
              "      <td>8.200000</td>\n",
              "      <td>206.838013</td>\n",
              "      <td>61.651866</td>\n",
              "      <td>61.651866</td>\n",
              "      <td>0.0</td>\n",
              "      <td>0.0</td>\n",
              "      <td>0.0</td>\n",
              "      <td>0.0</td>\n",
              "      <td>...</td>\n",
              "      <td>71.826184</td>\n",
              "      <td>20.676569</td>\n",
              "      <td>117.380455</td>\n",
              "      <td>1.665227e+08</td>\n",
              "      <td>13.5</td>\n",
              "      <td>11.862525</td>\n",
              "      <td>25.463354</td>\n",
              "      <td>8.479386e+02</td>\n",
              "      <td>0.411603</td>\n",
              "      <td>244.60</td>\n",
              "    </tr>\n",
              "  </tbody>\n",
              "</table>\n",
              "<p>153780 rows × 46 columns</p>\n",
              "</div>\n",
              "    <div class=\"colab-df-buttons\">\n",
              "\n",
              "  <div class=\"colab-df-container\">\n",
              "    <button class=\"colab-df-convert\" onclick=\"convertToInteractive('df-aba8fea7-6db3-40bd-b5a1-734f798f0889')\"\n",
              "            title=\"Convert this dataframe to an interactive table.\"\n",
              "            style=\"display:none;\">\n",
              "\n",
              "  <svg xmlns=\"http://www.w3.org/2000/svg\" height=\"24px\" viewBox=\"0 -960 960 960\">\n",
              "    <path d=\"M120-120v-720h720v720H120Zm60-500h600v-160H180v160Zm220 220h160v-160H400v160Zm0 220h160v-160H400v160ZM180-400h160v-160H180v160Zm440 0h160v-160H620v160ZM180-180h160v-160H180v160Zm440 0h160v-160H620v160Z\"/>\n",
              "  </svg>\n",
              "    </button>\n",
              "\n",
              "  <style>\n",
              "    .colab-df-container {\n",
              "      display:flex;\n",
              "      gap: 12px;\n",
              "    }\n",
              "\n",
              "    .colab-df-convert {\n",
              "      background-color: #E8F0FE;\n",
              "      border: none;\n",
              "      border-radius: 50%;\n",
              "      cursor: pointer;\n",
              "      display: none;\n",
              "      fill: #1967D2;\n",
              "      height: 32px;\n",
              "      padding: 0 0 0 0;\n",
              "      width: 32px;\n",
              "    }\n",
              "\n",
              "    .colab-df-convert:hover {\n",
              "      background-color: #E2EBFA;\n",
              "      box-shadow: 0px 1px 2px rgba(60, 64, 67, 0.3), 0px 1px 3px 1px rgba(60, 64, 67, 0.15);\n",
              "      fill: #174EA6;\n",
              "    }\n",
              "\n",
              "    .colab-df-buttons div {\n",
              "      margin-bottom: 4px;\n",
              "    }\n",
              "\n",
              "    [theme=dark] .colab-df-convert {\n",
              "      background-color: #3B4455;\n",
              "      fill: #D2E3FC;\n",
              "    }\n",
              "\n",
              "    [theme=dark] .colab-df-convert:hover {\n",
              "      background-color: #434B5C;\n",
              "      box-shadow: 0px 1px 3px 1px rgba(0, 0, 0, 0.15);\n",
              "      filter: drop-shadow(0px 1px 2px rgba(0, 0, 0, 0.3));\n",
              "      fill: #FFFFFF;\n",
              "    }\n",
              "  </style>\n",
              "\n",
              "    <script>\n",
              "      const buttonEl =\n",
              "        document.querySelector('#df-aba8fea7-6db3-40bd-b5a1-734f798f0889 button.colab-df-convert');\n",
              "      buttonEl.style.display =\n",
              "        google.colab.kernel.accessAllowed ? 'block' : 'none';\n",
              "\n",
              "      async function convertToInteractive(key) {\n",
              "        const element = document.querySelector('#df-aba8fea7-6db3-40bd-b5a1-734f798f0889');\n",
              "        const dataTable =\n",
              "          await google.colab.kernel.invokeFunction('convertToInteractive',\n",
              "                                                    [key], {});\n",
              "        if (!dataTable) return;\n",
              "\n",
              "        const docLinkHtml = 'Like what you see? Visit the ' +\n",
              "          '<a target=\"_blank\" href=https://colab.research.google.com/notebooks/data_table.ipynb>data table notebook</a>'\n",
              "          + ' to learn more about interactive tables.';\n",
              "        element.innerHTML = '';\n",
              "        dataTable['output_type'] = 'display_data';\n",
              "        await google.colab.output.renderOutput(dataTable, element);\n",
              "        const docLink = document.createElement('div');\n",
              "        docLink.innerHTML = docLinkHtml;\n",
              "        element.appendChild(docLink);\n",
              "      }\n",
              "    </script>\n",
              "  </div>\n",
              "\n",
              "\n",
              "<div id=\"df-d1e71d4f-160f-4d89-aa16-afd6522e1305\">\n",
              "  <button class=\"colab-df-quickchart\" onclick=\"quickchart('df-d1e71d4f-160f-4d89-aa16-afd6522e1305')\"\n",
              "            title=\"Suggest charts\"\n",
              "            style=\"display:none;\">\n",
              "\n",
              "<svg xmlns=\"http://www.w3.org/2000/svg\" height=\"24px\"viewBox=\"0 0 24 24\"\n",
              "     width=\"24px\">\n",
              "    <g>\n",
              "        <path d=\"M19 3H5c-1.1 0-2 .9-2 2v14c0 1.1.9 2 2 2h14c1.1 0 2-.9 2-2V5c0-1.1-.9-2-2-2zM9 17H7v-7h2v7zm4 0h-2V7h2v10zm4 0h-2v-4h2v4z\"/>\n",
              "    </g>\n",
              "</svg>\n",
              "  </button>\n",
              "\n",
              "<style>\n",
              "  .colab-df-quickchart {\n",
              "      --bg-color: #E8F0FE;\n",
              "      --fill-color: #1967D2;\n",
              "      --hover-bg-color: #E2EBFA;\n",
              "      --hover-fill-color: #174EA6;\n",
              "      --disabled-fill-color: #AAA;\n",
              "      --disabled-bg-color: #DDD;\n",
              "  }\n",
              "\n",
              "  [theme=dark] .colab-df-quickchart {\n",
              "      --bg-color: #3B4455;\n",
              "      --fill-color: #D2E3FC;\n",
              "      --hover-bg-color: #434B5C;\n",
              "      --hover-fill-color: #FFFFFF;\n",
              "      --disabled-bg-color: #3B4455;\n",
              "      --disabled-fill-color: #666;\n",
              "  }\n",
              "\n",
              "  .colab-df-quickchart {\n",
              "    background-color: var(--bg-color);\n",
              "    border: none;\n",
              "    border-radius: 50%;\n",
              "    cursor: pointer;\n",
              "    display: none;\n",
              "    fill: var(--fill-color);\n",
              "    height: 32px;\n",
              "    padding: 0;\n",
              "    width: 32px;\n",
              "  }\n",
              "\n",
              "  .colab-df-quickchart:hover {\n",
              "    background-color: var(--hover-bg-color);\n",
              "    box-shadow: 0 1px 2px rgba(60, 64, 67, 0.3), 0 1px 3px 1px rgba(60, 64, 67, 0.15);\n",
              "    fill: var(--button-hover-fill-color);\n",
              "  }\n",
              "\n",
              "  .colab-df-quickchart-complete:disabled,\n",
              "  .colab-df-quickchart-complete:disabled:hover {\n",
              "    background-color: var(--disabled-bg-color);\n",
              "    fill: var(--disabled-fill-color);\n",
              "    box-shadow: none;\n",
              "  }\n",
              "\n",
              "  .colab-df-spinner {\n",
              "    border: 2px solid var(--fill-color);\n",
              "    border-color: transparent;\n",
              "    border-bottom-color: var(--fill-color);\n",
              "    animation:\n",
              "      spin 1s steps(1) infinite;\n",
              "  }\n",
              "\n",
              "  @keyframes spin {\n",
              "    0% {\n",
              "      border-color: transparent;\n",
              "      border-bottom-color: var(--fill-color);\n",
              "      border-left-color: var(--fill-color);\n",
              "    }\n",
              "    20% {\n",
              "      border-color: transparent;\n",
              "      border-left-color: var(--fill-color);\n",
              "      border-top-color: var(--fill-color);\n",
              "    }\n",
              "    30% {\n",
              "      border-color: transparent;\n",
              "      border-left-color: var(--fill-color);\n",
              "      border-top-color: var(--fill-color);\n",
              "      border-right-color: var(--fill-color);\n",
              "    }\n",
              "    40% {\n",
              "      border-color: transparent;\n",
              "      border-right-color: var(--fill-color);\n",
              "      border-top-color: var(--fill-color);\n",
              "    }\n",
              "    60% {\n",
              "      border-color: transparent;\n",
              "      border-right-color: var(--fill-color);\n",
              "    }\n",
              "    80% {\n",
              "      border-color: transparent;\n",
              "      border-right-color: var(--fill-color);\n",
              "      border-bottom-color: var(--fill-color);\n",
              "    }\n",
              "    90% {\n",
              "      border-color: transparent;\n",
              "      border-bottom-color: var(--fill-color);\n",
              "    }\n",
              "  }\n",
              "</style>\n",
              "\n",
              "  <script>\n",
              "    async function quickchart(key) {\n",
              "      const quickchartButtonEl =\n",
              "        document.querySelector('#' + key + ' button');\n",
              "      quickchartButtonEl.disabled = true;  // To prevent multiple clicks.\n",
              "      quickchartButtonEl.classList.add('colab-df-spinner');\n",
              "      try {\n",
              "        const charts = await google.colab.kernel.invokeFunction(\n",
              "            'suggestCharts', [key], {});\n",
              "      } catch (error) {\n",
              "        console.error('Error during call to suggestCharts:', error);\n",
              "      }\n",
              "      quickchartButtonEl.classList.remove('colab-df-spinner');\n",
              "      quickchartButtonEl.classList.add('colab-df-quickchart-complete');\n",
              "    }\n",
              "    (() => {\n",
              "      let quickchartButtonEl =\n",
              "        document.querySelector('#df-d1e71d4f-160f-4d89-aa16-afd6522e1305 button');\n",
              "      quickchartButtonEl.style.display =\n",
              "        google.colab.kernel.accessAllowed ? 'block' : 'none';\n",
              "    })();\n",
              "  </script>\n",
              "</div>\n",
              "\n",
              "    </div>\n",
              "  </div>\n"
            ],
            "text/plain": [
              "       flow_duration  Header_Length  Protocol Type    Duration       Rate  \\\n",
              "0           0.000000   5.400000e+01       6.000000   64.000000   0.755172   \n",
              "1           0.017902   7.825600e+02       6.000000   64.590000  56.336008   \n",
              "2           0.052243   8.906000e+01       6.110000   64.000000  19.297399   \n",
              "3          25.823692   1.944859e+06       7.100000   78.600000  63.355780   \n",
              "4           6.937773   9.616700e+03      14.800000  108.100000  47.489550   \n",
              "...              ...            ...            ...         ...        ...   \n",
              "78403      31.860618   9.675582e+02      11.630763   78.876440  36.766655   \n",
              "78404      14.770410   5.476206e+05       6.390008  114.898551  79.693904   \n",
              "78405      38.117159   8.984971e+03       8.168788   81.843327   3.121561   \n",
              "78406      47.979774   5.006432e+03       7.351769  168.346316   1.056386   \n",
              "78407      28.136850   2.073216e+06       8.200000  206.838013  61.651866   \n",
              "\n",
              "           Srate  Drate  fin_flag_number  syn_flag_number  rst_flag_number  \\\n",
              "0       0.755172    0.0              0.0              0.0              0.0   \n",
              "1      56.336008    0.0              0.0              0.0              0.0   \n",
              "2      19.297399    0.0              0.0              0.0              0.0   \n",
              "3      63.355780    0.0              0.0              0.0              0.0   \n",
              "4      47.489550    0.0              0.0              0.0              0.0   \n",
              "...          ...    ...              ...              ...              ...   \n",
              "78403  36.766655    0.0              0.0              0.0              0.0   \n",
              "78404  79.693904    0.0              0.0              0.0              0.0   \n",
              "78405   3.121561    0.0              0.0              0.0              0.0   \n",
              "78406   1.056386    0.0              0.0              0.0              0.0   \n",
              "78407  61.651866    0.0              0.0              0.0              0.0   \n",
              "\n",
              "       ...          AVG          Std     Tot size           IAT  Number  \\\n",
              "0      ...    54.000000     0.000000    54.000000  8.333187e+07     9.5   \n",
              "1      ...    54.109009     0.447587    54.390000  8.331408e+07     9.5   \n",
              "2      ...    53.993673     0.026812    53.960000  8.331399e+07     9.5   \n",
              "3      ...  1288.936668  2334.163342  2526.400000  1.665199e+08    13.5   \n",
              "4      ...   106.352256    53.240355   103.600000  1.665239e+08    13.5   \n",
              "...    ...          ...          ...          ...           ...     ...   \n",
              "78403  ...   122.745903    67.244746    80.530959  1.665205e+08    13.5   \n",
              "78404  ...  1061.971751  1094.249809  1507.478756  5.269726e-03     5.5   \n",
              "78405  ...   173.775434   151.035861   173.155928  1.665248e+08    13.5   \n",
              "78406  ...   105.039363    56.217766   107.035573  1.665171e+08    13.5   \n",
              "78407  ...    71.826184    20.676569   117.380455  1.665227e+08    13.5   \n",
              "\n",
              "        Magnitue       Radius    Covariance  Variance  Weight  \n",
              "0      10.392305     0.000000  0.000000e+00  0.000000  141.55  \n",
              "1      10.402787     0.635935  4.048129e+00  0.050000  141.55  \n",
              "2      10.391685     0.038221  2.435074e-02  0.030000  141.55  \n",
              "3      49.962709  3307.011496  6.169782e+06  1.000000  244.60  \n",
              "4      14.542048    74.757580  2.799340e+03  1.000000  244.60  \n",
              "...          ...          ...           ...       ...     ...  \n",
              "78403  15.665170    95.195840  4.551595e+03  1.000000  244.60  \n",
              "78404  41.738500  1547.502921  1.638459e+06  0.770911   38.50  \n",
              "78405  18.607678   214.065296  2.448807e+04  1.000000  244.60  \n",
              "78406  14.485061    79.681479  3.204168e+03  1.000000  244.60  \n",
              "78407  11.862525    25.463354  8.479386e+02  0.411603  244.60  \n",
              "\n",
              "[153780 rows x 46 columns]"
            ]
          },
          "execution_count": 183,
          "metadata": {},
          "output_type": "execute_result"
        }
      ],
      "source": [
        "df.iloc[:, :-1]"
      ]
    },
    {
      "cell_type": "markdown",
      "metadata": {
        "id": "NT8cJv5TlUha"
      },
      "source": [
        "## Separación en conjunto de entrenamiento y de prueba"
      ]
    },
    {
      "cell_type": "code",
      "execution_count": 184,
      "metadata": {
        "id": "GbPRHnFI2qWd"
      },
      "outputs": [],
      "source": [
        "X_train, X_test, y_train, y_test = train_test_split(X, y, test_size=0.15, random_state=83)"
      ]
    },
    {
      "cell_type": "markdown",
      "metadata": {
        "id": "DbICRn26lYvD"
      },
      "source": [
        "## Normalización de datos"
      ]
    },
    {
      "cell_type": "markdown",
      "metadata": {
        "id": "incTHUtnleOM"
      },
      "source": [
        "Se instancia el escalador."
      ]
    },
    {
      "cell_type": "code",
      "execution_count": 185,
      "metadata": {
        "id": "FTYBQF1YI8dX"
      },
      "outputs": [],
      "source": [
        "scaler = StandardScaler()"
      ]
    },
    {
      "cell_type": "markdown",
      "metadata": {
        "id": "cgZ6AJoqlhVl"
      },
      "source": [
        "Se escalan los valores de X_train y X_test."
      ]
    },
    {
      "cell_type": "code",
      "execution_count": 186,
      "metadata": {
        "id": "KZ5xmZaf2skr"
      },
      "outputs": [],
      "source": [
        "X_train_scaled = scaler.fit_transform(X_train)\n",
        "X_test_scaled = scaler.transform(X_test)"
      ]
    },
    {
      "cell_type": "markdown",
      "metadata": {},
      "source": [
        "Se guarda el escalador para usarlo con los valores de prueba del modelo"
      ]
    },
    {
      "cell_type": "code",
      "execution_count": null,
      "metadata": {},
      "outputs": [],
      "source": [
        "with open('../creacion_modelo/Modelos entrenados/scaler.pkl', 'wb') as file:\n",
        "    pickle.dump(scaler, file)"
      ]
    },
    {
      "cell_type": "code",
      "execution_count": 187,
      "metadata": {
        "id": "ZfyXof7gcrtq"
      },
      "outputs": [],
      "source": [
        "y_train = y_train.astype(np.float32)\n",
        "y_test = y_test.astype(np.float32)"
      ]
    },
    {
      "cell_type": "markdown",
      "metadata": {
        "id": "Xl5Jks7jlnIn"
      },
      "source": [
        "## Callbacks\n",
        "\n"
      ]
    },
    {
      "cell_type": "markdown",
      "metadata": {
        "id": "dyrXDFaulyuX"
      },
      "source": [
        "### Callback de corte\n",
        "\n",
        "Este callback verifica el valor de accuracy al final de cada ciclo de entrenamiento. Si accuracy supera el 98 % corta el entrenaiento, optimizando recursos."
      ]
    },
    {
      "cell_type": "code",
      "execution_count": 188,
      "metadata": {
        "id": "wtwISO-Z2u3F"
      },
      "outputs": [],
      "source": [
        "class myCallback(tf.keras.callbacks.Callback):\n",
        "  def on_epoch_end(self, epoch, logs={}):\n",
        "    if(logs.get('accuracy') > 0.98):\n",
        "      print(\"\\n¡Accuracy >= 98%!\")\n",
        "      self.model.stop_training = True"
      ]
    },
    {
      "cell_type": "code",
      "execution_count": 189,
      "metadata": {
        "id": "ICBZszwN20W7"
      },
      "outputs": [],
      "source": [
        "callback_end = myCallback()"
      ]
    },
    {
      "cell_type": "markdown",
      "metadata": {
        "id": "kKn4mLTHmEYC"
      },
      "source": [
        "\n",
        "### EarlyStopping:\n",
        "\n",
        "Monitorea val_accuracy y corta el entrenamiento si se estanca en un mínimo local. Solo lo uso para las pruebas previas al modelo final.\n",
        "\n",
        "\n",
        "### ModelCheckpoint:\n",
        "\n",
        "Este callback verifica al final de cada iteración val_accuracy y siempre guarda el mejor modelo en función de esta métrica.\n",
        "\n",
        "\n",
        "### ReduceLROnPlateau:\n",
        "\n",
        "Monitorea val_accuracy en cada epoch y, si queda en un mínimo local, baja el parámetro learning_rate."
      ]
    },
    {
      "cell_type": "code",
      "execution_count": 190,
      "metadata": {
        "id": "0BKlgpP1tf-h"
      },
      "outputs": [],
      "source": [
        "# early_stopping = EarlyStopping(monitor='val_accuracy', patience=100, min_delta=0.003, restore_best_weights=True)\n",
        "model_checkpoint = ModelCheckpoint(filepath='../modelos_entrenados/modelo.h5', monitor='val_accuracy', save_best_only=True)\n",
        "\n",
        "reduce_lr = ReduceLROnPlateau(monitor='val_accuracy', factor=0.2, patience=3, min_lr=1e-6)\n",
        "callbacks = [reduce_lr, model_checkpoint, callback_end]"
      ]
    },
    {
      "cell_type": "markdown",
      "metadata": {
        "id": "Lhg3uNnLnfV9"
      },
      "source": [
        "## Creación del modelo\n",
        "\n",
        "El modelo está compuesto por capas convolucionales para extraer mejor características, capas de agrupamiento, capas de normalización, capas densas y capas de dropout para evitar el sobreajuste. Además, también para evitar el sobreajuste, se utiliza regularización L2."
      ]
    },
    {
      "cell_type": "code",
      "execution_count": 191,
      "metadata": {
        "id": "0NWN_UDl3GIW"
      },
      "outputs": [],
      "source": [
        "model = Sequential([\n",
        "        Conv1D(128, 3, activation='relu', input_shape=(X_train.shape[1], 1), padding='same'),\n",
        "        MaxPooling1D(2),\n",
        "        Conv1D(256, 3, activation='relu',  padding='same'),\n",
        "        BatchNormalization(),\n",
        "        Conv1D(512, 3, activation='relu',  padding='same', kernel_regularizer=l2(0.01)),\n",
        "        BatchNormalization(),\n",
        "        MaxPooling1D(2),\n",
        "        Flatten(),\n",
        "        Dense(1024, activation='relu', kernel_regularizer=l2(0.001)),\n",
        "        BatchNormalization(),\n",
        "        Dense(1024, activation='relu'),\n",
        "        Dense(1024, activation='relu', kernel_regularizer=l2(0.001)),\n",
        "        Dense(512, activation='sigmoid'),\n",
        "        Dense(512, activation='relu'),\n",
        "        Dense(256, activation='relu'),\n",
        "        Dense(256, activation='relu'),\n",
        "        Dropout(0.2),\n",
        "        Dense(1, activation='sigmoid')])\n"
      ]
    },
    {
      "cell_type": "markdown",
      "metadata": {
        "id": "qfwCjxUDoEDp"
      },
      "source": [
        "## Compilación del modelo\n",
        "\n",
        "Se especifican el optimizador, la tasa de aprendizaje, la función de pérdida y las métricas."
      ]
    },
    {
      "cell_type": "code",
      "execution_count": 192,
      "metadata": {
        "id": "OminjJI23Lhy"
      },
      "outputs": [],
      "source": [
        "model.compile(optimizer=Nadam(learning_rate=0.00038), loss= 'binary_crossentropy' , metrics=['accuracy', Precision(), Recall()])"
      ]
    },
    {
      "cell_type": "markdown",
      "metadata": {
        "id": "uhWPfacaoPja"
      },
      "source": [
        "## Entrenamiento del modelo\n",
        "\n",
        "Se especifican la cantidad de iteraciones, el tamaño de cada lote que debe procesar y los callbacks utilizados."
      ]
    },
    {
      "cell_type": "code",
      "execution_count": 193,
      "metadata": {
        "colab": {
          "base_uri": "https://localhost:8080/"
        },
        "id": "BtkJsdAC3P2c",
        "outputId": "c2d95b48-c29a-4ea7-ab8b-d846813748e3"
      },
      "outputs": [
        {
          "name": "stdout",
          "output_type": "stream",
          "text": [
            "Epoch 1/75\n",
            "128/128 [==============================] - 13s 52ms/step - loss: 2.7392 - accuracy: 0.8890 - precision_5: 0.9032 - recall_5: 0.8762 - val_loss: 1.3500 - val_accuracy: 0.5093 - val_precision_5: 0.5093 - val_recall_5: 1.0000 - lr: 3.8000e-04\n",
            "Epoch 2/75\n",
            "128/128 [==============================] - 4s 34ms/step - loss: 0.4531 - accuracy: 0.9107 - precision_5: 0.9196 - recall_5: 0.9039 - val_loss: 0.7637 - val_accuracy: 0.5093 - val_precision_5: 0.5093 - val_recall_5: 1.0000 - lr: 3.8000e-04\n",
            "Epoch 3/75\n",
            "128/128 [==============================] - 5s 37ms/step - loss: 0.2694 - accuracy: 0.9120 - precision_5: 0.9199 - recall_5: 0.9064 - val_loss: 0.6717 - val_accuracy: 0.5475 - val_precision_5: 0.5297 - val_recall_5: 0.9951 - lr: 3.8000e-04\n",
            "Epoch 4/75\n",
            "128/128 [==============================] - 5s 36ms/step - loss: 0.2361 - accuracy: 0.9139 - precision_5: 0.9222 - recall_5: 0.9078 - val_loss: 0.4245 - val_accuracy: 0.7868 - val_precision_5: 0.7148 - val_recall_5: 0.9671 - lr: 3.8000e-04\n",
            "Epoch 5/75\n",
            "128/128 [==============================] - 5s 37ms/step - loss: 0.2264 - accuracy: 0.9154 - precision_5: 0.9232 - recall_5: 0.9098 - val_loss: 0.2409 - val_accuracy: 0.9101 - val_precision_5: 0.8961 - val_recall_5: 0.9315 - lr: 3.8000e-04\n",
            "Epoch 6/75\n",
            "128/128 [==============================] - 4s 34ms/step - loss: 0.2212 - accuracy: 0.9166 - precision_5: 0.9245 - recall_5: 0.9108 - val_loss: 0.2365 - val_accuracy: 0.9079 - val_precision_5: 0.9550 - val_recall_5: 0.8596 - lr: 3.8000e-04\n",
            "Epoch 7/75\n",
            "128/128 [==============================] - 4s 34ms/step - loss: 0.2173 - accuracy: 0.9176 - precision_5: 0.9254 - recall_5: 0.9119 - val_loss: 0.2554 - val_accuracy: 0.9015 - val_precision_5: 0.9488 - val_recall_5: 0.8528 - lr: 3.8000e-04\n",
            "Epoch 8/75\n",
            "128/128 [==============================] - 6s 46ms/step - loss: 0.2143 - accuracy: 0.9181 - precision_5: 0.9272 - recall_5: 0.9109 - val_loss: 0.2232 - val_accuracy: 0.9167 - val_precision_5: 0.9405 - val_recall_5: 0.8930 - lr: 3.8000e-04\n",
            "Epoch 9/75\n",
            "128/128 [==============================] - 5s 36ms/step - loss: 0.2168 - accuracy: 0.9194 - precision_5: 0.9280 - recall_5: 0.9127 - val_loss: 0.2171 - val_accuracy: 0.9188 - val_precision_5: 0.9466 - val_recall_5: 0.8907 - lr: 3.8000e-04\n",
            "Epoch 10/75\n",
            "128/128 [==============================] - 4s 34ms/step - loss: 0.2091 - accuracy: 0.9206 - precision_5: 0.9302 - recall_5: 0.9127 - val_loss: 0.2223 - val_accuracy: 0.9177 - val_precision_5: 0.9393 - val_recall_5: 0.8964 - lr: 3.8000e-04\n",
            "Epoch 11/75\n",
            "128/128 [==============================] - 4s 34ms/step - loss: 0.2056 - accuracy: 0.9215 - precision_5: 0.9296 - recall_5: 0.9155 - val_loss: 0.2228 - val_accuracy: 0.9175 - val_precision_5: 0.9411 - val_recall_5: 0.8939 - lr: 3.8000e-04\n",
            "Epoch 12/75\n",
            "128/128 [==============================] - 4s 33ms/step - loss: 0.2027 - accuracy: 0.9229 - precision_5: 0.9306 - recall_5: 0.9172 - val_loss: 0.2156 - val_accuracy: 0.9180 - val_precision_5: 0.9347 - val_recall_5: 0.9021 - lr: 3.8000e-04\n",
            "Epoch 13/75\n",
            "128/128 [==============================] - 6s 50ms/step - loss: 0.1859 - accuracy: 0.9301 - precision_5: 0.9372 - recall_5: 0.9248 - val_loss: 0.1936 - val_accuracy: 0.9261 - val_precision_5: 0.9440 - val_recall_5: 0.9088 - lr: 7.6000e-05\n",
            "Epoch 14/75\n",
            "128/128 [==============================] - 5s 36ms/step - loss: 0.1754 - accuracy: 0.9338 - precision_5: 0.9415 - recall_5: 0.9278 - val_loss: 0.1910 - val_accuracy: 0.9284 - val_precision_5: 0.9331 - val_recall_5: 0.9259 - lr: 7.6000e-05\n",
            "Epoch 15/75\n",
            "128/128 [==============================] - 4s 34ms/step - loss: 0.1691 - accuracy: 0.9366 - precision_5: 0.9430 - recall_5: 0.9320 - val_loss: 0.1888 - val_accuracy: 0.9279 - val_precision_5: 0.9514 - val_recall_5: 0.9046 - lr: 7.6000e-05\n",
            "Epoch 16/75\n",
            "128/128 [==============================] - 6s 45ms/step - loss: 0.1646 - accuracy: 0.9387 - precision_5: 0.9463 - recall_5: 0.9326 - val_loss: 0.1832 - val_accuracy: 0.9322 - val_precision_5: 0.9395 - val_recall_5: 0.9265 - lr: 7.6000e-05\n",
            "Epoch 17/75\n",
            "128/128 [==============================] - 5s 36ms/step - loss: 0.1595 - accuracy: 0.9410 - precision_5: 0.9489 - recall_5: 0.9346 - val_loss: 0.1854 - val_accuracy: 0.9324 - val_precision_5: 0.9537 - val_recall_5: 0.9116 - lr: 7.6000e-05\n",
            "Epoch 18/75\n",
            "128/128 [==============================] - 5s 36ms/step - loss: 0.1551 - accuracy: 0.9431 - precision_5: 0.9523 - recall_5: 0.9353 - val_loss: 0.1821 - val_accuracy: 0.9341 - val_precision_5: 0.9505 - val_recall_5: 0.9184 - lr: 7.6000e-05\n",
            "Epoch 19/75\n",
            "128/128 [==============================] - 5s 36ms/step - loss: 0.1506 - accuracy: 0.9460 - precision_5: 0.9544 - recall_5: 0.9389 - val_loss: 0.1790 - val_accuracy: 0.9354 - val_precision_5: 0.9501 - val_recall_5: 0.9214 - lr: 7.6000e-05\n",
            "Epoch 20/75\n",
            "128/128 [==============================] - 5s 36ms/step - loss: 0.1454 - accuracy: 0.9480 - precision_5: 0.9560 - recall_5: 0.9414 - val_loss: 0.1784 - val_accuracy: 0.9379 - val_precision_5: 0.9412 - val_recall_5: 0.9367 - lr: 7.6000e-05\n",
            "Epoch 21/75\n",
            "128/128 [==============================] - 4s 34ms/step - loss: 0.1396 - accuracy: 0.9513 - precision_5: 0.9593 - recall_5: 0.9446 - val_loss: 0.1777 - val_accuracy: 0.9373 - val_precision_5: 0.9402 - val_recall_5: 0.9365 - lr: 7.6000e-05\n",
            "Epoch 22/75\n",
            "128/128 [==============================] - 5s 36ms/step - loss: 0.1346 - accuracy: 0.9540 - precision_5: 0.9624 - recall_5: 0.9467 - val_loss: 0.1710 - val_accuracy: 0.9415 - val_precision_5: 0.9468 - val_recall_5: 0.9378 - lr: 7.6000e-05\n",
            "Epoch 23/75\n",
            "128/128 [==============================] - 4s 33ms/step - loss: 0.1300 - accuracy: 0.9564 - precision_5: 0.9644 - recall_5: 0.9496 - val_loss: 0.1824 - val_accuracy: 0.9331 - val_precision_5: 0.9786 - val_recall_5: 0.8881 - lr: 7.6000e-05\n",
            "Epoch 24/75\n",
            "128/128 [==============================] - 5s 36ms/step - loss: 0.1239 - accuracy: 0.9591 - precision_5: 0.9658 - recall_5: 0.9535 - val_loss: 0.1665 - val_accuracy: 0.9448 - val_precision_5: 0.9566 - val_recall_5: 0.9340 - lr: 7.6000e-05\n",
            "Epoch 25/75\n",
            "128/128 [==============================] - 5s 36ms/step - loss: 0.1169 - accuracy: 0.9627 - precision_5: 0.9691 - recall_5: 0.9574 - val_loss: 0.1616 - val_accuracy: 0.9460 - val_precision_5: 0.9657 - val_recall_5: 0.9269 - lr: 7.6000e-05\n",
            "Epoch 26/75\n",
            "128/128 [==============================] - 5s 36ms/step - loss: 0.1111 - accuracy: 0.9649 - precision_5: 0.9712 - recall_5: 0.9595 - val_loss: 0.1575 - val_accuracy: 0.9499 - val_precision_5: 0.9596 - val_recall_5: 0.9413 - lr: 7.6000e-05\n",
            "Epoch 27/75\n",
            "128/128 [==============================] - 5s 36ms/step - loss: 0.1077 - accuracy: 0.9666 - precision_5: 0.9723 - recall_5: 0.9619 - val_loss: 0.1521 - val_accuracy: 0.9545 - val_precision_5: 0.9638 - val_recall_5: 0.9461 - lr: 7.6000e-05\n",
            "Epoch 28/75\n",
            "128/128 [==============================] - 4s 34ms/step - loss: 0.0999 - accuracy: 0.9700 - precision_5: 0.9753 - recall_5: 0.9657 - val_loss: 0.1522 - val_accuracy: 0.9534 - val_precision_5: 0.9634 - val_recall_5: 0.9443 - lr: 7.6000e-05\n",
            "Epoch 29/75\n",
            "128/128 [==============================] - 5s 36ms/step - loss: 0.0957 - accuracy: 0.9717 - precision_5: 0.9767 - recall_5: 0.9676 - val_loss: 0.1490 - val_accuracy: 0.9546 - val_precision_5: 0.9552 - val_recall_5: 0.9557 - lr: 7.6000e-05\n",
            "Epoch 30/75\n",
            "128/128 [==============================] - 5s 36ms/step - loss: 0.0916 - accuracy: 0.9735 - precision_5: 0.9782 - recall_5: 0.9696 - val_loss: 0.1423 - val_accuracy: 0.9591 - val_precision_5: 0.9643 - val_recall_5: 0.9550 - lr: 7.6000e-05\n",
            "Epoch 31/75\n",
            "128/128 [==============================] - 4s 34ms/step - loss: 0.0864 - accuracy: 0.9762 - precision_5: 0.9802 - recall_5: 0.9729 - val_loss: 0.1560 - val_accuracy: 0.9525 - val_precision_5: 0.9406 - val_recall_5: 0.9678 - lr: 7.6000e-05\n",
            "Epoch 32/75\n",
            "128/128 [==============================] - 4s 33ms/step - loss: 0.0839 - accuracy: 0.9772 - precision_5: 0.9812 - recall_5: 0.9739 - val_loss: 0.1538 - val_accuracy: 0.9555 - val_precision_5: 0.9504 - val_recall_5: 0.9629 - lr: 7.6000e-05\n",
            "Epoch 33/75\n",
            "128/128 [==============================] - 6s 47ms/step - loss: 0.0788 - accuracy: 0.9793 - precision_5: 0.9828 - recall_5: 0.9764 - val_loss: 0.1417 - val_accuracy: 0.9626 - val_precision_5: 0.9654 - val_recall_5: 0.9610 - lr: 7.6000e-05\n",
            "Epoch 34/75\n",
            "128/128 [==============================] - 4s 33ms/step - loss: 0.0766 - accuracy: 0.9799 - precision_5: 0.9835 - recall_5: 0.9770 - val_loss: 0.1533 - val_accuracy: 0.9576 - val_precision_5: 0.9441 - val_recall_5: 0.9746 - lr: 7.6000e-05\n",
            "Epoch 35/75\n",
            "127/128 [============================>.] - ETA: 0s - loss: 0.0735 - accuracy: 0.9814 - precision_5: 0.9846 - recall_5: 0.9790\n",
            "¡Accuracy >= 98%!\n",
            "128/128 [==============================] - 5s 36ms/step - loss: 0.0735 - accuracy: 0.9814 - precision_5: 0.9846 - recall_5: 0.9790 - val_loss: 0.1414 - val_accuracy: 0.9654 - val_precision_5: 0.9683 - val_recall_5: 0.9637 - lr: 7.6000e-05\n"
          ]
        }
      ],
      "source": [
        "historial = model.fit(X_train_scaled, y_train, epochs=75, batch_size=1024, validation_data=(X_test_scaled, y_test), callbacks=callbacks)"
      ]
    },
    {
      "cell_type": "markdown",
      "metadata": {
        "id": "jpYra-6womyP"
      },
      "source": [
        "## Función para mostrar las métricas"
      ]
    },
    {
      "cell_type": "code",
      "execution_count": 194,
      "metadata": {
        "id": "St6afW7X3nl8"
      },
      "outputs": [],
      "source": [
        "def grafico_metricas(historial:any, metricas:list) -> None:\n",
        "    for metrica in metricas:\n",
        "        plt.plot(historial.history[metrica])\n",
        "    plt.xlabel(\"Epochs\")\n",
        "    plt.legend(metricas)\n",
        "    plt.show()"
      ]
    },
    {
      "cell_type": "markdown",
      "metadata": {
        "id": "pSCnIWMiorRM"
      },
      "source": [
        "## Gráfico de la función de pérdida"
      ]
    },
    {
      "cell_type": "code",
      "execution_count": 195,
      "metadata": {
        "colab": {
          "base_uri": "https://localhost:8080/",
          "height": 449
        },
        "id": "vI-y8k103r-u",
        "outputId": "2d7ca0d9-9f60-4ffc-fdaf-50de7e41929f"
      },
      "outputs": [
        {
          "data": {
            "image/png": "[encoded data removed]",
            "text/plain": [
              "<Figure size 640x480 with 1 Axes>"
            ]
          },
          "metadata": {},
          "output_type": "display_data"
        }
      ],
      "source": [
        "grafico_metricas(historial, ['loss', 'val_loss'])"
      ]
    },
    {
      "cell_type": "markdown",
      "metadata": {
        "id": "fvaLNcaqoxa2"
      },
      "source": [
        "## Gráfico de accuracy y val_accuracy"
      ]
    },
    {
      "cell_type": "code",
      "execution_count": 196,
      "metadata": {
        "colab": {
          "base_uri": "https://localhost:8080/",
          "height": 451
        },
        "id": "1V05c0bu3sg2",
        "outputId": "0cb8f17c-6351-4055-9a8b-a5fd17b6b5c6"
      },
      "outputs": [
        {
          "data": {
            "image/png": "[encoded data removed]",
            "text/plain": [
              "<Figure size 640x480 with 1 Axes>"
            ]
          },
          "metadata": {},
          "output_type": "display_data"
        }
      ],
      "source": [
        "grafico_metricas(historial, ['accuracy', 'val_accuracy'])"
      ]
    },
    {
      "cell_type": "markdown",
      "metadata": {
        "id": "11d8VyGCo3ID"
      },
      "source": [
        "## Gráfico de tasa de aprendizaje"
      ]
    },
    {
      "cell_type": "code",
      "execution_count": 197,
      "metadata": {
        "colab": {
          "base_uri": "https://localhost:8080/",
          "height": 449
        },
        "id": "Hkvlz_drUMKF",
        "outputId": "cf20824b-ea16-43f0-8130-45665538fcd7"
      },
      "outputs": [
        {
          "data": {
            "image/png": "[encoded data removed]",
            "text/plain": [
              "<Figure size 640x480 with 1 Axes>"
            ]
          },
          "metadata": {},
          "output_type": "display_data"
        }
      ],
      "source": [
        "grafico_metricas(historial, ['lr'])"
      ]
    },
    {
      "cell_type": "markdown",
      "metadata": {
        "id": "8X2qNNKCpDRN"
      },
      "source": [
        "## Evaluación del modelo"
      ]
    },
    {
      "cell_type": "code",
      "execution_count": 198,
      "metadata": {
        "colab": {
          "base_uri": "https://localhost:8080/"
        },
        "id": "A4cgp5ugs4n7",
        "outputId": "7afd0272-33ed-4b10-c5e3-7d3860540048"
      },
      "outputs": [
        {
          "name": "stdout",
          "output_type": "stream",
          "text": [
            "4085/4085 [==============================] - 12s 3ms/step - loss: 0.0675 - accuracy: 0.9839 - precision_5: 0.9839 - recall_5: 0.9844\n"
          ]
        },
        {
          "data": {
            "text/plain": [
              "[0.06747422367334366, 0.9838577508926392, 0.983940839767456, 0.984413206577301]"
            ]
          },
          "execution_count": 198,
          "metadata": {},
          "output_type": "execute_result"
        }
      ],
      "source": [
        "model.evaluate(X_train_scaled, y_train)"
      ]
    },
    {
      "cell_type": "code",
      "execution_count": 199,
      "metadata": {
        "colab": {
          "base_uri": "https://localhost:8080/"
        },
        "id": "mTQIVCWzs2vE",
        "outputId": "ae81c8f0-5368-43a9-c498-9cd4647412be"
      },
      "outputs": [
        {
          "name": "stdout",
          "output_type": "stream",
          "text": [
            "721/721 [==============================] - 2s 3ms/step - loss: 0.1414 - accuracy: 0.9655 - precision_5: 0.9683 - recall_5: 0.9638\n"
          ]
        },
        {
          "data": {
            "text/plain": [
              "[0.14141197502613068,\n",
              " 0.9654918313026428,\n",
              " 0.9682770371437073,\n",
              " 0.9638267159461975]"
            ]
          },
          "execution_count": 199,
          "metadata": {},
          "output_type": "execute_result"
        }
      ],
      "source": [
        "model.evaluate(X_test_scaled, y_test)"
      ]
    }
  ],
  "metadata": {
    "accelerator": "GPU",
    "colab": {
      "gpuType": "L4",
      "machine_shape": "hm",
      "provenance": []
    },
    "kernelspec": {
      "display_name": "Python 3",
      "name": "python3"
    },
    "language_info": {
      "codemirror_mode": {
        "name": "ipython",
        "version": 3
      },
      "file_extension": ".py",
      "mimetype": "text/x-python",
      "name": "python",
      "nbconvert_exporter": "python",
      "pygments_lexer": "ipython3",
      "version": "3.12.1"
    }
  },
  "nbformat": 4,
  "nbformat_minor": 0
}
